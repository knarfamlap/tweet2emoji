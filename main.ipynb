{
 "cells": [
  {
   "cell_type": "code",
   "execution_count": 4,
   "metadata": {},
   "outputs": [],
   "source": [
    "import warnings\n",
    "warnings.filterwarnings(\"ignore\") \n",
    "\n",
    "import pandas as pd\n",
    "import numpy as np\n",
    "import matplotlib.pyplot as plt\n",
    "import seaborn as sns\n",
    "import nltk\n",
    "from tqdm import tqdm\n",
    "\n",
    "import pickle\n",
    "import os\n",
    "import re\n",
    "\n",
    "import bz2\n",
    "import _pickle as cPickle\n",
    "\n",
    "from keras.preprocessing.text import Tokenizer\n",
    "from keras.preprocessing.sequence import pad_sequences\n",
    "from keras.models import Sequential\n",
    "from keras.layers import *\n",
    "from keras.utils.np_utils import to_categorical\n",
    "from keras.initializers import Constant\n",
    "from keras import regularizers\n",
    "\n",
    "import tensorflow as tf\n",
    "\n",
    "from sklearn.model_selection import train_test_split\n",
    "from sklearn.metrics import f1_score\n",
    "from sklearn.svm import SVC\n",
    "from sklearn.feature_extraction.text import HashingVectorizer"
   ]
  },
  {
   "cell_type": "code",
   "execution_count": 5,
   "metadata": {},
   "outputs": [],
   "source": [
    "TWEMOJI_DATASET = './datasets/samples/combined_csv.csv'\n",
    "EMOJI_MAPPINGS = './datasets/emoji_map_1791.csv'\n",
    "pkl_dest = os.path.join('src', 'pkl_objects')"
   ]
  },
  {
   "cell_type": "code",
   "execution_count": 6,
   "metadata": {},
   "outputs": [],
   "source": [
    "twemoji = pd.read_csv(TWEMOJI_DATASET)"
   ]
  },
  {
   "cell_type": "code",
   "execution_count": 7,
   "metadata": {},
   "outputs": [],
   "source": [
    "mappings = pd.read_csv(EMOJI_MAPPINGS)"
   ]
  },
  {
   "cell_type": "code",
   "execution_count": 8,
   "metadata": {},
   "outputs": [],
   "source": [
    "twemoji = twemoji.reindex(np.random.permutation(twemoji.index))"
   ]
  },
  {
   "cell_type": "markdown",
   "metadata": {},
   "source": [
    "# Mappings"
   ]
  },
  {
   "cell_type": "code",
   "execution_count": 9,
   "metadata": {},
   "outputs": [
    {
     "data": {
      "text/html": [
       "<div>\n",
       "<style scoped>\n",
       "    .dataframe tbody tr th:only-of-type {\n",
       "        vertical-align: middle;\n",
       "    }\n",
       "\n",
       "    .dataframe tbody tr th {\n",
       "        vertical-align: top;\n",
       "    }\n",
       "\n",
       "    .dataframe thead th {\n",
       "        text-align: right;\n",
       "    }\n",
       "</style>\n",
       "<table border=\"1\" class=\"dataframe\">\n",
       "  <thead>\n",
       "    <tr style=\"text-align: right;\">\n",
       "      <th></th>\n",
       "      <th>Unnamed: 0</th>\n",
       "      <th>category</th>\n",
       "      <th>title</th>\n",
       "      <th>shorts</th>\n",
       "      <th>unicode_alternates</th>\n",
       "      <th>keywords</th>\n",
       "      <th>ucode_short</th>\n",
       "      <th>ucode</th>\n",
       "      <th>aliases</th>\n",
       "      <th>alt_title</th>\n",
       "      <th>aliases_ascii</th>\n",
       "    </tr>\n",
       "  </thead>\n",
       "  <tbody>\n",
       "    <tr>\n",
       "      <th>0</th>\n",
       "      <td>#️⃣</td>\n",
       "      <td>symbols</td>\n",
       "      <td>keycap number sign</td>\n",
       "      <td>[hash]</td>\n",
       "      <td>0023-fe0f-20e3</td>\n",
       "      <td>[keycap, symbol, pound, hash, number]</td>\n",
       "      <td>0023_fe0f_20e3</td>\n",
       "      <td>#️⃣</td>\n",
       "      <td>NaN</td>\n",
       "      <td>NaN</td>\n",
       "      <td>NaN</td>\n",
       "    </tr>\n",
       "    <tr>\n",
       "      <th>1</th>\n",
       "      <td>*️⃣</td>\n",
       "      <td>symbols</td>\n",
       "      <td>keycap asterisk</td>\n",
       "      <td>[asterisk]</td>\n",
       "      <td>002a-fe0f-20e3</td>\n",
       "      <td>[keycap, symbol, asterisk, star]</td>\n",
       "      <td>002a_fe0f_20e3</td>\n",
       "      <td>*️⃣</td>\n",
       "      <td>[:keycap_asterisk:]</td>\n",
       "      <td>NaN</td>\n",
       "      <td>NaN</td>\n",
       "    </tr>\n",
       "    <tr>\n",
       "      <th>2</th>\n",
       "      <td>0️⃣</td>\n",
       "      <td>symbols</td>\n",
       "      <td>keycap digit zero</td>\n",
       "      <td>[zero]</td>\n",
       "      <td>0030-fe0f-20e3</td>\n",
       "      <td>[, keycap, symbol, number, zero, math]</td>\n",
       "      <td>0030_fe0f_20e3</td>\n",
       "      <td>0️⃣</td>\n",
       "      <td>NaN</td>\n",
       "      <td>NaN</td>\n",
       "      <td>NaN</td>\n",
       "    </tr>\n",
       "    <tr>\n",
       "      <th>3</th>\n",
       "      <td>1️⃣</td>\n",
       "      <td>symbols</td>\n",
       "      <td>keycap digit one</td>\n",
       "      <td>[one]</td>\n",
       "      <td>0031-fe0f-20e3</td>\n",
       "      <td>[, keycap, symbol, number, one, math]</td>\n",
       "      <td>0031_fe0f_20e3</td>\n",
       "      <td>1️⃣</td>\n",
       "      <td>NaN</td>\n",
       "      <td>NaN</td>\n",
       "      <td>NaN</td>\n",
       "    </tr>\n",
       "    <tr>\n",
       "      <th>4</th>\n",
       "      <td>2️⃣</td>\n",
       "      <td>symbols</td>\n",
       "      <td>keycap digit two</td>\n",
       "      <td>[two]</td>\n",
       "      <td>0032-fe0f-20e3</td>\n",
       "      <td>[, keycap, symbol, two, number, math]</td>\n",
       "      <td>0032_fe0f_20e3</td>\n",
       "      <td>2️⃣</td>\n",
       "      <td>NaN</td>\n",
       "      <td>NaN</td>\n",
       "      <td>NaN</td>\n",
       "    </tr>\n",
       "  </tbody>\n",
       "</table>\n",
       "</div>"
      ],
      "text/plain": [
       "  Unnamed: 0 category               title      shorts unicode_alternates  \\\n",
       "0        #️⃣  symbols  keycap number sign      [hash]     0023-fe0f-20e3   \n",
       "1        *️⃣  symbols     keycap asterisk  [asterisk]     002a-fe0f-20e3   \n",
       "2        0️⃣  symbols   keycap digit zero      [zero]     0030-fe0f-20e3   \n",
       "3        1️⃣  symbols    keycap digit one       [one]     0031-fe0f-20e3   \n",
       "4        2️⃣  symbols    keycap digit two       [two]     0032-fe0f-20e3   \n",
       "\n",
       "                                 keywords     ucode_short ucode  \\\n",
       "0   [keycap, symbol, pound, hash, number]  0023_fe0f_20e3   #️⃣   \n",
       "1        [keycap, symbol, asterisk, star]  002a_fe0f_20e3   *️⃣   \n",
       "2  [, keycap, symbol, number, zero, math]  0030_fe0f_20e3   0️⃣   \n",
       "3   [, keycap, symbol, number, one, math]  0031_fe0f_20e3   1️⃣   \n",
       "4   [, keycap, symbol, two, number, math]  0032_fe0f_20e3   2️⃣   \n",
       "\n",
       "               aliases alt_title aliases_ascii  \n",
       "0                  NaN       NaN           NaN  \n",
       "1  [:keycap_asterisk:]       NaN           NaN  \n",
       "2                  NaN       NaN           NaN  \n",
       "3                  NaN       NaN           NaN  \n",
       "4                  NaN       NaN           NaN  "
      ]
     },
     "execution_count": 9,
     "metadata": {},
     "output_type": "execute_result"
    }
   ],
   "source": [
    "# we can see that we now have the dataframe that contain all \n",
    "# the emoji mappings\n",
    "mappings.head(5) "
   ]
  },
  {
   "cell_type": "markdown",
   "metadata": {},
   "source": [
    "# Cleaning and Preparing"
   ]
  },
  {
   "cell_type": "code",
   "execution_count": 10,
   "metadata": {},
   "outputs": [],
   "source": [
    "replace_puncts = {'`': \"'\", '′': \"'\", '“':'\"', '”': '\"', '‘': \"'\"}\n",
    "\n",
    "strip_chars = [',', '.', '\"', ':', ')', '(', '-', '|', ';', \"'\", '[', ']', '>', '=', '+', '\\\\', '•',  '~', '@', \n",
    " '·', '_', '{', '}', '©', '^', '®', '`',  '<', '→', '°', '€', '™', '›',  '♥', '←', '×', '§', '″', '′', 'Â', '█', '½', 'à', '…', \n",
    " '“', '★', '”', '–', '●', 'â', '►', '−', '¢', '²', '¬', '░', '¶', '↑', '±', '¿', '▾', '═', '¦', '║', '―', '¥', '▓', '—', '‹', '─', \n",
    " '▒', '：', '¼', '⊕', '▼', '▪', '†', '■', '’', '▀', '¨', '▄', '♫', '☆', 'é', '¯', '♦', '¤', '▲', 'è', '¸', '¾', 'Ã', '⋅', '‘', '∞', \n",
    " '∙', '）', '↓', '、', '│', '（', '»', '，', '♪', '╩', '╚', '³', '・', '╦', '╣', '╔', '╗', '▬', '❤', 'ï', 'Ø', '¹', '≤', '‡', '√', ]\n",
    "\n",
    "puncts = ['!', '?', '$', '&', '/', '%', '#', '*','£']"
   ]
  },
  {
   "cell_type": "code",
   "execution_count": 11,
   "metadata": {},
   "outputs": [],
   "source": [
    "def clean_str(x):\n",
    "    x = str(x)\n",
    "    \n",
    "    x = x.lower()\n",
    "    \n",
    "    x = re.sub(r\"(https?:\\/\\/(?:www\\.|(?!www))[a-zA-Z0-9][a-zA-Z0-9-]+[a-zA-Z0-9]\\.[^\\s]{2,}|www\\.[a-zA-Z0-9][a-zA-Z0-9-]+[a-zA-Z0-9]\\.[^\\s]{2,}|https?:\\/\\/(?:www\\.|(?!www))[a-zA-Z0-9]\\.[^\\s]{2,}|www\\.[a-zA-Z0-9]\\.[^\\s]{2,})\", \"url\", x)\n",
    "    \n",
    "    for k, v in replace_puncts.items():\n",
    "        x = x.replace(k, f' {v} ')\n",
    "        \n",
    "    for punct in strip_chars:\n",
    "        x = x.replace(punct, ' ')\n",
    "        \n",
    "    for punct in puncts:\n",
    "        x = x.replace(punct, f' {punct} ')\n",
    "        \n",
    "    x = x.replace(\" '\", \" \")\n",
    "    x = x.replace(\"' \", \" \")\n",
    "    \n",
    "    return x"
   ]
  },
  {
   "cell_type": "code",
   "execution_count": 12,
   "metadata": {},
   "outputs": [
    {
     "data": {
      "text/plain": [
       "Index(['id', 'annotations', 'id_text'], dtype='object')"
      ]
     },
     "execution_count": 12,
     "metadata": {},
     "output_type": "execute_result"
    }
   ],
   "source": [
    "# lets see how many columns \n",
    "# does the dataset have\n",
    "twemoji.columns"
   ]
  },
  {
   "cell_type": "code",
   "execution_count": 13,
   "metadata": {},
   "outputs": [],
   "source": [
    "# rename annotations to target\n",
    "# rename id_text to tweet\n",
    "twemoji = twemoji.rename(columns={\"annotations\":'target', \"id_text\":\"text\"})"
   ]
  },
  {
   "cell_type": "code",
   "execution_count": 14,
   "metadata": {},
   "outputs": [
    {
     "data": {
      "text/html": [
       "<div>\n",
       "<style scoped>\n",
       "    .dataframe tbody tr th:only-of-type {\n",
       "        vertical-align: middle;\n",
       "    }\n",
       "\n",
       "    .dataframe tbody tr th {\n",
       "        vertical-align: top;\n",
       "    }\n",
       "\n",
       "    .dataframe thead th {\n",
       "        text-align: right;\n",
       "    }\n",
       "</style>\n",
       "<table border=\"1\" class=\"dataframe\">\n",
       "  <thead>\n",
       "    <tr style=\"text-align: right;\">\n",
       "      <th></th>\n",
       "      <th>id</th>\n",
       "      <th>target</th>\n",
       "      <th>text</th>\n",
       "    </tr>\n",
       "  </thead>\n",
       "  <tbody>\n",
       "    <tr>\n",
       "      <th>481003</th>\n",
       "      <td>748245375362949121</td>\n",
       "      <td>1403</td>\n",
       "      <td>NaN</td>\n",
       "    </tr>\n",
       "    <tr>\n",
       "      <th>3606167</th>\n",
       "      <td>746219050917732354</td>\n",
       "      <td>1466</td>\n",
       "      <td>NaN</td>\n",
       "    </tr>\n",
       "    <tr>\n",
       "      <th>3767843</th>\n",
       "      <td>744047565268783108</td>\n",
       "      <td>1138</td>\n",
       "      <td>NaN</td>\n",
       "    </tr>\n",
       "    <tr>\n",
       "      <th>3356617</th>\n",
       "      <td>748444274472038400_q</td>\n",
       "      <td>1393</td>\n",
       "      <td>NaN</td>\n",
       "    </tr>\n",
       "    <tr>\n",
       "      <th>949968</th>\n",
       "      <td>742749517452283904</td>\n",
       "      <td>1381</td>\n",
       "      <td>NaN</td>\n",
       "    </tr>\n",
       "  </tbody>\n",
       "</table>\n",
       "</div>"
      ],
      "text/plain": [
       "                           id  target text\n",
       "481003     748245375362949121    1403  NaN\n",
       "3606167    746219050917732354    1466  NaN\n",
       "3767843    744047565268783108    1138  NaN\n",
       "3356617  748444274472038400_q    1393  NaN\n",
       "949968     742749517452283904    1381  NaN"
      ]
     },
     "execution_count": 14,
     "metadata": {},
     "output_type": "execute_result"
    }
   ],
   "source": [
    "twemoji.head() "
   ]
  },
  {
   "cell_type": "code",
   "execution_count": 15,
   "metadata": {},
   "outputs": [],
   "source": [
    "# since the id column is no longer needed\n",
    "# we can simply drop it\n",
    "twemoji = twemoji.drop(columns=[\"id\"])"
   ]
  },
  {
   "cell_type": "code",
   "execution_count": 16,
   "metadata": {},
   "outputs": [
    {
     "data": {
      "text/html": [
       "<div>\n",
       "<style scoped>\n",
       "    .dataframe tbody tr th:only-of-type {\n",
       "        vertical-align: middle;\n",
       "    }\n",
       "\n",
       "    .dataframe tbody tr th {\n",
       "        vertical-align: top;\n",
       "    }\n",
       "\n",
       "    .dataframe thead th {\n",
       "        text-align: right;\n",
       "    }\n",
       "</style>\n",
       "<table border=\"1\" class=\"dataframe\">\n",
       "  <thead>\n",
       "    <tr style=\"text-align: right;\">\n",
       "      <th></th>\n",
       "      <th>target</th>\n",
       "      <th>text</th>\n",
       "    </tr>\n",
       "  </thead>\n",
       "  <tbody>\n",
       "    <tr>\n",
       "      <th>481003</th>\n",
       "      <td>1403</td>\n",
       "      <td>NaN</td>\n",
       "    </tr>\n",
       "    <tr>\n",
       "      <th>3606167</th>\n",
       "      <td>1466</td>\n",
       "      <td>NaN</td>\n",
       "    </tr>\n",
       "    <tr>\n",
       "      <th>3767843</th>\n",
       "      <td>1138</td>\n",
       "      <td>NaN</td>\n",
       "    </tr>\n",
       "    <tr>\n",
       "      <th>3356617</th>\n",
       "      <td>1393</td>\n",
       "      <td>NaN</td>\n",
       "    </tr>\n",
       "    <tr>\n",
       "      <th>949968</th>\n",
       "      <td>1381</td>\n",
       "      <td>NaN</td>\n",
       "    </tr>\n",
       "  </tbody>\n",
       "</table>\n",
       "</div>"
      ],
      "text/plain": [
       "         target text\n",
       "481003     1403  NaN\n",
       "3606167    1466  NaN\n",
       "3767843    1138  NaN\n",
       "3356617    1393  NaN\n",
       "949968     1381  NaN"
      ]
     },
     "execution_count": 16,
     "metadata": {},
     "output_type": "execute_result"
    }
   ],
   "source": [
    "twemoji.head()"
   ]
  },
  {
   "cell_type": "code",
   "execution_count": 17,
   "metadata": {},
   "outputs": [
    {
     "data": {
      "text/plain": [
       "3878060"
      ]
     },
     "execution_count": 17,
     "metadata": {},
     "output_type": "execute_result"
    }
   ],
   "source": [
    "# Lets check how many null values exist in \n",
    "# the dataset\n",
    "twemoji['text'].isna().sum()"
   ]
  },
  {
   "cell_type": "code",
   "execution_count": 18,
   "metadata": {},
   "outputs": [],
   "source": [
    "# We can't do much with null values\n",
    "# So we drop them\n",
    "twemoji = twemoji.dropna()"
   ]
  },
  {
   "cell_type": "code",
   "execution_count": 19,
   "metadata": {},
   "outputs": [],
   "source": [
    "twemoji['text'] = twemoji['text'].apply(clean_str)"
   ]
  },
  {
   "cell_type": "code",
   "execution_count": 20,
   "metadata": {},
   "outputs": [
    {
     "data": {
      "text/html": [
       "<div>\n",
       "<style scoped>\n",
       "    .dataframe tbody tr th:only-of-type {\n",
       "        vertical-align: middle;\n",
       "    }\n",
       "\n",
       "    .dataframe tbody tr th {\n",
       "        vertical-align: top;\n",
       "    }\n",
       "\n",
       "    .dataframe thead th {\n",
       "        text-align: right;\n",
       "    }\n",
       "</style>\n",
       "<table border=\"1\" class=\"dataframe\">\n",
       "  <thead>\n",
       "    <tr style=\"text-align: right;\">\n",
       "      <th></th>\n",
       "      <th>target</th>\n",
       "      <th>text</th>\n",
       "    </tr>\n",
       "  </thead>\n",
       "  <tbody>\n",
       "    <tr>\n",
       "      <th>1823397</th>\n",
       "      <td>982</td>\n",
       "      <td>white</td>\n",
       "    </tr>\n",
       "    <tr>\n",
       "      <th>1489455</th>\n",
       "      <td>1420</td>\n",
       "      <td>drake    i love you</td>\n",
       "    </tr>\n",
       "    <tr>\n",
       "      <th>1511553</th>\n",
       "      <td>1446</td>\n",
       "      <td>i m about to wear sunglasses in my house becau...</td>\n",
       "    </tr>\n",
       "    <tr>\n",
       "      <th>1751250</th>\n",
       "      <td>1381</td>\n",
       "      <td>dead</td>\n",
       "    </tr>\n",
       "    <tr>\n",
       "      <th>1261454</th>\n",
       "      <td>1112</td>\n",
       "      <td>sounds like heaven to me !</td>\n",
       "    </tr>\n",
       "  </tbody>\n",
       "</table>\n",
       "</div>"
      ],
      "text/plain": [
       "         target                                               text\n",
       "1823397     982                                              white\n",
       "1489455    1420                                drake    i love you\n",
       "1511553    1446  i m about to wear sunglasses in my house becau...\n",
       "1751250    1381                                               dead\n",
       "1261454    1112                        sounds like heaven to me ! "
      ]
     },
     "execution_count": 20,
     "metadata": {},
     "output_type": "execute_result"
    }
   ],
   "source": [
    "twemoji.head()"
   ]
  },
  {
   "cell_type": "code",
   "execution_count": 21,
   "metadata": {},
   "outputs": [
    {
     "data": {
      "text/plain": [
       "(88567, 2)"
      ]
     },
     "execution_count": 21,
     "metadata": {},
     "output_type": "execute_result"
    }
   ],
   "source": [
    "# Lets check how big is the data set now\n",
    "twemoji.shape"
   ]
  },
  {
   "cell_type": "markdown",
   "metadata": {},
   "source": [
    "# Exploration"
   ]
  },
  {
   "cell_type": "code",
   "execution_count": 22,
   "metadata": {},
   "outputs": [
    {
     "data": {
      "text/plain": [
       "<AxesSubplot:xlabel='target'>"
      ]
     },
     "execution_count": 22,
     "metadata": {},
     "output_type": "execute_result"
    },
    {
     "data": {
      "image/png": "[encoded data removed]",
      "text/plain": [
       "<Figure size 432x288 with 1 Axes>"
      ]
     },
     "metadata": {
      "needs_background": "light"
     },
     "output_type": "display_data"
    }
   ],
   "source": [
    "# lets see the distribution of our target values\n",
    "sns.distplot(twemoji['target'], color='red', bins=10)"
   ]
  },
  {
   "cell_type": "code",
   "execution_count": 23,
   "metadata": {},
   "outputs": [
    {
     "data": {
      "text/plain": [
       "1381"
      ]
     },
     "execution_count": 23,
     "metadata": {},
     "output_type": "execute_result"
    }
   ],
   "source": [
    "most_frequent = twemoji['target'].value_counts().idxmax() \n",
    "most_frequent"
   ]
  },
  {
   "cell_type": "code",
   "execution_count": 24,
   "metadata": {},
   "outputs": [
    {
     "data": {
      "text/plain": [
       "Unnamed: 0                                                            😂\n",
       "category                                                         people\n",
       "title                                            face with tears of joy\n",
       "shorts                                                            [joy]\n",
       "unicode_alternates                                                  NaN\n",
       "keywords              [emotion, cry, tear, joy, smiley, sarcastic, f...\n",
       "ucode_short                                                       1f602\n",
       "ucode                                                                 😂\n",
       "aliases                                                             NaN\n",
       "alt_title                                                           NaN\n",
       "aliases_ascii                                               [:'), :'-)]\n",
       "Name: 1381, dtype: object"
      ]
     },
     "execution_count": 24,
     "metadata": {},
     "output_type": "execute_result"
    }
   ],
   "source": [
    "# The laughing face emoji is the most popular in this dataset\n",
    "mappings.loc[most_frequent]"
   ]
  },
  {
   "cell_type": "code",
   "execution_count": 25,
   "metadata": {},
   "outputs": [
    {
     "data": {
      "text/plain": [
       "[1381,\n",
       " 1447,\n",
       " 1424,\n",
       " 1392,\n",
       " 1389,\n",
       " 186,\n",
       " 1620,\n",
       " 1420,\n",
       " 1446,\n",
       " 1403,\n",
       " 1138,\n",
       " 1397,\n",
       " 1384,\n",
       " 1107,\n",
       " 830,\n",
       " 1056,\n",
       " 1393,\n",
       " 1380,\n",
       " 1394,\n",
       " 1210]"
      ]
     },
     "execution_count": 25,
     "metadata": {},
     "output_type": "execute_result"
    }
   ],
   "source": [
    "# Lets see the 10 most frequently used emojis\n",
    "top_twenty = twemoji['target'].value_counts()[:20].index.tolist() \n",
    "top_twenty"
   ]
  },
  {
   "cell_type": "code",
   "execution_count": 26,
   "metadata": {},
   "outputs": [
    {
     "data": {
      "text/html": [
       "<div>\n",
       "<style scoped>\n",
       "    .dataframe tbody tr th:only-of-type {\n",
       "        vertical-align: middle;\n",
       "    }\n",
       "\n",
       "    .dataframe tbody tr th {\n",
       "        vertical-align: top;\n",
       "    }\n",
       "\n",
       "    .dataframe thead th {\n",
       "        text-align: right;\n",
       "    }\n",
       "</style>\n",
       "<table border=\"1\" class=\"dataframe\">\n",
       "  <thead>\n",
       "    <tr style=\"text-align: right;\">\n",
       "      <th></th>\n",
       "      <th>Unnamed: 0</th>\n",
       "      <th>category</th>\n",
       "      <th>title</th>\n",
       "      <th>shorts</th>\n",
       "      <th>unicode_alternates</th>\n",
       "      <th>keywords</th>\n",
       "      <th>ucode_short</th>\n",
       "      <th>ucode</th>\n",
       "      <th>aliases</th>\n",
       "      <th>alt_title</th>\n",
       "      <th>aliases_ascii</th>\n",
       "    </tr>\n",
       "  </thead>\n",
       "  <tbody>\n",
       "    <tr>\n",
       "      <th>1381</th>\n",
       "      <td>😂</td>\n",
       "      <td>people</td>\n",
       "      <td>face with tears of joy</td>\n",
       "      <td>[joy]</td>\n",
       "      <td>NaN</td>\n",
       "      <td>[emotion, cry, tear, joy, smiley, sarcastic, f...</td>\n",
       "      <td>1f602</td>\n",
       "      <td>😂</td>\n",
       "      <td>NaN</td>\n",
       "      <td>NaN</td>\n",
       "      <td>[:'), :'-)]</td>\n",
       "    </tr>\n",
       "    <tr>\n",
       "      <th>1447</th>\n",
       "      <td>🙄</td>\n",
       "      <td>people</td>\n",
       "      <td>face with rolling eyes</td>\n",
       "      <td>[rolling_eyes, face_with_rolling_eyes]</td>\n",
       "      <td>NaN</td>\n",
       "      <td>[emotion, eyes, rolling eyes, smiley, sarcasti...</td>\n",
       "      <td>1f644</td>\n",
       "      <td>🙄</td>\n",
       "      <td>[:face_with_rolling_eyes:]</td>\n",
       "      <td>NaN</td>\n",
       "      <td>NaN</td>\n",
       "    </tr>\n",
       "    <tr>\n",
       "      <th>1424</th>\n",
       "      <td>😭</td>\n",
       "      <td>people</td>\n",
       "      <td>loudly crying face</td>\n",
       "      <td>[sob]</td>\n",
       "      <td>NaN</td>\n",
       "      <td>[emotion, sob, tear, cry, smiley, sad, heartbr...</td>\n",
       "      <td>1f62d</td>\n",
       "      <td>😭</td>\n",
       "      <td>NaN</td>\n",
       "      <td>NaN</td>\n",
       "      <td>NaN</td>\n",
       "    </tr>\n",
       "    <tr>\n",
       "      <th>1392</th>\n",
       "      <td>😍</td>\n",
       "      <td>people</td>\n",
       "      <td>smiling face with heart shaped eyes</td>\n",
       "      <td>[heart_eyes]</td>\n",
       "      <td>NaN</td>\n",
       "      <td>[emotion, heart, eye, love, smiley, face, beau...</td>\n",
       "      <td>1f60d</td>\n",
       "      <td>😍</td>\n",
       "      <td>NaN</td>\n",
       "      <td>smiling face with heart-shaped eyes</td>\n",
       "      <td>NaN</td>\n",
       "    </tr>\n",
       "    <tr>\n",
       "      <th>1389</th>\n",
       "      <td>😊</td>\n",
       "      <td>people</td>\n",
       "      <td>smiling face with smiling eyes</td>\n",
       "      <td>[blush]</td>\n",
       "      <td>NaN</td>\n",
       "      <td>[emotion, beautiful, good, eye, smiley, face, ...</td>\n",
       "      <td>1f60a</td>\n",
       "      <td>😊</td>\n",
       "      <td>NaN</td>\n",
       "      <td>NaN</td>\n",
       "      <td>NaN</td>\n",
       "    </tr>\n",
       "  </tbody>\n",
       "</table>\n",
       "</div>"
      ],
      "text/plain": [
       "     Unnamed: 0 category                                title  \\\n",
       "1381          😂   people               face with tears of joy   \n",
       "1447          🙄   people               face with rolling eyes   \n",
       "1424          😭   people                   loudly crying face   \n",
       "1392          😍   people  smiling face with heart shaped eyes   \n",
       "1389          😊   people       smiling face with smiling eyes   \n",
       "\n",
       "                                      shorts unicode_alternates  \\\n",
       "1381                                   [joy]                NaN   \n",
       "1447  [rolling_eyes, face_with_rolling_eyes]                NaN   \n",
       "1424                                   [sob]                NaN   \n",
       "1392                            [heart_eyes]                NaN   \n",
       "1389                                 [blush]                NaN   \n",
       "\n",
       "                                               keywords ucode_short ucode  \\\n",
       "1381  [emotion, cry, tear, joy, smiley, sarcastic, f...       1f602     😂   \n",
       "1447  [emotion, eyes, rolling eyes, smiley, sarcasti...       1f644     🙄   \n",
       "1424  [emotion, sob, tear, cry, smiley, sad, heartbr...       1f62d     😭   \n",
       "1392  [emotion, heart, eye, love, smiley, face, beau...       1f60d     😍   \n",
       "1389  [emotion, beautiful, good, eye, smiley, face, ...       1f60a     😊   \n",
       "\n",
       "                         aliases                            alt_title  \\\n",
       "1381                         NaN                                  NaN   \n",
       "1447  [:face_with_rolling_eyes:]                                  NaN   \n",
       "1424                         NaN                                  NaN   \n",
       "1392                         NaN  smiling face with heart-shaped eyes   \n",
       "1389                         NaN                                  NaN   \n",
       "\n",
       "     aliases_ascii  \n",
       "1381   [:'), :'-)]  \n",
       "1447           NaN  \n",
       "1424           NaN  \n",
       "1392           NaN  \n",
       "1389           NaN  "
      ]
     },
     "execution_count": 26,
     "metadata": {},
     "output_type": "execute_result"
    }
   ],
   "source": [
    "# lets see the mappings\n",
    "mappings.loc[top_twenty].head()"
   ]
  },
  {
   "cell_type": "code",
   "execution_count": 27,
   "metadata": {},
   "outputs": [],
   "source": [
    "# We see that there is a high density around 1000-1500\n",
    "# lets reduce the number of emojis there exists to the\n",
    "# top 10 emojis that exists in the dataset\n",
    "# we could reduce the complexity of our problem. \n",
    "index_names = twemoji[~twemoji['target'].isin(top_twenty)].index\n",
    "twemoji = twemoji.drop(index_names)"
   ]
  },
  {
   "cell_type": "code",
   "execution_count": 28,
   "metadata": {},
   "outputs": [
    {
     "data": {
      "text/plain": [
       "<AxesSubplot:xlabel='target'>"
      ]
     },
     "execution_count": 28,
     "metadata": {},
     "output_type": "execute_result"
    },
    {
     "data": {
      "image/png": "[encoded data removed]",
      "text/plain": [
       "<Figure size 432x288 with 1 Axes>"
      ]
     },
     "metadata": {
      "needs_background": "light"
     },
     "output_type": "display_data"
    }
   ],
   "source": [
    "# lets see the distribution once again\n",
    "sns.distplot(twemoji['target'], color='red', bins=10)"
   ]
  },
  {
   "cell_type": "code",
   "execution_count": 29,
   "metadata": {},
   "outputs": [
    {
     "data": {
      "text/plain": [
       "[1381,\n",
       " 1447,\n",
       " 1424,\n",
       " 1392,\n",
       " 1389,\n",
       " 186,\n",
       " 1620,\n",
       " 1420,\n",
       " 1446,\n",
       " 1403,\n",
       " 1138,\n",
       " 1397,\n",
       " 1384,\n",
       " 1107,\n",
       " 830,\n",
       " 1056,\n",
       " 1393,\n",
       " 1380,\n",
       " 1394,\n",
       " 1210]"
      ]
     },
     "execution_count": 29,
     "metadata": {},
     "output_type": "execute_result"
    }
   ],
   "source": [
    "# For sanity check lets see if the remaining emojis\n",
    "# are only the top ten emojis\n",
    "twemoji['target'].value_counts().index.tolist() "
   ]
  },
  {
   "cell_type": "code",
   "execution_count": 30,
   "metadata": {},
   "outputs": [
    {
     "data": {
      "text/plain": [
       "(44933, 2)"
      ]
     },
     "execution_count": 30,
     "metadata": {},
     "output_type": "execute_result"
    }
   ],
   "source": [
    "twemoji.shape"
   ]
  },
  {
   "cell_type": "code",
   "execution_count": 31,
   "metadata": {},
   "outputs": [
    {
     "data": {
      "text/plain": [
       "<AxesSubplot:xlabel='target', ylabel='count'>"
      ]
     },
     "execution_count": 31,
     "metadata": {},
     "output_type": "execute_result"
    },
    {
     "data": {
      "image/png": "[encoded data removed]",
      "text/plain": [
       "<Figure size 842.4x595.44 with 1 Axes>"
      ]
     },
     "metadata": {
      "needs_background": "light"
     },
     "output_type": "display_data"
    }
   ],
   "source": [
    "fig, ax = plt.subplots(figsize=(11.7, 8.27))\n",
    "sns.countplot(ax=ax, x='target', data=twemoji)"
   ]
  },
  {
   "cell_type": "markdown",
   "metadata": {},
   "source": [
    "## Imbalance Dataset "
   ]
  },
  {
   "cell_type": "code",
   "execution_count": 32,
   "metadata": {},
   "outputs": [],
   "source": [
    "MINIMUM_CLASS_SIZE = min(np.array(twemoji['target'].value_counts()))"
   ]
  },
  {
   "cell_type": "code",
   "execution_count": 33,
   "metadata": {},
   "outputs": [],
   "source": [
    "twemoji = twemoji.groupby('target').apply(lambda x: x.sample(MINIMUM_CLASS_SIZE))"
   ]
  },
  {
   "cell_type": "code",
   "execution_count": 34,
   "metadata": {},
   "outputs": [
    {
     "data": {
      "text/plain": [
       "(20080, 2)"
      ]
     },
     "execution_count": 34,
     "metadata": {},
     "output_type": "execute_result"
    }
   ],
   "source": [
    "twemoji.shape"
   ]
  },
  {
   "cell_type": "code",
   "execution_count": 35,
   "metadata": {},
   "outputs": [
    {
     "data": {
      "text/plain": [
       "<AxesSubplot:xlabel='target', ylabel='count'>"
      ]
     },
     "execution_count": 35,
     "metadata": {},
     "output_type": "execute_result"
    },
    {
     "data": {
      "image/png": "[encoded data removed]",
      "text/plain": [
       "<Figure size 842.4x595.44 with 1 Axes>"
      ]
     },
     "metadata": {
      "needs_background": "light"
     },
     "output_type": "display_data"
    }
   ],
   "source": [
    "fig, ax = plt.subplots(figsize=(11.7, 8.27))\n",
    "sns.countplot(ax=ax, x='target', data=twemoji,)"
   ]
  },
  {
   "cell_type": "code",
   "execution_count": 36,
   "metadata": {},
   "outputs": [],
   "source": [
    "twemoji['l'] = twemoji['text'].apply(lambda x: len(str(x).split(' '))) "
   ]
  },
  {
   "cell_type": "code",
   "execution_count": 37,
   "metadata": {},
   "outputs": [
    {
     "name": "stdout",
     "output_type": "stream",
     "text": [
      "mean length of sentence: 10.221065737051793\n",
      "max length of sentence: 48\n",
      "std dev length of sentence: 7.197116121186117\n"
     ]
    }
   ],
   "source": [
    "print(\"mean length of sentence: \" + str(twemoji.l.mean()))\n",
    "print(\"max length of sentence: \" + str(twemoji.l.max()))\n",
    "print(\"std dev length of sentence: \" + str(twemoji.l.std()))"
   ]
  },
  {
   "cell_type": "code",
   "execution_count": 38,
   "metadata": {},
   "outputs": [],
   "source": [
    "sequence_length = 60"
   ]
  },
  {
   "cell_type": "markdown",
   "metadata": {},
   "source": [
    "## Tokenize"
   ]
  },
  {
   "cell_type": "code",
   "execution_count": 39,
   "metadata": {},
   "outputs": [],
   "source": [
    "max_features = 2000 # numer of words we care about\n",
    "\n",
    "tokenizer = Tokenizer(num_words=max_features, split=' ', oov_token='<unw>', filters=' ')\n",
    "tokenizer.fit_on_texts(twemoji['text'].values)"
   ]
  },
  {
   "cell_type": "code",
   "execution_count": 40,
   "metadata": {},
   "outputs": [],
   "source": [
    "# convert all text to vectors\n",
    "X = tokenizer.texts_to_sequences(twemoji['text'].values) "
   ]
  },
  {
   "cell_type": "code",
   "execution_count": 41,
   "metadata": {},
   "outputs": [],
   "source": [
    "# pad sequences so they are all the same length\n",
    "X = pad_sequences(X, sequence_length)"
   ]
  },
  {
   "cell_type": "code",
   "execution_count": 42,
   "metadata": {},
   "outputs": [],
   "source": [
    "# convert categorical var into dummy/indicator variables\n",
    "y = pd.get_dummies(twemoji['target']).values"
   ]
  },
  {
   "cell_type": "code",
   "execution_count": 43,
   "metadata": {},
   "outputs": [],
   "source": [
    "X_train, X_test, y_train, y_test = train_test_split(X, y, test_size=0.1)"
   ]
  },
  {
   "cell_type": "code",
   "execution_count": 44,
   "metadata": {},
   "outputs": [
    {
     "name": "stdout",
     "output_type": "stream",
     "text": [
      "Test Set Size 2008\n"
     ]
    }
   ],
   "source": [
    "print('Test Set Size ' + str(len(X_test)))"
   ]
  },
  {
   "cell_type": "markdown",
   "metadata": {},
   "source": [
    "## GloVe"
   ]
  },
  {
   "cell_type": "code",
   "execution_count": 45,
   "metadata": {},
   "outputs": [
    {
     "name": "stdout",
     "output_type": "stream",
     "text": [
      "Found 1193515 word vectors\n"
     ]
    }
   ],
   "source": [
    "embeddings_index = {}\n",
    "f = open(os.path.join('src/embeddings', 'glove.twitter.27B.100d.txt'))\n",
    "for line in f:\n",
    "    values = line.split()\n",
    "    word = values[0]\n",
    "    coefs = np.asarray(values[1:], dtype='float32')\n",
    "    embeddings_index[word] = coefs\n",
    "f.close\n",
    "\n",
    "print('Found %s word vectors' % len(embeddings_index))"
   ]
  },
  {
   "cell_type": "code",
   "execution_count": 46,
   "metadata": {},
   "outputs": [
    {
     "name": "stdout",
     "output_type": "stream",
     "text": [
      "Found 15398 unique tokens\n"
     ]
    }
   ],
   "source": [
    "word_index = tokenizer.word_index\n",
    "print('Found %s unique tokens' % len(word_index))"
   ]
  },
  {
   "cell_type": "code",
   "execution_count": 47,
   "metadata": {},
   "outputs": [
    {
     "name": "stdout",
     "output_type": "stream",
     "text": [
      "2001\n"
     ]
    }
   ],
   "source": [
    "num_words = min(max_features, len(word_index)) + 1\n",
    "print(num_words)"
   ]
  },
  {
   "cell_type": "code",
   "execution_count": 48,
   "metadata": {},
   "outputs": [],
   "source": [
    "embedding_dim = 100\n",
    "embedding_matrix = np.zeros((num_words, embedding_dim))"
   ]
  },
  {
   "cell_type": "code",
   "execution_count": 49,
   "metadata": {},
   "outputs": [],
   "source": [
    "for word, i in word_index.items():\n",
    "    if i > max_features:\n",
    "        continue\n",
    "        \n",
    "    embedding_vector = embeddings_index.get(word)\n",
    "    \n",
    "    if embedding_vector is not None:\n",
    "        embedding_matrix[i] = embedding_vector\n",
    "    else:\n",
    "        embedding_matrix[i] = np.random.randn(embedding_dim)"
   ]
  },
  {
   "cell_type": "markdown",
   "metadata": {},
   "source": [
    "## Baseline - SVM"
   ]
  },
  {
   "cell_type": "code",
   "execution_count": 93,
   "metadata": {},
   "outputs": [],
   "source": [
    "def svm_tokenizer(x):\n",
    "    return x.split()"
   ]
  },
  {
   "cell_type": "code",
   "execution_count": 48,
   "metadata": {},
   "outputs": [],
   "source": [
    "X_train_svc, X_test_svc, y_train_svc, y_test_svc = train_test_split(twemoji['text'], twemoji['target'], test_size=0.1)"
   ]
  },
  {
   "cell_type": "code",
   "execution_count": 49,
   "metadata": {},
   "outputs": [],
   "source": [
    "vect = HashingVectorizer(decode_error='ignore', n_features=max_features, preprocessor=None, tokenizer=tokenizer)"
   ]
  },
  {
   "cell_type": "code",
   "execution_count": 50,
   "metadata": {},
   "outputs": [],
   "source": [
    "svc = SVC(random_state=0, verbose=True,)"
   ]
  },
  {
   "cell_type": "code",
   "execution_count": 51,
   "metadata": {},
   "outputs": [
    {
     "name": "stdout",
     "output_type": "stream",
     "text": [
      "[LibSVM]"
     ]
    },
    {
     "data": {
      "text/plain": [
       "SVC(random_state=0, verbose=True)"
      ]
     },
     "execution_count": 51,
     "metadata": {},
     "output_type": "execute_result"
    }
   ],
   "source": [
    "svc.fit(vect.transform(X_train_svc), y_train_svc)"
   ]
  },
  {
   "cell_type": "code",
   "execution_count": 56,
   "metadata": {},
   "outputs": [],
   "source": [
    "y_hat = svc.predict(vect.transform(X_test_svc))"
   ]
  },
  {
   "cell_type": "code",
   "execution_count": 57,
   "metadata": {},
   "outputs": [
    {
     "data": {
      "text/plain": [
       "1.0"
      ]
     },
     "execution_count": 57,
     "metadata": {},
     "output_type": "execute_result"
    }
   ],
   "source": [
    "f1_score(list(map(lambda x: np.argmax(x), y_test_svc)), list(map(lambda x: np.argmax(x), y_hat)), average='weighted')"
   ]
  },
  {
   "cell_type": "markdown",
   "metadata": {},
   "source": [
    "## Bi-LSTM"
   ]
  },
  {
   "cell_type": "code",
   "execution_count": 58,
   "metadata": {},
   "outputs": [],
   "source": [
    "bi_lstm = Sequential()\n",
    "bi_lstm.add(Embedding(num_words, embedding_dim, \n",
    "                    embeddings_initializer=Constant(embedding_matrix),\n",
    "                    input_length=sequence_length, trainable=True))\n",
    "\n",
    "bi_lstm.add(SpatialDropout1D(0.2))\n",
    "bi_lstm.add(Bidirectional(LSTM(64, return_sequences=True)))\n",
    "bi_lstm.add(Bidirectional(LSTM(32)))\n",
    "bi_lstm.add(Dropout(0.25))\n",
    "bi_lstm.add(Dense(units=20, activation='softmax'))\n",
    "bi_lstm.compile(loss='categorical_crossentropy', optimizer='adam', metrics=['accuracy'])"
   ]
  },
  {
   "cell_type": "code",
   "execution_count": 59,
   "metadata": {},
   "outputs": [
    {
     "name": "stdout",
     "output_type": "stream",
     "text": [
      "Model: \"sequential\"\n",
      "_________________________________________________________________\n",
      "Layer (type)                 Output Shape              Param #   \n",
      "=================================================================\n",
      "embedding (Embedding)        (None, 60, 100)           200100    \n",
      "_________________________________________________________________\n",
      "spatial_dropout1d (SpatialDr (None, 60, 100)           0         \n",
      "_________________________________________________________________\n",
      "bidirectional (Bidirectional (None, 60, 128)           84480     \n",
      "_________________________________________________________________\n",
      "bidirectional_1 (Bidirection (None, 64)                41216     \n",
      "_________________________________________________________________\n",
      "dropout (Dropout)            (None, 64)                0         \n",
      "_________________________________________________________________\n",
      "dense (Dense)                (None, 20)                1300      \n",
      "=================================================================\n",
      "Total params: 327,096\n",
      "Trainable params: 327,096\n",
      "Non-trainable params: 0\n",
      "_________________________________________________________________\n"
     ]
    }
   ],
   "source": [
    "bi_lstm.summary()"
   ]
  },
  {
   "cell_type": "code",
   "execution_count": 60,
   "metadata": {},
   "outputs": [
    {
     "name": "stdout",
     "output_type": "stream",
     "text": [
      "Epoch 1/50\n",
      "128/128 [==============================] - 8s 60ms/step - loss: 2.8755 - accuracy: 0.1080 - val_loss: 2.7414 - val_accuracy: 0.1543\n",
      "Epoch 2/50\n",
      "128/128 [==============================] - 7s 58ms/step - loss: 2.7471 - accuracy: 0.1476 - val_loss: 2.6845 - val_accuracy: 0.1759\n",
      "Epoch 3/50\n",
      "128/128 [==============================] - 8s 63ms/step - loss: 2.6837 - accuracy: 0.1628 - val_loss: 2.6589 - val_accuracy: 0.1792\n",
      "Epoch 4/50\n",
      "128/128 [==============================] - 8s 65ms/step - loss: 2.6322 - accuracy: 0.1805 - val_loss: 2.6241 - val_accuracy: 0.1975\n",
      "Epoch 5/50\n",
      "128/128 [==============================] - 8s 64ms/step - loss: 2.5918 - accuracy: 0.1930 - val_loss: 2.6162 - val_accuracy: 0.1914\n",
      "Epoch 6/50\n",
      "128/128 [==============================] - 9s 68ms/step - loss: 2.5566 - accuracy: 0.2035 - val_loss: 2.6106 - val_accuracy: 0.1947\n",
      "Epoch 7/50\n",
      "128/128 [==============================] - 9s 67ms/step - loss: 2.5192 - accuracy: 0.2172 - val_loss: 2.6042 - val_accuracy: 0.1930\n",
      "Epoch 8/50\n",
      "128/128 [==============================] - 9s 67ms/step - loss: 2.4901 - accuracy: 0.2249 - val_loss: 2.5982 - val_accuracy: 0.1952\n",
      "Epoch 9/50\n",
      "128/128 [==============================] - 8s 65ms/step - loss: 2.4501 - accuracy: 0.2396 - val_loss: 2.5999 - val_accuracy: 0.2063\n",
      "Epoch 10/50\n",
      "128/128 [==============================] - 9s 67ms/step - loss: 2.4196 - accuracy: 0.2447 - val_loss: 2.6177 - val_accuracy: 0.1930\n",
      "Epoch 11/50\n",
      "128/128 [==============================] - 9s 69ms/step - loss: 2.3997 - accuracy: 0.2504 - val_loss: 2.6047 - val_accuracy: 0.1986\n",
      "Epoch 12/50\n",
      "128/128 [==============================] - 9s 68ms/step - loss: 2.3628 - accuracy: 0.2670 - val_loss: 2.6293 - val_accuracy: 0.1975\n",
      "Epoch 13/50\n",
      "128/128 [==============================] - 8s 65ms/step - loss: 2.3359 - accuracy: 0.2702 - val_loss: 2.6184 - val_accuracy: 0.2013\n",
      "Epoch 14/50\n",
      "128/128 [==============================] - 9s 68ms/step - loss: 2.3045 - accuracy: 0.2801 - val_loss: 2.6438 - val_accuracy: 0.1986\n",
      "Epoch 15/50\n",
      "128/128 [==============================] - 9s 70ms/step - loss: 2.2745 - accuracy: 0.2880 - val_loss: 2.6466 - val_accuracy: 0.2035\n",
      "Epoch 16/50\n",
      "128/128 [==============================] - 9s 69ms/step - loss: 2.2506 - accuracy: 0.3002 - val_loss: 2.6733 - val_accuracy: 0.1958\n",
      "Epoch 17/50\n",
      "128/128 [==============================] - 9s 69ms/step - loss: 2.2280 - accuracy: 0.3042 - val_loss: 2.6643 - val_accuracy: 0.1919\n",
      "Epoch 18/50\n",
      "128/128 [==============================] - 9s 67ms/step - loss: 2.2047 - accuracy: 0.3080 - val_loss: 2.6885 - val_accuracy: 0.1963\n",
      "Epoch 19/50\n",
      "128/128 [==============================] - 8s 66ms/step - loss: 2.1728 - accuracy: 0.3187 - val_loss: 2.7166 - val_accuracy: 0.2063\n",
      "Epoch 20/50\n",
      "128/128 [==============================] - 9s 68ms/step - loss: 2.1417 - accuracy: 0.3293 - val_loss: 2.7226 - val_accuracy: 0.1975\n",
      "Epoch 21/50\n",
      "128/128 [==============================] - 9s 71ms/step - loss: 2.1187 - accuracy: 0.3326 - val_loss: 2.7612 - val_accuracy: 0.2024\n",
      "Epoch 22/50\n",
      "128/128 [==============================] - 9s 68ms/step - loss: 2.0913 - accuracy: 0.3403 - val_loss: 2.7852 - val_accuracy: 0.1947\n",
      "Epoch 23/50\n",
      "128/128 [==============================] - 9s 68ms/step - loss: 2.0565 - accuracy: 0.3549 - val_loss: 2.8010 - val_accuracy: 0.1930\n",
      "Epoch 24/50\n",
      "128/128 [==============================] - 9s 69ms/step - loss: 2.0410 - accuracy: 0.3576 - val_loss: 2.7877 - val_accuracy: 0.1941\n",
      "Epoch 25/50\n",
      "128/128 [==============================] - 9s 69ms/step - loss: 2.0042 - accuracy: 0.3674 - val_loss: 2.8302 - val_accuracy: 0.1941\n",
      "Epoch 26/50\n",
      "128/128 [==============================] - 9s 69ms/step - loss: 1.9856 - accuracy: 0.3729 - val_loss: 2.8537 - val_accuracy: 0.1975\n",
      "Epoch 27/50\n",
      "128/128 [==============================] - 9s 68ms/step - loss: 1.9474 - accuracy: 0.3872 - val_loss: 2.8588 - val_accuracy: 0.1991\n",
      "Epoch 28/50\n",
      "128/128 [==============================] - 9s 68ms/step - loss: 1.9370 - accuracy: 0.3860 - val_loss: 2.8669 - val_accuracy: 0.1930\n",
      "Epoch 29/50\n",
      "128/128 [==============================] - 8s 66ms/step - loss: 1.8961 - accuracy: 0.4096 - val_loss: 2.9134 - val_accuracy: 0.1853\n",
      "Epoch 30/50\n",
      "128/128 [==============================] - 9s 68ms/step - loss: 1.8709 - accuracy: 0.4085 - val_loss: 2.9558 - val_accuracy: 0.1831\n",
      "Epoch 31/50\n",
      "128/128 [==============================] - 9s 68ms/step - loss: 1.8530 - accuracy: 0.4113 - val_loss: 2.9528 - val_accuracy: 0.1963\n",
      "Epoch 32/50\n",
      "128/128 [==============================] - 9s 67ms/step - loss: 1.8272 - accuracy: 0.4188 - val_loss: 2.9763 - val_accuracy: 0.1853\n",
      "Epoch 33/50\n",
      "128/128 [==============================] - 9s 68ms/step - loss: 1.7954 - accuracy: 0.4290 - val_loss: 3.0226 - val_accuracy: 0.1892\n",
      "Epoch 34/50\n",
      "128/128 [==============================] - 9s 67ms/step - loss: 1.7681 - accuracy: 0.4389 - val_loss: 3.0497 - val_accuracy: 0.1825\n",
      "Epoch 35/50\n",
      "128/128 [==============================] - 9s 68ms/step - loss: 1.7482 - accuracy: 0.4424 - val_loss: 3.0809 - val_accuracy: 0.1842\n",
      "Epoch 36/50\n",
      "128/128 [==============================] - 9s 68ms/step - loss: 1.7268 - accuracy: 0.4533 - val_loss: 3.0920 - val_accuracy: 0.1886\n",
      "Epoch 37/50\n",
      "128/128 [==============================] - 9s 68ms/step - loss: 1.6942 - accuracy: 0.4649 - val_loss: 3.0784 - val_accuracy: 0.1897\n",
      "Epoch 38/50\n",
      "128/128 [==============================] - 8s 65ms/step - loss: 1.6775 - accuracy: 0.4628 - val_loss: 3.1364 - val_accuracy: 0.1886\n",
      "Epoch 39/50\n",
      "128/128 [==============================] - 9s 68ms/step - loss: 1.6481 - accuracy: 0.4766 - val_loss: 3.1352 - val_accuracy: 0.1836\n",
      "Epoch 40/50\n",
      "128/128 [==============================] - 9s 71ms/step - loss: 1.6379 - accuracy: 0.4782 - val_loss: 3.1649 - val_accuracy: 0.1847\n",
      "Epoch 41/50\n",
      "128/128 [==============================] - 9s 67ms/step - loss: 1.6107 - accuracy: 0.4844 - val_loss: 3.2265 - val_accuracy: 0.1803\n",
      "Epoch 42/50\n",
      "128/128 [==============================] - 9s 67ms/step - loss: 1.5890 - accuracy: 0.4947 - val_loss: 3.2216 - val_accuracy: 0.1825\n",
      "Epoch 43/50\n",
      "128/128 [==============================] - 9s 69ms/step - loss: 1.5691 - accuracy: 0.5014 - val_loss: 3.2602 - val_accuracy: 0.1787\n",
      "Epoch 44/50\n",
      "128/128 [==============================] - 9s 68ms/step - loss: 1.5423 - accuracy: 0.5112 - val_loss: 3.2584 - val_accuracy: 0.1759\n",
      "Epoch 45/50\n",
      "128/128 [==============================] - 9s 68ms/step - loss: 1.5273 - accuracy: 0.5103 - val_loss: 3.2811 - val_accuracy: 0.1781\n",
      "Epoch 46/50\n",
      "128/128 [==============================] - 9s 67ms/step - loss: 1.5034 - accuracy: 0.5173 - val_loss: 3.3231 - val_accuracy: 0.1803\n",
      "Epoch 47/50\n",
      "128/128 [==============================] - 9s 69ms/step - loss: 1.4915 - accuracy: 0.5227 - val_loss: 3.3662 - val_accuracy: 0.1825\n",
      "Epoch 48/50\n",
      "128/128 [==============================] - 9s 70ms/step - loss: 1.4571 - accuracy: 0.5354 - val_loss: 3.3740 - val_accuracy: 0.1753\n",
      "Epoch 49/50\n",
      "128/128 [==============================] - 9s 67ms/step - loss: 1.4449 - accuracy: 0.5358 - val_loss: 3.3751 - val_accuracy: 0.1753\n",
      "Epoch 50/50\n",
      "128/128 [==============================] - 9s 67ms/step - loss: 1.4430 - accuracy: 0.5404 - val_loss: 3.4221 - val_accuracy: 0.1798\n"
     ]
    }
   ],
   "source": [
    "batch_size = 128\n",
    "history = bi_lstm.fit(X_train, y_train, epochs=50, batch_size=batch_size, verbose=1, validation_split=0.1)"
   ]
  },
  {
   "cell_type": "code",
   "execution_count": 61,
   "metadata": {},
   "outputs": [
    {
     "data": {
      "image/png": "[encoded data removed]",
      "text/plain": [
       "<Figure size 432x288 with 1 Axes>"
      ]
     },
     "metadata": {
      "needs_background": "light"
     },
     "output_type": "display_data"
    }
   ],
   "source": [
    "plt.plot(history.history['accuracy'])\n",
    "plt.plot(history.history['val_accuracy'])\n",
    "plt.title('Bi-LSTM Accuracy')\n",
    "plt.ylabel('accuracy')\n",
    "plt.xlabel('epoch')\n",
    "plt.legend(['train', 'validation'], loc='upper left')\n",
    "plt.show()"
   ]
  },
  {
   "cell_type": "code",
   "execution_count": 62,
   "metadata": {},
   "outputs": [
    {
     "data": {
      "image/png": "[encoded data removed]",
      "text/plain": [
       "<Figure size 432x288 with 1 Axes>"
      ]
     },
     "metadata": {
      "needs_background": "light"
     },
     "output_type": "display_data"
    }
   ],
   "source": [
    "plt.plot(history.history['loss'])\n",
    "plt.plot(history.history['val_loss'])\n",
    "plt.title('Bi-LSTM Loss')\n",
    "plt.ylabel('loss')\n",
    "plt.xlabel('epoch')\n",
    "plt.legend(['train', 'validation'], loc='upper left')\n",
    "plt.show()"
   ]
  },
  {
   "cell_type": "code",
   "execution_count": 63,
   "metadata": {},
   "outputs": [],
   "source": [
    "y_hat = bi_lstm.predict(X_test)"
   ]
  },
  {
   "cell_type": "code",
   "execution_count": 64,
   "metadata": {},
   "outputs": [
    {
     "data": {
      "text/plain": [
       "0.1556853064175427"
      ]
     },
     "execution_count": 64,
     "metadata": {},
     "output_type": "execute_result"
    }
   ],
   "source": [
    "f1_score(list(map(lambda x: np.argmax(x), y_test)), list(map(lambda x: np.argmax(x), y_hat)), average='weighted')"
   ]
  },
  {
   "cell_type": "markdown",
   "metadata": {},
   "source": [
    "## CNN"
   ]
  },
  {
   "cell_type": "code",
   "execution_count": 88,
   "metadata": {},
   "outputs": [],
   "source": [
    "cnn = Sequential()\n",
    "cnn.add(Embedding(num_words, embedding_dim, \n",
    "                    embeddings_initializer=Constant(embedding_matrix),\n",
    "                    input_length=sequence_length, trainable=True, embeddings_regularizer=regularizers.l2(l2=1e-6)))\n",
    "cnn.add(Dropout(0.6))\n",
    "cnn.add(Conv1D(512, 5, activation='relu', padding='same', kernel_regularizer=regularizers.l2(l2=1e-5)))\n",
    "cnn.add(MaxPool1D(pool_size=5))\n",
    "cnn.add(Flatten())\n",
    "cnn.add(Dropout(0.6))\n",
    "cnn.add(Dense(units=20, activation='softmax'))\n",
    "cnn.compile(loss='categorical_crossentropy', optimizer='adam', metrics=['accuracy'])"
   ]
  },
  {
   "cell_type": "code",
   "execution_count": 89,
   "metadata": {},
   "outputs": [
    {
     "name": "stdout",
     "output_type": "stream",
     "text": [
      "Model: \"sequential_7\"\n",
      "_________________________________________________________________\n",
      "Layer (type)                 Output Shape              Param #   \n",
      "=================================================================\n",
      "embedding_4 (Embedding)      (None, 60, 100)           200100    \n",
      "_________________________________________________________________\n",
      "dropout_8 (Dropout)          (None, 60, 100)           0         \n",
      "_________________________________________________________________\n",
      "conv1d_4 (Conv1D)            (None, 60, 512)           256512    \n",
      "_________________________________________________________________\n",
      "max_pooling1d_4 (MaxPooling1 (None, 12, 512)           0         \n",
      "_________________________________________________________________\n",
      "flatten_4 (Flatten)          (None, 6144)              0         \n",
      "_________________________________________________________________\n",
      "dropout_9 (Dropout)          (None, 6144)              0         \n",
      "_________________________________________________________________\n",
      "dense_4 (Dense)              (None, 20)                122900    \n",
      "=================================================================\n",
      "Total params: 579,512\n",
      "Trainable params: 579,512\n",
      "Non-trainable params: 0\n",
      "_________________________________________________________________\n"
     ]
    }
   ],
   "source": [
    "cnn.summary()"
   ]
  },
  {
   "cell_type": "code",
   "execution_count": 90,
   "metadata": {},
   "outputs": [
    {
     "name": "stdout",
     "output_type": "stream",
     "text": [
      "Epoch 1/35\n",
      "128/128 [==============================] - 6s 48ms/step - loss: 3.0607 - accuracy: 0.0932 - val_loss: 2.9158 - val_accuracy: 0.1449\n",
      "Epoch 2/35\n",
      "128/128 [==============================] - 6s 46ms/step - loss: 2.8884 - accuracy: 0.1327 - val_loss: 2.8500 - val_accuracy: 0.1521\n",
      "Epoch 3/35\n",
      "128/128 [==============================] - 6s 48ms/step - loss: 2.8307 - accuracy: 0.1466 - val_loss: 2.8275 - val_accuracy: 0.1598\n",
      "Epoch 4/35\n",
      "128/128 [==============================] - 6s 47ms/step - loss: 2.7860 - accuracy: 0.1602 - val_loss: 2.7937 - val_accuracy: 0.1781\n",
      "Epoch 5/35\n",
      "128/128 [==============================] - 6s 48ms/step - loss: 2.7609 - accuracy: 0.1679 - val_loss: 2.7918 - val_accuracy: 0.1731\n",
      "Epoch 6/35\n",
      "128/128 [==============================] - 6s 48ms/step - loss: 2.7396 - accuracy: 0.1742 - val_loss: 2.7652 - val_accuracy: 0.1798\n",
      "Epoch 7/35\n",
      "128/128 [==============================] - 6s 49ms/step - loss: 2.7190 - accuracy: 0.1803 - val_loss: 2.7528 - val_accuracy: 0.1847\n",
      "Epoch 8/35\n",
      "128/128 [==============================] - 6s 47ms/step - loss: 2.6991 - accuracy: 0.1886 - val_loss: 2.7547 - val_accuracy: 0.1737\n",
      "Epoch 9/35\n",
      "128/128 [==============================] - 6s 48ms/step - loss: 2.6737 - accuracy: 0.1920 - val_loss: 2.7419 - val_accuracy: 0.1809\n",
      "Epoch 10/35\n",
      "128/128 [==============================] - 6s 49ms/step - loss: 2.6631 - accuracy: 0.1959 - val_loss: 2.7298 - val_accuracy: 0.1853\n",
      "Epoch 11/35\n",
      "128/128 [==============================] - 6s 49ms/step - loss: 2.6438 - accuracy: 0.2058 - val_loss: 2.7374 - val_accuracy: 0.1825\n",
      "Epoch 12/35\n",
      "128/128 [==============================] - 6s 47ms/step - loss: 2.6231 - accuracy: 0.2074 - val_loss: 2.7248 - val_accuracy: 0.1809\n",
      "Epoch 13/35\n",
      "128/128 [==============================] - 6s 49ms/step - loss: 2.6112 - accuracy: 0.2124 - val_loss: 2.7256 - val_accuracy: 0.1798\n",
      "Epoch 14/35\n",
      "128/128 [==============================] - 6s 47ms/step - loss: 2.5937 - accuracy: 0.2169 - val_loss: 2.7260 - val_accuracy: 0.1847\n",
      "Epoch 15/35\n",
      "128/128 [==============================] - 6s 49ms/step - loss: 2.5865 - accuracy: 0.2232 - val_loss: 2.7162 - val_accuracy: 0.1831\n",
      "Epoch 16/35\n",
      "128/128 [==============================] - 6s 48ms/step - loss: 2.5658 - accuracy: 0.2283 - val_loss: 2.7254 - val_accuracy: 0.1853\n",
      "Epoch 17/35\n",
      "128/128 [==============================] - 6s 48ms/step - loss: 2.5551 - accuracy: 0.2315 - val_loss: 2.7196 - val_accuracy: 0.1836\n",
      "Epoch 18/35\n",
      "128/128 [==============================] - 6s 48ms/step - loss: 2.5459 - accuracy: 0.2344 - val_loss: 2.7175 - val_accuracy: 0.1875\n",
      "Epoch 19/35\n",
      "128/128 [==============================] - 6s 49ms/step - loss: 2.5248 - accuracy: 0.2390 - val_loss: 2.7081 - val_accuracy: 0.1881\n",
      "Epoch 20/35\n",
      "128/128 [==============================] - 6s 49ms/step - loss: 2.5201 - accuracy: 0.2442 - val_loss: 2.7086 - val_accuracy: 0.1853\n",
      "Epoch 21/35\n",
      "128/128 [==============================] - 6s 49ms/step - loss: 2.5074 - accuracy: 0.2458 - val_loss: 2.7032 - val_accuracy: 0.1869\n",
      "Epoch 22/35\n",
      "128/128 [==============================] - 6s 48ms/step - loss: 2.4918 - accuracy: 0.2467 - val_loss: 2.7090 - val_accuracy: 0.1936\n",
      "Epoch 23/35\n",
      "128/128 [==============================] - 6s 48ms/step - loss: 2.4762 - accuracy: 0.2537 - val_loss: 2.7128 - val_accuracy: 0.1930\n",
      "Epoch 24/35\n",
      "128/128 [==============================] - 6s 48ms/step - loss: 2.4671 - accuracy: 0.2545 - val_loss: 2.7117 - val_accuracy: 0.1919\n",
      "Epoch 25/35\n",
      "128/128 [==============================] - 6s 49ms/step - loss: 2.4510 - accuracy: 0.2608 - val_loss: 2.7109 - val_accuracy: 0.1831\n",
      "Epoch 26/35\n",
      "128/128 [==============================] - 7s 51ms/step - loss: 2.4438 - accuracy: 0.2634 - val_loss: 2.7109 - val_accuracy: 0.1847\n",
      "Epoch 27/35\n",
      "128/128 [==============================] - 6s 50ms/step - loss: 2.4297 - accuracy: 0.2702 - val_loss: 2.7114 - val_accuracy: 0.1803\n",
      "Epoch 28/35\n",
      "128/128 [==============================] - 6s 49ms/step - loss: 2.4193 - accuracy: 0.2718 - val_loss: 2.7179 - val_accuracy: 0.1897\n",
      "Epoch 29/35\n",
      "128/128 [==============================] - 6s 47ms/step - loss: 2.4130 - accuracy: 0.2715 - val_loss: 2.7144 - val_accuracy: 0.1892\n",
      "Epoch 30/35\n",
      "128/128 [==============================] - 6s 49ms/step - loss: 2.3956 - accuracy: 0.2785 - val_loss: 2.7157 - val_accuracy: 0.1886\n",
      "Epoch 31/35\n",
      "128/128 [==============================] - 6s 49ms/step - loss: 2.3951 - accuracy: 0.2805 - val_loss: 2.7128 - val_accuracy: 0.1881\n",
      "Epoch 32/35\n",
      "128/128 [==============================] - 6s 49ms/step - loss: 2.3767 - accuracy: 0.2849 - val_loss: 2.7133 - val_accuracy: 0.1975\n",
      "Epoch 33/35\n",
      "128/128 [==============================] - 6s 48ms/step - loss: 2.3705 - accuracy: 0.2859 - val_loss: 2.7222 - val_accuracy: 0.1941\n",
      "Epoch 34/35\n",
      "128/128 [==============================] - 6s 47ms/step - loss: 2.3595 - accuracy: 0.2903 - val_loss: 2.7142 - val_accuracy: 0.1952\n",
      "Epoch 35/35\n",
      "128/128 [==============================] - 6s 47ms/step - loss: 2.3582 - accuracy: 0.2905 - val_loss: 2.7225 - val_accuracy: 0.1864\n"
     ]
    }
   ],
   "source": [
    "batch_size = 128\n",
    "history = cnn.fit(X_train, y_train, epochs=20, batch_size=batch_size, verbose=1, validation_split=0.1)"
   ]
  },
  {
   "cell_type": "code",
   "execution_count": 91,
   "metadata": {},
   "outputs": [
    {
     "data": {
      "image/png": "[encoded data removed]",
      "text/plain": [
       "<Figure size 432x288 with 1 Axes>"
      ]
     },
     "metadata": {
      "needs_background": "light"
     },
     "output_type": "display_data"
    }
   ],
   "source": [
    "plt.plot(history.history['accuracy'])\n",
    "plt.plot(history.history['val_accuracy'])\n",
    "plt.title('CNN Accuracy')\n",
    "plt.ylabel('accuracy')\n",
    "plt.xlabel('epoch')\n",
    "plt.legend(['train', 'validation'], loc='upper left')\n",
    "plt.show()"
   ]
  },
  {
   "cell_type": "code",
   "execution_count": 92,
   "metadata": {},
   "outputs": [
    {
     "data": {
      "image/png": "[encoded data removed]",
      "text/plain": [
       "<Figure size 432x288 with 1 Axes>"
      ]
     },
     "metadata": {
      "needs_background": "light"
     },
     "output_type": "display_data"
    }
   ],
   "source": [
    "plt.plot(history.history['loss'])\n",
    "plt.plot(history.history['val_loss'])\n",
    "plt.title('CNN Loss')\n",
    "plt.ylabel('loss')\n",
    "plt.xlabel('epoch')\n",
    "plt.legend(['train', 'validation'], loc='upper left')\n",
    "plt.show()"
   ]
  },
  {
   "cell_type": "code",
   "execution_count": 93,
   "metadata": {},
   "outputs": [],
   "source": [
    "y_hat = cnn.predict(X_test)"
   ]
  },
  {
   "cell_type": "code",
   "execution_count": 94,
   "metadata": {},
   "outputs": [
    {
     "data": {
      "text/plain": [
       "0.18415485058264086"
      ]
     },
     "execution_count": 94,
     "metadata": {},
     "output_type": "execute_result"
    }
   ],
   "source": [
    "f1_score(list(map(lambda x: np.argmax(x), y_test)), list(map(lambda x: np.argmax(x), y_hat)), average='weighted')"
   ]
  },
  {
   "cell_type": "markdown",
   "metadata": {},
   "source": [
    "## Saving Models And Tokenizer"
   ]
  },
  {
   "cell_type": "code",
   "execution_count": 83,
   "metadata": {},
   "outputs": [
    {
     "name": "stdout",
     "output_type": "stream",
     "text": [
      "INFO:tensorflow:Assets written to: src/models/bi_lstm/assets\n"
     ]
    }
   ],
   "source": [
    "bi_lstm.save(\"src/tf_models/bi_lstm\")"
   ]
  },
  {
   "cell_type": "code",
   "execution_count": 82,
   "metadata": {},
   "outputs": [
    {
     "name": "stdout",
     "output_type": "stream",
     "text": [
      "INFO:tensorflow:Assets written to: src/models/cnn/assets\n"
     ]
    }
   ],
   "source": [
    "cnn.save(\"src/tf_models/cnn\")"
   ]
  },
  {
   "cell_type": "code",
   "execution_count": 101,
   "metadata": {},
   "outputs": [],
   "source": [
    "with bz2.BZ2File('src/pkl_objects/tokenizer.pbz2', 'w') as f:\n",
    "    cPickle.dump(tokenizer, f)"
   ]
  },
  {
   "cell_type": "code",
   "execution_count": null,
   "metadata": {},
   "outputs": [],
   "source": []
  }
 ],
 "metadata": {
  "kernelspec": {
   "display_name": "Python 3",
   "language": "python",
   "name": "python3"
  },
  "language_info": {
   "codemirror_mode": {
    "name": "ipython",
    "version": 3
   },
   "file_extension": ".py",
   "mimetype": "text/x-python",
   "name": "python",
   "nbconvert_exporter": "python",
   "pygments_lexer": "ipython3",
   "version": "3.7.6"
  }
 },
 "nbformat": 4,
 "nbformat_minor": 4
}
