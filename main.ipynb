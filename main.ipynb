{
 "cells": [
  {
   "cell_type": "code",
   "execution_count": 112,
   "metadata": {},
   "outputs": [],
   "source": [
    "import warnings\n",
    "warnings.filterwarnings(\"ignore\") \n",
    "\n",
    "import pandas as pd\n",
    "import numpy as np\n",
    "import matplotlib.pyplot as plt\n",
    "import seaborn as sns\n",
    "import nltk\n",
    "from tqdm import tqdm\n",
    "\n",
    "import pickle\n",
    "import os\n",
    "import re\n",
    "\n",
    "import bz2\n",
    "import _pickle as cPickle\n",
    "\n",
    "from keras.preprocessing.text import Tokenizer\n",
    "from keras.preprocessing.sequence import pad_sequences\n",
    "from keras.models import Sequential\n",
    "from keras.layers import *\n",
    "from keras.utils.np_utils import to_categorical\n",
    "from keras.initializers import Constant\n",
    "\n",
    "from sklearn.model_selection import train_test_split\n",
    "from sklearn.metrics import f1_score"
   ]
  },
  {
   "cell_type": "code",
   "execution_count": 44,
   "metadata": {},
   "outputs": [],
   "source": [
    "TWEMOJI_DATASET = './datasets/samples/combined_csv.csv'\n",
    "EMOJI_MAPPINGS = './datasets/emoji_map_1791.csv'\n",
    "pkl_dest = os.path.join('src', 'pkl_objects')"
   ]
  },
  {
   "cell_type": "code",
   "execution_count": 45,
   "metadata": {},
   "outputs": [],
   "source": [
    "twemoji = pd.read_csv(TWEMOJI_DATASET)"
   ]
  },
  {
   "cell_type": "code",
   "execution_count": 46,
   "metadata": {},
   "outputs": [],
   "source": [
    "mappings = pd.read_csv(EMOJI_MAPPINGS)"
   ]
  },
  {
   "cell_type": "code",
   "execution_count": 47,
   "metadata": {},
   "outputs": [],
   "source": [
    "twemoji = twemoji.reindex(np.random.permutation(twemoji.index))"
   ]
  },
  {
   "cell_type": "markdown",
   "metadata": {},
   "source": [
    "# Mappings"
   ]
  },
  {
   "cell_type": "code",
   "execution_count": 48,
   "metadata": {},
   "outputs": [
    {
     "data": {
      "text/html": [
       "<div>\n",
       "<style scoped>\n",
       "    .dataframe tbody tr th:only-of-type {\n",
       "        vertical-align: middle;\n",
       "    }\n",
       "\n",
       "    .dataframe tbody tr th {\n",
       "        vertical-align: top;\n",
       "    }\n",
       "\n",
       "    .dataframe thead th {\n",
       "        text-align: right;\n",
       "    }\n",
       "</style>\n",
       "<table border=\"1\" class=\"dataframe\">\n",
       "  <thead>\n",
       "    <tr style=\"text-align: right;\">\n",
       "      <th></th>\n",
       "      <th>Unnamed: 0</th>\n",
       "      <th>category</th>\n",
       "      <th>title</th>\n",
       "      <th>shorts</th>\n",
       "      <th>unicode_alternates</th>\n",
       "      <th>keywords</th>\n",
       "      <th>ucode_short</th>\n",
       "      <th>ucode</th>\n",
       "      <th>aliases</th>\n",
       "      <th>alt_title</th>\n",
       "      <th>aliases_ascii</th>\n",
       "    </tr>\n",
       "  </thead>\n",
       "  <tbody>\n",
       "    <tr>\n",
       "      <th>0</th>\n",
       "      <td>#️⃣</td>\n",
       "      <td>symbols</td>\n",
       "      <td>keycap number sign</td>\n",
       "      <td>[hash]</td>\n",
       "      <td>0023-fe0f-20e3</td>\n",
       "      <td>[keycap, symbol, pound, hash, number]</td>\n",
       "      <td>0023_fe0f_20e3</td>\n",
       "      <td>#️⃣</td>\n",
       "      <td>NaN</td>\n",
       "      <td>NaN</td>\n",
       "      <td>NaN</td>\n",
       "    </tr>\n",
       "    <tr>\n",
       "      <th>1</th>\n",
       "      <td>*️⃣</td>\n",
       "      <td>symbols</td>\n",
       "      <td>keycap asterisk</td>\n",
       "      <td>[asterisk]</td>\n",
       "      <td>002a-fe0f-20e3</td>\n",
       "      <td>[keycap, symbol, asterisk, star]</td>\n",
       "      <td>002a_fe0f_20e3</td>\n",
       "      <td>*️⃣</td>\n",
       "      <td>[:keycap_asterisk:]</td>\n",
       "      <td>NaN</td>\n",
       "      <td>NaN</td>\n",
       "    </tr>\n",
       "    <tr>\n",
       "      <th>2</th>\n",
       "      <td>0️⃣</td>\n",
       "      <td>symbols</td>\n",
       "      <td>keycap digit zero</td>\n",
       "      <td>[zero]</td>\n",
       "      <td>0030-fe0f-20e3</td>\n",
       "      <td>[, keycap, symbol, number, zero, math]</td>\n",
       "      <td>0030_fe0f_20e3</td>\n",
       "      <td>0️⃣</td>\n",
       "      <td>NaN</td>\n",
       "      <td>NaN</td>\n",
       "      <td>NaN</td>\n",
       "    </tr>\n",
       "    <tr>\n",
       "      <th>3</th>\n",
       "      <td>1️⃣</td>\n",
       "      <td>symbols</td>\n",
       "      <td>keycap digit one</td>\n",
       "      <td>[one]</td>\n",
       "      <td>0031-fe0f-20e3</td>\n",
       "      <td>[, keycap, symbol, number, one, math]</td>\n",
       "      <td>0031_fe0f_20e3</td>\n",
       "      <td>1️⃣</td>\n",
       "      <td>NaN</td>\n",
       "      <td>NaN</td>\n",
       "      <td>NaN</td>\n",
       "    </tr>\n",
       "    <tr>\n",
       "      <th>4</th>\n",
       "      <td>2️⃣</td>\n",
       "      <td>symbols</td>\n",
       "      <td>keycap digit two</td>\n",
       "      <td>[two]</td>\n",
       "      <td>0032-fe0f-20e3</td>\n",
       "      <td>[, keycap, symbol, two, number, math]</td>\n",
       "      <td>0032_fe0f_20e3</td>\n",
       "      <td>2️⃣</td>\n",
       "      <td>NaN</td>\n",
       "      <td>NaN</td>\n",
       "      <td>NaN</td>\n",
       "    </tr>\n",
       "  </tbody>\n",
       "</table>\n",
       "</div>"
      ],
      "text/plain": [
       "  Unnamed: 0 category               title      shorts unicode_alternates  \\\n",
       "0        #️⃣  symbols  keycap number sign      [hash]     0023-fe0f-20e3   \n",
       "1        *️⃣  symbols     keycap asterisk  [asterisk]     002a-fe0f-20e3   \n",
       "2        0️⃣  symbols   keycap digit zero      [zero]     0030-fe0f-20e3   \n",
       "3        1️⃣  symbols    keycap digit one       [one]     0031-fe0f-20e3   \n",
       "4        2️⃣  symbols    keycap digit two       [two]     0032-fe0f-20e3   \n",
       "\n",
       "                                 keywords     ucode_short ucode  \\\n",
       "0   [keycap, symbol, pound, hash, number]  0023_fe0f_20e3   #️⃣   \n",
       "1        [keycap, symbol, asterisk, star]  002a_fe0f_20e3   *️⃣   \n",
       "2  [, keycap, symbol, number, zero, math]  0030_fe0f_20e3   0️⃣   \n",
       "3   [, keycap, symbol, number, one, math]  0031_fe0f_20e3   1️⃣   \n",
       "4   [, keycap, symbol, two, number, math]  0032_fe0f_20e3   2️⃣   \n",
       "\n",
       "               aliases alt_title aliases_ascii  \n",
       "0                  NaN       NaN           NaN  \n",
       "1  [:keycap_asterisk:]       NaN           NaN  \n",
       "2                  NaN       NaN           NaN  \n",
       "3                  NaN       NaN           NaN  \n",
       "4                  NaN       NaN           NaN  "
      ]
     },
     "execution_count": 48,
     "metadata": {},
     "output_type": "execute_result"
    }
   ],
   "source": [
    "# we can see that we now have the dataframe that contain all \n",
    "# the emoji mappings\n",
    "mappings.head(5) "
   ]
  },
  {
   "cell_type": "markdown",
   "metadata": {},
   "source": [
    "# Cleaning and Preparing"
   ]
  },
  {
   "cell_type": "code",
   "execution_count": 49,
   "metadata": {},
   "outputs": [],
   "source": [
    "replace_puncts = {'`': \"'\", '′': \"'\", '“':'\"', '”': '\"', '‘': \"'\"}\n",
    "\n",
    "strip_chars = [',', '.', '\"', ':', ')', '(', '-', '|', ';', \"'\", '[', ']', '>', '=', '+', '\\\\', '•',  '~', '@', \n",
    " '·', '_', '{', '}', '©', '^', '®', '`',  '<', '→', '°', '€', '™', '›',  '♥', '←', '×', '§', '″', '′', 'Â', '█', '½', 'à', '…', \n",
    " '“', '★', '”', '–', '●', 'â', '►', '−', '¢', '²', '¬', '░', '¶', '↑', '±', '¿', '▾', '═', '¦', '║', '―', '¥', '▓', '—', '‹', '─', \n",
    " '▒', '：', '¼', '⊕', '▼', '▪', '†', '■', '’', '▀', '¨', '▄', '♫', '☆', 'é', '¯', '♦', '¤', '▲', 'è', '¸', '¾', 'Ã', '⋅', '‘', '∞', \n",
    " '∙', '）', '↓', '、', '│', '（', '»', '，', '♪', '╩', '╚', '³', '・', '╦', '╣', '╔', '╗', '▬', '❤', 'ï', 'Ø', '¹', '≤', '‡', '√', ]\n",
    "\n",
    "puncts = ['!', '?', '$', '&', '/', '%', '#', '*','£']"
   ]
  },
  {
   "cell_type": "code",
   "execution_count": 50,
   "metadata": {},
   "outputs": [],
   "source": [
    "def clean_str(x):\n",
    "    x = str(x)\n",
    "    \n",
    "    x = x.lower()\n",
    "    \n",
    "    x = re.sub(r\"(https?:\\/\\/(?:www\\.|(?!www))[a-zA-Z0-9][a-zA-Z0-9-]+[a-zA-Z0-9]\\.[^\\s]{2,}|www\\.[a-zA-Z0-9][a-zA-Z0-9-]+[a-zA-Z0-9]\\.[^\\s]{2,}|https?:\\/\\/(?:www\\.|(?!www))[a-zA-Z0-9]\\.[^\\s]{2,}|www\\.[a-zA-Z0-9]\\.[^\\s]{2,})\", \"url\", x)\n",
    "    \n",
    "    for k, v in replace_puncts.items():\n",
    "        x = x.replace(k, f' {v} ')\n",
    "        \n",
    "    for punct in strip_chars:\n",
    "        x = x.replace(punct, ' ')\n",
    "        \n",
    "    for punct in puncts:\n",
    "        x = x.replace(punct, f' {punct} ')\n",
    "        \n",
    "    x = x.replace(\" '\", \" \")\n",
    "    x = x.replace(\"' \", \" \")\n",
    "    \n",
    "    return x"
   ]
  },
  {
   "cell_type": "code",
   "execution_count": 51,
   "metadata": {},
   "outputs": [
    {
     "data": {
      "text/plain": [
       "Index(['id', 'annotations', 'id_text'], dtype='object')"
      ]
     },
     "execution_count": 51,
     "metadata": {},
     "output_type": "execute_result"
    }
   ],
   "source": [
    "# lets see how many columns \n",
    "# does the dataset have\n",
    "twemoji.columns"
   ]
  },
  {
   "cell_type": "code",
   "execution_count": 52,
   "metadata": {},
   "outputs": [],
   "source": [
    "# rename annotations to target\n",
    "# rename id_text to tweet\n",
    "twemoji = twemoji.rename(columns={\"annotations\":'target', \"id_text\":\"text\"})"
   ]
  },
  {
   "cell_type": "code",
   "execution_count": 53,
   "metadata": {},
   "outputs": [
    {
     "data": {
      "text/html": [
       "<div>\n",
       "<style scoped>\n",
       "    .dataframe tbody tr th:only-of-type {\n",
       "        vertical-align: middle;\n",
       "    }\n",
       "\n",
       "    .dataframe tbody tr th {\n",
       "        vertical-align: top;\n",
       "    }\n",
       "\n",
       "    .dataframe thead th {\n",
       "        text-align: right;\n",
       "    }\n",
       "</style>\n",
       "<table border=\"1\" class=\"dataframe\">\n",
       "  <thead>\n",
       "    <tr style=\"text-align: right;\">\n",
       "      <th></th>\n",
       "      <th>id</th>\n",
       "      <th>target</th>\n",
       "      <th>text</th>\n",
       "    </tr>\n",
       "  </thead>\n",
       "  <tbody>\n",
       "    <tr>\n",
       "      <th>2358381</th>\n",
       "      <td>746807711090810880</td>\n",
       "      <td>1620</td>\n",
       "      <td>NaN</td>\n",
       "    </tr>\n",
       "    <tr>\n",
       "      <th>1334601</th>\n",
       "      <td>742626238104272896</td>\n",
       "      <td>186</td>\n",
       "      <td>NaN</td>\n",
       "    </tr>\n",
       "    <tr>\n",
       "      <th>3430516</th>\n",
       "      <td>742075272665665536</td>\n",
       "      <td>1399</td>\n",
       "      <td>NaN</td>\n",
       "    </tr>\n",
       "    <tr>\n",
       "      <th>2979477</th>\n",
       "      <td>747562766152544256</td>\n",
       "      <td>1620</td>\n",
       "      <td>NaN</td>\n",
       "    </tr>\n",
       "    <tr>\n",
       "      <th>733893</th>\n",
       "      <td>746702913435738112</td>\n",
       "      <td>1392</td>\n",
       "      <td>NaN</td>\n",
       "    </tr>\n",
       "  </tbody>\n",
       "</table>\n",
       "</div>"
      ],
      "text/plain": [
       "                         id  target text\n",
       "2358381  746807711090810880    1620  NaN\n",
       "1334601  742626238104272896     186  NaN\n",
       "3430516  742075272665665536    1399  NaN\n",
       "2979477  747562766152544256    1620  NaN\n",
       "733893   746702913435738112    1392  NaN"
      ]
     },
     "execution_count": 53,
     "metadata": {},
     "output_type": "execute_result"
    }
   ],
   "source": [
    "twemoji.head() "
   ]
  },
  {
   "cell_type": "code",
   "execution_count": 54,
   "metadata": {},
   "outputs": [],
   "source": [
    "# since the id column is no longer needed\n",
    "# we can simply drop it\n",
    "twemoji = twemoji.drop(columns=[\"id\"])"
   ]
  },
  {
   "cell_type": "code",
   "execution_count": 55,
   "metadata": {},
   "outputs": [
    {
     "data": {
      "text/html": [
       "<div>\n",
       "<style scoped>\n",
       "    .dataframe tbody tr th:only-of-type {\n",
       "        vertical-align: middle;\n",
       "    }\n",
       "\n",
       "    .dataframe tbody tr th {\n",
       "        vertical-align: top;\n",
       "    }\n",
       "\n",
       "    .dataframe thead th {\n",
       "        text-align: right;\n",
       "    }\n",
       "</style>\n",
       "<table border=\"1\" class=\"dataframe\">\n",
       "  <thead>\n",
       "    <tr style=\"text-align: right;\">\n",
       "      <th></th>\n",
       "      <th>target</th>\n",
       "      <th>text</th>\n",
       "    </tr>\n",
       "  </thead>\n",
       "  <tbody>\n",
       "    <tr>\n",
       "      <th>2358381</th>\n",
       "      <td>1620</td>\n",
       "      <td>NaN</td>\n",
       "    </tr>\n",
       "    <tr>\n",
       "      <th>1334601</th>\n",
       "      <td>186</td>\n",
       "      <td>NaN</td>\n",
       "    </tr>\n",
       "    <tr>\n",
       "      <th>3430516</th>\n",
       "      <td>1399</td>\n",
       "      <td>NaN</td>\n",
       "    </tr>\n",
       "    <tr>\n",
       "      <th>2979477</th>\n",
       "      <td>1620</td>\n",
       "      <td>NaN</td>\n",
       "    </tr>\n",
       "    <tr>\n",
       "      <th>733893</th>\n",
       "      <td>1392</td>\n",
       "      <td>NaN</td>\n",
       "    </tr>\n",
       "  </tbody>\n",
       "</table>\n",
       "</div>"
      ],
      "text/plain": [
       "         target text\n",
       "2358381    1620  NaN\n",
       "1334601     186  NaN\n",
       "3430516    1399  NaN\n",
       "2979477    1620  NaN\n",
       "733893     1392  NaN"
      ]
     },
     "execution_count": 55,
     "metadata": {},
     "output_type": "execute_result"
    }
   ],
   "source": [
    "twemoji.head()"
   ]
  },
  {
   "cell_type": "code",
   "execution_count": 56,
   "metadata": {},
   "outputs": [
    {
     "data": {
      "text/plain": [
       "3878060"
      ]
     },
     "execution_count": 56,
     "metadata": {},
     "output_type": "execute_result"
    }
   ],
   "source": [
    "# Lets check how many null values exist in \n",
    "# the dataset\n",
    "twemoji['text'].isna().sum()"
   ]
  },
  {
   "cell_type": "code",
   "execution_count": 57,
   "metadata": {},
   "outputs": [],
   "source": [
    "# We can't do much with null values\n",
    "# So we drop them\n",
    "twemoji = twemoji.dropna()"
   ]
  },
  {
   "cell_type": "code",
   "execution_count": 58,
   "metadata": {},
   "outputs": [],
   "source": [
    "twemoji['text'] = twemoji['text'].apply(clean_str)"
   ]
  },
  {
   "cell_type": "code",
   "execution_count": 59,
   "metadata": {},
   "outputs": [
    {
     "data": {
      "text/html": [
       "<div>\n",
       "<style scoped>\n",
       "    .dataframe tbody tr th:only-of-type {\n",
       "        vertical-align: middle;\n",
       "    }\n",
       "\n",
       "    .dataframe tbody tr th {\n",
       "        vertical-align: top;\n",
       "    }\n",
       "\n",
       "    .dataframe thead th {\n",
       "        text-align: right;\n",
       "    }\n",
       "</style>\n",
       "<table border=\"1\" class=\"dataframe\">\n",
       "  <thead>\n",
       "    <tr style=\"text-align: right;\">\n",
       "      <th></th>\n",
       "      <th>target</th>\n",
       "      <th>text</th>\n",
       "    </tr>\n",
       "  </thead>\n",
       "  <tbody>\n",
       "    <tr>\n",
       "      <th>1397592</th>\n",
       "      <td>1381</td>\n",
       "      <td>oh ?  nice nice</td>\n",
       "    </tr>\n",
       "    <tr>\n",
       "      <th>1811660</th>\n",
       "      <td>1447</td>\n",
       "      <td>i ve not seen the dm oh</td>\n",
       "    </tr>\n",
       "    <tr>\n",
       "      <th>1766770</th>\n",
       "      <td>1422</td>\n",
       "      <td>x06 on air   just leave me alone</td>\n",
       "    </tr>\n",
       "    <tr>\n",
       "      <th>1656931</th>\n",
       "      <td>1387</td>\n",
       "      <td>just beat canyon state by</td>\n",
       "    </tr>\n",
       "    <tr>\n",
       "      <th>1779328</th>\n",
       "      <td>1381</td>\n",
       "      <td>and we all hate them trucks on the road</td>\n",
       "    </tr>\n",
       "  </tbody>\n",
       "</table>\n",
       "</div>"
      ],
      "text/plain": [
       "         target                                     text\n",
       "1397592    1381                          oh ?  nice nice\n",
       "1811660    1447                  i ve not seen the dm oh\n",
       "1766770    1422         x06 on air   just leave me alone\n",
       "1656931    1387                just beat canyon state by\n",
       "1779328    1381  and we all hate them trucks on the road"
      ]
     },
     "execution_count": 59,
     "metadata": {},
     "output_type": "execute_result"
    }
   ],
   "source": [
    "twemoji.head()"
   ]
  },
  {
   "cell_type": "code",
   "execution_count": 60,
   "metadata": {},
   "outputs": [
    {
     "data": {
      "text/plain": [
       "(88567, 2)"
      ]
     },
     "execution_count": 60,
     "metadata": {},
     "output_type": "execute_result"
    }
   ],
   "source": [
    "# Lets check how big is the data set now\n",
    "twemoji.shape"
   ]
  },
  {
   "cell_type": "markdown",
   "metadata": {},
   "source": [
    "# Exploration"
   ]
  },
  {
   "cell_type": "code",
   "execution_count": 61,
   "metadata": {},
   "outputs": [
    {
     "data": {
      "text/plain": [
       "<AxesSubplot:xlabel='target'>"
      ]
     },
     "execution_count": 61,
     "metadata": {},
     "output_type": "execute_result"
    },
    {
     "data": {
      "image/png": "[encoded data removed]",
      "text/plain": [
       "<Figure size 432x288 with 1 Axes>"
      ]
     },
     "metadata": {
      "needs_background": "light"
     },
     "output_type": "display_data"
    }
   ],
   "source": [
    "# lets see the distribution of our target values\n",
    "sns.distplot(twemoji['target'], color='red', bins=10)"
   ]
  },
  {
   "cell_type": "code",
   "execution_count": 62,
   "metadata": {},
   "outputs": [
    {
     "data": {
      "text/plain": [
       "1381"
      ]
     },
     "execution_count": 62,
     "metadata": {},
     "output_type": "execute_result"
    }
   ],
   "source": [
    "most_frequent = twemoji['target'].value_counts().idxmax() \n",
    "most_frequent"
   ]
  },
  {
   "cell_type": "code",
   "execution_count": 63,
   "metadata": {},
   "outputs": [
    {
     "data": {
      "text/plain": [
       "Unnamed: 0                                                            😂\n",
       "category                                                         people\n",
       "title                                            face with tears of joy\n",
       "shorts                                                            [joy]\n",
       "unicode_alternates                                                  NaN\n",
       "keywords              [emotion, cry, tear, joy, smiley, sarcastic, f...\n",
       "ucode_short                                                       1f602\n",
       "ucode                                                                 😂\n",
       "aliases                                                             NaN\n",
       "alt_title                                                           NaN\n",
       "aliases_ascii                                               [:'), :'-)]\n",
       "Name: 1381, dtype: object"
      ]
     },
     "execution_count": 63,
     "metadata": {},
     "output_type": "execute_result"
    }
   ],
   "source": [
    "# The laughing face emoji is the most popular in this dataset\n",
    "mappings.loc[most_frequent]"
   ]
  },
  {
   "cell_type": "code",
   "execution_count": 64,
   "metadata": {},
   "outputs": [
    {
     "data": {
      "text/plain": [
       "[1381,\n",
       " 1447,\n",
       " 1424,\n",
       " 1392,\n",
       " 1389,\n",
       " 186,\n",
       " 1620,\n",
       " 1420,\n",
       " 1446,\n",
       " 1403,\n",
       " 1138,\n",
       " 1397,\n",
       " 1384,\n",
       " 1107,\n",
       " 830,\n",
       " 1056,\n",
       " 1393,\n",
       " 1380,\n",
       " 1394,\n",
       " 1210]"
      ]
     },
     "execution_count": 64,
     "metadata": {},
     "output_type": "execute_result"
    }
   ],
   "source": [
    "# Lets see the 10 most frequently used emojis\n",
    "top_twenty = twemoji['target'].value_counts()[:20].index.tolist() \n",
    "top_twenty"
   ]
  },
  {
   "cell_type": "code",
   "execution_count": 65,
   "metadata": {},
   "outputs": [
    {
     "data": {
      "text/html": [
       "<div>\n",
       "<style scoped>\n",
       "    .dataframe tbody tr th:only-of-type {\n",
       "        vertical-align: middle;\n",
       "    }\n",
       "\n",
       "    .dataframe tbody tr th {\n",
       "        vertical-align: top;\n",
       "    }\n",
       "\n",
       "    .dataframe thead th {\n",
       "        text-align: right;\n",
       "    }\n",
       "</style>\n",
       "<table border=\"1\" class=\"dataframe\">\n",
       "  <thead>\n",
       "    <tr style=\"text-align: right;\">\n",
       "      <th></th>\n",
       "      <th>Unnamed: 0</th>\n",
       "      <th>category</th>\n",
       "      <th>title</th>\n",
       "      <th>shorts</th>\n",
       "      <th>unicode_alternates</th>\n",
       "      <th>keywords</th>\n",
       "      <th>ucode_short</th>\n",
       "      <th>ucode</th>\n",
       "      <th>aliases</th>\n",
       "      <th>alt_title</th>\n",
       "      <th>aliases_ascii</th>\n",
       "    </tr>\n",
       "  </thead>\n",
       "  <tbody>\n",
       "    <tr>\n",
       "      <th>1381</th>\n",
       "      <td>😂</td>\n",
       "      <td>people</td>\n",
       "      <td>face with tears of joy</td>\n",
       "      <td>[joy]</td>\n",
       "      <td>NaN</td>\n",
       "      <td>[emotion, cry, tear, joy, smiley, sarcastic, f...</td>\n",
       "      <td>1f602</td>\n",
       "      <td>😂</td>\n",
       "      <td>NaN</td>\n",
       "      <td>NaN</td>\n",
       "      <td>[:'), :'-)]</td>\n",
       "    </tr>\n",
       "    <tr>\n",
       "      <th>1447</th>\n",
       "      <td>🙄</td>\n",
       "      <td>people</td>\n",
       "      <td>face with rolling eyes</td>\n",
       "      <td>[rolling_eyes, face_with_rolling_eyes]</td>\n",
       "      <td>NaN</td>\n",
       "      <td>[emotion, eyes, rolling eyes, smiley, sarcasti...</td>\n",
       "      <td>1f644</td>\n",
       "      <td>🙄</td>\n",
       "      <td>[:face_with_rolling_eyes:]</td>\n",
       "      <td>NaN</td>\n",
       "      <td>NaN</td>\n",
       "    </tr>\n",
       "    <tr>\n",
       "      <th>1424</th>\n",
       "      <td>😭</td>\n",
       "      <td>people</td>\n",
       "      <td>loudly crying face</td>\n",
       "      <td>[sob]</td>\n",
       "      <td>NaN</td>\n",
       "      <td>[emotion, sob, tear, cry, smiley, sad, heartbr...</td>\n",
       "      <td>1f62d</td>\n",
       "      <td>😭</td>\n",
       "      <td>NaN</td>\n",
       "      <td>NaN</td>\n",
       "      <td>NaN</td>\n",
       "    </tr>\n",
       "    <tr>\n",
       "      <th>1392</th>\n",
       "      <td>😍</td>\n",
       "      <td>people</td>\n",
       "      <td>smiling face with heart shaped eyes</td>\n",
       "      <td>[heart_eyes]</td>\n",
       "      <td>NaN</td>\n",
       "      <td>[emotion, heart, eye, love, smiley, face, beau...</td>\n",
       "      <td>1f60d</td>\n",
       "      <td>😍</td>\n",
       "      <td>NaN</td>\n",
       "      <td>smiling face with heart-shaped eyes</td>\n",
       "      <td>NaN</td>\n",
       "    </tr>\n",
       "    <tr>\n",
       "      <th>1389</th>\n",
       "      <td>😊</td>\n",
       "      <td>people</td>\n",
       "      <td>smiling face with smiling eyes</td>\n",
       "      <td>[blush]</td>\n",
       "      <td>NaN</td>\n",
       "      <td>[emotion, beautiful, good, eye, smiley, face, ...</td>\n",
       "      <td>1f60a</td>\n",
       "      <td>😊</td>\n",
       "      <td>NaN</td>\n",
       "      <td>NaN</td>\n",
       "      <td>NaN</td>\n",
       "    </tr>\n",
       "  </tbody>\n",
       "</table>\n",
       "</div>"
      ],
      "text/plain": [
       "     Unnamed: 0 category                                title  \\\n",
       "1381          😂   people               face with tears of joy   \n",
       "1447          🙄   people               face with rolling eyes   \n",
       "1424          😭   people                   loudly crying face   \n",
       "1392          😍   people  smiling face with heart shaped eyes   \n",
       "1389          😊   people       smiling face with smiling eyes   \n",
       "\n",
       "                                      shorts unicode_alternates  \\\n",
       "1381                                   [joy]                NaN   \n",
       "1447  [rolling_eyes, face_with_rolling_eyes]                NaN   \n",
       "1424                                   [sob]                NaN   \n",
       "1392                            [heart_eyes]                NaN   \n",
       "1389                                 [blush]                NaN   \n",
       "\n",
       "                                               keywords ucode_short ucode  \\\n",
       "1381  [emotion, cry, tear, joy, smiley, sarcastic, f...       1f602     😂   \n",
       "1447  [emotion, eyes, rolling eyes, smiley, sarcasti...       1f644     🙄   \n",
       "1424  [emotion, sob, tear, cry, smiley, sad, heartbr...       1f62d     😭   \n",
       "1392  [emotion, heart, eye, love, smiley, face, beau...       1f60d     😍   \n",
       "1389  [emotion, beautiful, good, eye, smiley, face, ...       1f60a     😊   \n",
       "\n",
       "                         aliases                            alt_title  \\\n",
       "1381                         NaN                                  NaN   \n",
       "1447  [:face_with_rolling_eyes:]                                  NaN   \n",
       "1424                         NaN                                  NaN   \n",
       "1392                         NaN  smiling face with heart-shaped eyes   \n",
       "1389                         NaN                                  NaN   \n",
       "\n",
       "     aliases_ascii  \n",
       "1381   [:'), :'-)]  \n",
       "1447           NaN  \n",
       "1424           NaN  \n",
       "1392           NaN  \n",
       "1389           NaN  "
      ]
     },
     "execution_count": 65,
     "metadata": {},
     "output_type": "execute_result"
    }
   ],
   "source": [
    "# lets see the mappings\n",
    "mappings.loc[top_twenty].head()"
   ]
  },
  {
   "cell_type": "code",
   "execution_count": 66,
   "metadata": {},
   "outputs": [],
   "source": [
    "# We see that there is a high density around 1000-1500\n",
    "# lets reduce the number of emojis there exists to the\n",
    "# top 10 emojis that exists in the dataset\n",
    "# we could reduce the complexity of our problem. \n",
    "index_names = twemoji[~twemoji['target'].isin(top_twenty)].index\n",
    "twemoji = twemoji.drop(index_names)"
   ]
  },
  {
   "cell_type": "code",
   "execution_count": 67,
   "metadata": {},
   "outputs": [
    {
     "data": {
      "text/plain": [
       "<AxesSubplot:xlabel='target'>"
      ]
     },
     "execution_count": 67,
     "metadata": {},
     "output_type": "execute_result"
    },
    {
     "data": {
      "image/png": "[encoded data removed]",
      "text/plain": [
       "<Figure size 432x288 with 1 Axes>"
      ]
     },
     "metadata": {
      "needs_background": "light"
     },
     "output_type": "display_data"
    }
   ],
   "source": [
    "# lets see the distribution once again\n",
    "sns.distplot(twemoji['target'], color='red', bins=10)"
   ]
  },
  {
   "cell_type": "code",
   "execution_count": 68,
   "metadata": {},
   "outputs": [
    {
     "data": {
      "text/plain": [
       "[1381,\n",
       " 1447,\n",
       " 1424,\n",
       " 1392,\n",
       " 1389,\n",
       " 186,\n",
       " 1620,\n",
       " 1420,\n",
       " 1446,\n",
       " 1403,\n",
       " 1138,\n",
       " 1397,\n",
       " 1384,\n",
       " 1107,\n",
       " 830,\n",
       " 1056,\n",
       " 1393,\n",
       " 1380,\n",
       " 1394,\n",
       " 1210]"
      ]
     },
     "execution_count": 68,
     "metadata": {},
     "output_type": "execute_result"
    }
   ],
   "source": [
    "# For sanity check lets see if the remaining emojis\n",
    "# are only the top ten emojis\n",
    "twemoji['target'].value_counts().index.tolist() "
   ]
  },
  {
   "cell_type": "code",
   "execution_count": 69,
   "metadata": {},
   "outputs": [
    {
     "data": {
      "text/plain": [
       "(44933, 2)"
      ]
     },
     "execution_count": 69,
     "metadata": {},
     "output_type": "execute_result"
    }
   ],
   "source": [
    "twemoji.shape"
   ]
  },
  {
   "cell_type": "code",
   "execution_count": 70,
   "metadata": {},
   "outputs": [
    {
     "data": {
      "text/plain": [
       "<AxesSubplot:xlabel='target', ylabel='count'>"
      ]
     },
     "execution_count": 70,
     "metadata": {},
     "output_type": "execute_result"
    },
    {
     "data": {
      "image/png": "[encoded data removed]",
      "text/plain": [
       "<Figure size 842.4x595.44 with 1 Axes>"
      ]
     },
     "metadata": {
      "needs_background": "light"
     },
     "output_type": "display_data"
    }
   ],
   "source": [
    "fig, ax = plt.subplots(figsize=(11.7, 8.27))\n",
    "sns.countplot(ax=ax, x='target', data=twemoji)"
   ]
  },
  {
   "cell_type": "markdown",
   "metadata": {},
   "source": [
    "## Imbalance Dataset "
   ]
  },
  {
   "cell_type": "code",
   "execution_count": 71,
   "metadata": {},
   "outputs": [],
   "source": [
    "MINIMUM_CLASS_SIZE = min(np.array(twemoji['target'].value_counts()))"
   ]
  },
  {
   "cell_type": "code",
   "execution_count": 72,
   "metadata": {},
   "outputs": [],
   "source": [
    "twemoji = twemoji.groupby('target').apply(lambda x: x.sample(MINIMUM_CLASS_SIZE))"
   ]
  },
  {
   "cell_type": "code",
   "execution_count": 73,
   "metadata": {},
   "outputs": [
    {
     "data": {
      "text/plain": [
       "(20080, 2)"
      ]
     },
     "execution_count": 73,
     "metadata": {},
     "output_type": "execute_result"
    }
   ],
   "source": [
    "twemoji.shape"
   ]
  },
  {
   "cell_type": "code",
   "execution_count": 74,
   "metadata": {},
   "outputs": [
    {
     "data": {
      "text/plain": [
       "<AxesSubplot:xlabel='target', ylabel='count'>"
      ]
     },
     "execution_count": 74,
     "metadata": {},
     "output_type": "execute_result"
    },
    {
     "data": {
      "image/png": "[encoded data removed]",
      "text/plain": [
       "<Figure size 842.4x595.44 with 1 Axes>"
      ]
     },
     "metadata": {
      "needs_background": "light"
     },
     "output_type": "display_data"
    }
   ],
   "source": [
    "fig, ax = plt.subplots(figsize=(11.7, 8.27))\n",
    "sns.countplot(ax=ax, x='target', data=twemoji,)"
   ]
  },
  {
   "cell_type": "code",
   "execution_count": 75,
   "metadata": {},
   "outputs": [],
   "source": [
    "twemoji['l'] = twemoji['text'].apply(lambda x: len(str(x).split(' '))) "
   ]
  },
  {
   "cell_type": "code",
   "execution_count": 76,
   "metadata": {},
   "outputs": [
    {
     "name": "stdout",
     "output_type": "stream",
     "text": [
      "mean length of sentence: 10.139641434262948\n",
      "max length of sentence: 60\n",
      "std dev length of sentence: 7.126312103070171\n"
     ]
    }
   ],
   "source": [
    "print(\"mean length of sentence: \" + str(twemoji.l.mean()))\n",
    "print(\"max length of sentence: \" + str(twemoji.l.max()))\n",
    "print(\"std dev length of sentence: \" + str(twemoji.l.std()))"
   ]
  },
  {
   "cell_type": "code",
   "execution_count": 77,
   "metadata": {},
   "outputs": [],
   "source": [
    "sequence_length = 60"
   ]
  },
  {
   "cell_type": "markdown",
   "metadata": {},
   "source": [
    "## Tokenize"
   ]
  },
  {
   "cell_type": "code",
   "execution_count": 78,
   "metadata": {},
   "outputs": [],
   "source": [
    "max_features = 2000 # numer of words we care about\n",
    "\n",
    "tokenizer = Tokenizer(num_words=max_features, split=' ', oov_token='<unw>', filters=' ')\n",
    "tokenizer.fit_on_texts(twemoji['text'].values)"
   ]
  },
  {
   "cell_type": "code",
   "execution_count": 79,
   "metadata": {},
   "outputs": [],
   "source": [
    "# convert all text to vectors\n",
    "X = tokenizer.texts_to_sequences(twemoji['text'].values) "
   ]
  },
  {
   "cell_type": "code",
   "execution_count": 80,
   "metadata": {},
   "outputs": [],
   "source": [
    "# pad sequences so they are all the same length\n",
    "X = pad_sequences(X, sequence_length)"
   ]
  },
  {
   "cell_type": "code",
   "execution_count": 81,
   "metadata": {},
   "outputs": [],
   "source": [
    "y = pd.get_dummies(twemoji['target']).values"
   ]
  },
  {
   "cell_type": "code",
   "execution_count": 82,
   "metadata": {},
   "outputs": [],
   "source": [
    "X_train, X_test, y_train, y_test = train_test_split(X, y, test_size=0.1)"
   ]
  },
  {
   "cell_type": "code",
   "execution_count": 83,
   "metadata": {},
   "outputs": [
    {
     "name": "stdout",
     "output_type": "stream",
     "text": [
      "Test Set Size 2008\n"
     ]
    }
   ],
   "source": [
    "print('Test Set Size ' + str(len(X_test)))"
   ]
  },
  {
   "cell_type": "markdown",
   "metadata": {},
   "source": [
    "## GloVe"
   ]
  },
  {
   "cell_type": "code",
   "execution_count": 84,
   "metadata": {},
   "outputs": [
    {
     "name": "stdout",
     "output_type": "stream",
     "text": [
      "Found 1193515 word vectors\n"
     ]
    }
   ],
   "source": [
    "embeddings_index = {}\n",
    "f = open(os.path.join('src/embeddings', 'glove.twitter.27B.100d.txt'))\n",
    "for line in f:\n",
    "    values = line.split()\n",
    "    word = values[0]\n",
    "    coefs = np.asarray(values[1:], dtype='float32')\n",
    "    embeddings_index[word] = coefs\n",
    "f.close\n",
    "\n",
    "print('Found %s word vectors' % len(embeddings_index))"
   ]
  },
  {
   "cell_type": "code",
   "execution_count": 85,
   "metadata": {},
   "outputs": [
    {
     "name": "stdout",
     "output_type": "stream",
     "text": [
      "Found 15346 unique tokens\n"
     ]
    }
   ],
   "source": [
    "word_index = tokenizer.word_index\n",
    "print('Found %s unique tokens' % len(word_index))"
   ]
  },
  {
   "cell_type": "code",
   "execution_count": 86,
   "metadata": {},
   "outputs": [
    {
     "name": "stdout",
     "output_type": "stream",
     "text": [
      "2001\n"
     ]
    }
   ],
   "source": [
    "num_words = min(max_features, len(word_index)) + 1\n",
    "print(num_words)"
   ]
  },
  {
   "cell_type": "code",
   "execution_count": 87,
   "metadata": {},
   "outputs": [],
   "source": [
    "embedding_dim = 100\n",
    "embedding_matrix = np.zeros((num_words, embedding_dim))"
   ]
  },
  {
   "cell_type": "code",
   "execution_count": 88,
   "metadata": {},
   "outputs": [],
   "source": [
    "for word, i in word_index.items():\n",
    "    if i > max_features:\n",
    "        continue\n",
    "        \n",
    "    embedding_vector = embeddings_index.get(word)\n",
    "    \n",
    "    if embedding_vector is not None:\n",
    "        embedding_matrix[i] = embedding_vector\n",
    "    else:\n",
    "        embedding_matrix[i] = np.random.randn(embedding_dim)"
   ]
  },
  {
   "cell_type": "markdown",
   "metadata": {},
   "source": [
    "## Bi-LSTM"
   ]
  },
  {
   "cell_type": "code",
   "execution_count": 93,
   "metadata": {},
   "outputs": [],
   "source": [
    "model = Sequential()\n",
    "model.add(Embedding(num_words, embedding_dim, \n",
    "                    embeddings_initializer=Constant(embedding_matrix),\n",
    "                    input_length=sequence_length, trainable=True))\n",
    "\n",
    "model.add(SpatialDropout1D(0.2))\n",
    "model.add(Bidirectional(LSTM(64, return_sequences=True)))\n",
    "model.add(Bidirectional(LSTM(32)))\n",
    "model.add(Dropout(0.25))\n",
    "model.add(Dense(units=20, activation='softmax'))\n",
    "model.compile(loss='categorical_crossentropy', optimizer='adam', metrics=['accuracy'])"
   ]
  },
  {
   "cell_type": "code",
   "execution_count": 94,
   "metadata": {},
   "outputs": [
    {
     "name": "stdout",
     "output_type": "stream",
     "text": [
      "Model: \"sequential_1\"\n",
      "_________________________________________________________________\n",
      "Layer (type)                 Output Shape              Param #   \n",
      "=================================================================\n",
      "embedding_1 (Embedding)      (None, 60, 100)           200100    \n",
      "_________________________________________________________________\n",
      "spatial_dropout1d_1 (Spatial (None, 60, 100)           0         \n",
      "_________________________________________________________________\n",
      "bidirectional_2 (Bidirection (None, 60, 128)           84480     \n",
      "_________________________________________________________________\n",
      "bidirectional_3 (Bidirection (None, 64)                41216     \n",
      "_________________________________________________________________\n",
      "dropout_1 (Dropout)          (None, 64)                0         \n",
      "_________________________________________________________________\n",
      "dense_1 (Dense)              (None, 20)                1300      \n",
      "=================================================================\n",
      "Total params: 327,096\n",
      "Trainable params: 327,096\n",
      "Non-trainable params: 0\n",
      "_________________________________________________________________\n"
     ]
    }
   ],
   "source": [
    "model.summary()"
   ]
  },
  {
   "cell_type": "code",
   "execution_count": 96,
   "metadata": {},
   "outputs": [
    {
     "name": "stdout",
     "output_type": "stream",
     "text": [
      "Epoch 1/15\n",
      "128/128 [==============================] - 9s 69ms/step - loss: 2.5569 - accuracy: 0.1984 - val_loss: 2.6287 - val_accuracy: 0.1875\n",
      "Epoch 2/15\n",
      "128/128 [==============================] - 8s 65ms/step - loss: 2.5166 - accuracy: 0.2154 - val_loss: 2.6299 - val_accuracy: 0.1941\n",
      "Epoch 3/15\n",
      "128/128 [==============================] - 9s 67ms/step - loss: 2.4854 - accuracy: 0.2233 - val_loss: 2.6258 - val_accuracy: 0.1914\n",
      "Epoch 4/15\n",
      "128/128 [==============================] - 9s 70ms/step - loss: 2.4545 - accuracy: 0.2298 - val_loss: 2.6120 - val_accuracy: 0.1941\n",
      "Epoch 5/15\n",
      "128/128 [==============================] - 9s 67ms/step - loss: 2.4233 - accuracy: 0.2415 - val_loss: 2.6250 - val_accuracy: 0.1886\n",
      "Epoch 6/15\n",
      "128/128 [==============================] - 9s 69ms/step - loss: 2.3973 - accuracy: 0.2493 - val_loss: 2.6442 - val_accuracy: 0.1814\n",
      "Epoch 7/15\n",
      "128/128 [==============================] - 9s 71ms/step - loss: 2.3693 - accuracy: 0.2592 - val_loss: 2.6472 - val_accuracy: 0.1853\n",
      "Epoch 8/15\n",
      "128/128 [==============================] - 9s 72ms/step - loss: 2.3347 - accuracy: 0.2699 - val_loss: 2.6450 - val_accuracy: 0.1853\n",
      "Epoch 9/15\n",
      "128/128 [==============================] - 9s 70ms/step - loss: 2.3093 - accuracy: 0.2750 - val_loss: 2.6634 - val_accuracy: 0.1886\n",
      "Epoch 10/15\n",
      "128/128 [==============================] - 9s 70ms/step - loss: 2.2791 - accuracy: 0.2831 - val_loss: 2.6921 - val_accuracy: 0.1864\n",
      "Epoch 11/15\n",
      "128/128 [==============================] - 9s 71ms/step - loss: 2.2518 - accuracy: 0.2906 - val_loss: 2.6949 - val_accuracy: 0.1903\n",
      "Epoch 12/15\n",
      "128/128 [==============================] - 9s 70ms/step - loss: 2.2219 - accuracy: 0.3031 - val_loss: 2.7248 - val_accuracy: 0.1792\n",
      "Epoch 13/15\n",
      "128/128 [==============================] - 9s 69ms/step - loss: 2.1892 - accuracy: 0.3125 - val_loss: 2.7102 - val_accuracy: 0.1869\n",
      "Epoch 14/15\n",
      "128/128 [==============================] - 9s 69ms/step - loss: 2.1626 - accuracy: 0.3182 - val_loss: 2.7513 - val_accuracy: 0.1809\n",
      "Epoch 15/15\n",
      "128/128 [==============================] - 9s 71ms/step - loss: 2.1382 - accuracy: 0.3270 - val_loss: 2.7865 - val_accuracy: 0.1842\n"
     ]
    }
   ],
   "source": [
    "batch_size = 128\n",
    "history = model.fit(X_train, y_train, epochs=15, batch_size=batch_size, verbose=1, validation_split=0.1)"
   ]
  },
  {
   "cell_type": "code",
   "execution_count": 104,
   "metadata": {},
   "outputs": [
    {
     "data": {
      "image/png": "[encoded data removed]",
      "text/plain": [
       "<Figure size 432x288 with 1 Axes>"
      ]
     },
     "metadata": {
      "needs_background": "light"
     },
     "output_type": "display_data"
    }
   ],
   "source": [
    "plt.plot(history.history['accuracy'])\n",
    "plt.plot(history.history['val_accuracy'])\n",
    "plt.title('Bi-LSTM Accuracy')\n",
    "plt.ylabel('accuracy')\n",
    "plt.xlabel('epoch')\n",
    "plt.legend(['train', 'validation'], loc='upper left')\n",
    "plt.show()"
   ]
  },
  {
   "cell_type": "code",
   "execution_count": 105,
   "metadata": {},
   "outputs": [
    {
     "data": {
      "image/png": "[encoded data removed]",
      "text/plain": [
       "<Figure size 432x288 with 1 Axes>"
      ]
     },
     "metadata": {
      "needs_background": "light"
     },
     "output_type": "display_data"
    }
   ],
   "source": [
    "plt.plot(history.history['loss'])\n",
    "plt.plot(history.history['val_loss'])\n",
    "plt.title('Bi-LSTM Loss')\n",
    "plt.ylabel('loss')\n",
    "plt.xlabel('epoch')\n",
    "plt.legend(['train', 'validation'], loc='upper left')\n",
    "plt.show()"
   ]
  },
  {
   "cell_type": "code",
   "execution_count": 109,
   "metadata": {},
   "outputs": [],
   "source": [
    "y_hat = model.predict(X_test)"
   ]
  },
  {
   "cell_type": "code",
   "execution_count": 118,
   "metadata": {},
   "outputs": [
    {
     "data": {
      "text/plain": [
       "0.17501132155759921"
      ]
     },
     "execution_count": 118,
     "metadata": {},
     "output_type": "execute_result"
    }
   ],
   "source": [
    "f1_score(list(map(lambda x: np.argmax(x), y_test)), list(map(lambda x: np.argmax(x), y_hat)), average='weighted')"
   ]
  },
  {
   "cell_type": "code",
   "execution_count": null,
   "metadata": {},
   "outputs": [],
   "source": []
  },
  {
   "cell_type": "code",
   "execution_count": 233,
   "metadata": {},
   "outputs": [],
   "source": [
    "def tokenizer(text): \n",
    "    return text.split()"
   ]
  },
  {
   "cell_type": "code",
   "execution_count": 234,
   "metadata": {},
   "outputs": [],
   "source": [
    "# Spliting test and test set\n",
    "from sklearn.model_selection import train_test_split\n",
    "X = twemoji['text'] \n",
    "y = twemoji['target'] \n",
    "\n",
    "X_train, X_test, y_train, y_test = train_test_split(X, y, test_size=0.15, random_state=42)"
   ]
  },
  {
   "cell_type": "markdown",
   "metadata": {},
   "source": [
    "## GridSearch"
   ]
  },
  {
   "cell_type": "code",
   "execution_count": 54,
   "metadata": {},
   "outputs": [],
   "source": [
    "from sklearn.model_selection import GridSearchCV\n",
    "from sklearn.pipeline import Pipeline\n",
    "from sklearn.linear_model import LogisticRegression\n",
    "from sklearn.neighbors import KNeighborsClassifier\n",
    "from sklearn.ensemble import RandomForestClassifier\n",
    "from sklearn.svm import SVC\n",
    "from sklearn.naive_bayes import MultinomialNB\n",
    "from sklearn.feature_extraction.text import TfidfVectorizer"
   ]
  },
  {
   "cell_type": "code",
   "execution_count": 38,
   "metadata": {},
   "outputs": [],
   "source": [
    "def print_scores(model):\n",
    "    print('Best parameter set: %s ' % model.best_params_)\n",
    "    print('CV Accuracy: %.3f' % model.best_score_)\n",
    "    clf = model.best_estimator_\n",
    "    print('Test Accuracy: %.3f' % clf.score(X_test, y_test))"
   ]
  },
  {
   "cell_type": "code",
   "execution_count": 39,
   "metadata": {},
   "outputs": [],
   "source": [
    "tfidf = TfidfVectorizer(strip_accents=None, lowercase=False, preprocessor=None)"
   ]
  },
  {
   "cell_type": "code",
   "execution_count": 40,
   "metadata": {},
   "outputs": [],
   "source": [
    "lr_param_grid = [{'vect__ngram_range': [(1, 2),],\n",
    "               'vect__stop_words' : [None],\n",
    "               'vect__tokenizer' : [tokenizer], \n",
    "               'clf__penalty': ['l2'],\n",
    "               'clf__C': [1.0,],\n",
    "              }, \n",
    "              {\n",
    "                'vect__ngram_range' : [(1, 1)], \n",
    "                'vect__stop_words' : [None],\n",
    "                'vect__tokenizer' : [tokenizer,], \n",
    "                'vect__use_idf' : [False],\n",
    "                'vect__norm' : [None],\n",
    "                'clf__penalty' : ['l2'],\n",
    "                'clf__C': [1.0,],\n",
    "              }\n",
    "             ] "
   ]
  },
  {
   "cell_type": "code",
   "execution_count": 41,
   "metadata": {},
   "outputs": [],
   "source": [
    "svm_param_grid = [{'vect__ngram_range': [(1, 1), (1, 2), (1, 3)],\n",
    "                   'vect__stop_words' : [stop, None],\n",
    "                   'vect__tokenizer' : [tokenizer],\n",
    "                   'clf__kernel': ['rbf'],\n",
    "                   'clf__gamma': [1e-3, 1e-4],\n",
    "                   'clf__C': [1, 10, 100, 1000],\n",
    "                  },\n",
    "                  {\n",
    "                    'vect__ngram_range' : [(1, 1)], \n",
    "                    'vect__stop_words' : [stop, None],\n",
    "                    'vect__tokenizer' : [tokenizer], \n",
    "                    'vect__use_idf' : [False],\n",
    "                    'vect__norm' : [None],\n",
    "                    'clf__kernel': ['rbf'],\n",
    "                    'clf__gamma': [1e-3, 1e-4],\n",
    "                    'clf__C': [1, 10, 100, 1000], \n",
    "                   }\n",
    "]"
   ]
  },
  {
   "cell_type": "code",
   "execution_count": 42,
   "metadata": {},
   "outputs": [],
   "source": [
    "multiNB_param_grid = [\n",
    "    {\n",
    "        'vect__ngram_range': [(1, 1)],\n",
    "        'vect__stop_words' : [stop, None],\n",
    "        'vect__tokenizer' : [tokenizer, tokenizer_porter],\n",
    "    },\n",
    "    {\n",
    "        'vect__ngram_range' : [(1, 1), (1, 2), (1, 3)], \n",
    "        'vect__stop_words' : [stop, None],\n",
    "        'vect__tokenizer' : [tokenizer, tokenizer_porter], \n",
    "        'vect__use_idf' : [False],\n",
    "        'vect__norm' : [None], \n",
    "    }\n",
    "    \n",
    "]"
   ]
  },
  {
   "cell_type": "code",
   "execution_count": 43,
   "metadata": {},
   "outputs": [],
   "source": [
    "lr_tfidf = Pipeline([('vect', tfidf), ('clf', LogisticRegression(random_state=0))])\n",
    "svm_tfidf = Pipeline([('vect', tfidf), ('clf', SVC(random_state=0))])\n",
    "multiNB_tfidf = Pipeline([('vect', tfidf), ('clf', MultinomialNB())])"
   ]
  },
  {
   "cell_type": "code",
   "execution_count": 44,
   "metadata": {},
   "outputs": [],
   "source": [
    "gs_lr_tfidf = GridSearchCV(lr_tfidf, lr_param_grid, scoring='accuracy', cv=5, verbose=1, n_jobs=1)\n",
    "gs_svm_tfidf = GridSearchCV(svm_tfidf, svm_param_grid, scoring='accuracy', cv=5, verbose=1, n_jobs=-1)\n",
    "gs_multiNB_tfidf = GridSearchCV(multiNB_tfidf, multiNB_param_grid, scoring='accuracy', cv=5, verbose=1, n_jobs=-1)"
   ]
  },
  {
   "cell_type": "code",
   "execution_count": 64,
   "metadata": {
    "scrolled": false
   },
   "outputs": [
    {
     "name": "stdout",
     "output_type": "stream",
     "text": [
      "Fitting 5 folds for each of 2 candidates, totalling 10 fits\n"
     ]
    },
    {
     "name": "stderr",
     "output_type": "stream",
     "text": [
      "[Parallel(n_jobs=1)]: Using backend SequentialBackend with 1 concurrent workers.\n",
      "[Parallel(n_jobs=1)]: Done  10 out of  10 | elapsed:  1.1min finished\n"
     ]
    },
    {
     "data": {
      "text/plain": [
       "GridSearchCV(cv=5, error_score=nan,\n",
       "             estimator=Pipeline(memory=None,\n",
       "                                steps=[('vect',\n",
       "                                        TfidfVectorizer(analyzer='word',\n",
       "                                                        binary=False,\n",
       "                                                        decode_error='strict',\n",
       "                                                        dtype=<class 'numpy.float64'>,\n",
       "                                                        encoding='utf-8',\n",
       "                                                        input='content',\n",
       "                                                        lowercase=False,\n",
       "                                                        max_df=1.0,\n",
       "                                                        max_features=None,\n",
       "                                                        min_df=1,\n",
       "                                                        ngram_range=(1, 1),\n",
       "                                                        norm='l2',\n",
       "                                                        preprocessor=None,\n",
       "                                                        smooth_idf=True,\n",
       "                                                        stop_words=None,\n",
       "                                                        strip_acc...\n",
       "                          'vect__stop_words': [None],\n",
       "                          'vect__tokenizer': [<function tokenizer at 0x1631f6f80>]},\n",
       "                         {'clf__C': [1.0], 'clf__penalty': ['l2'],\n",
       "                          'vect__ngram_range': [(1, 1)], 'vect__norm': [None],\n",
       "                          'vect__stop_words': [None],\n",
       "                          'vect__tokenizer': [<function tokenizer at 0x1631f6f80>],\n",
       "                          'vect__use_idf': [False]}],\n",
       "             pre_dispatch='2*n_jobs', refit=True, return_train_score=False,\n",
       "             scoring='accuracy', verbose=1)"
      ]
     },
     "execution_count": 64,
     "metadata": {},
     "output_type": "execute_result"
    }
   ],
   "source": [
    "gs_lr_tfidf.fit(X_train, y_train)"
   ]
  },
  {
   "cell_type": "code",
   "execution_count": 65,
   "metadata": {},
   "outputs": [
    {
     "name": "stdout",
     "output_type": "stream",
     "text": [
      "Best parameter set: {'clf__C': 1.0, 'clf__penalty': 'l2', 'vect__ngram_range': (1, 2), 'vect__stop_words': None, 'vect__tokenizer': <function tokenizer at 0x1631f6f80>} \n",
      "CV Accuracy: 0.337\n",
      "Test Accuracy: 0.345\n"
     ]
    }
   ],
   "source": [
    "print_scores(gs_lr_tfidf)"
   ]
  },
  {
   "cell_type": "code",
   "execution_count": 7,
   "metadata": {},
   "outputs": [
    {
     "data": {
      "text/plain": [
       "'😂'"
      ]
     },
     "execution_count": 7,
     "metadata": {},
     "output_type": "execute_result"
    }
   ],
   "source": [
    "mappings.iloc[1381]['ucode']"
   ]
  },
  {
   "cell_type": "markdown",
   "metadata": {},
   "source": [
    "## Hashing Vectorizer"
   ]
  },
  {
   "cell_type": "code",
   "execution_count": 235,
   "metadata": {},
   "outputs": [],
   "source": [
    "from sklearn.feature_extraction.text import HashingVectorizer\n",
    "from sklearn.linear_model import SGDClassifier"
   ]
  },
  {
   "cell_type": "code",
   "execution_count": 236,
   "metadata": {},
   "outputs": [],
   "source": [
    "vect = HashingVectorizer(decode_error='ignore', n_features=2**21, preprocessor=None, tokenizer=tokenizer)"
   ]
  },
  {
   "cell_type": "code",
   "execution_count": 237,
   "metadata": {},
   "outputs": [],
   "source": [
    "# using logistic regression\n",
    "sgdc_clf = SGDClassifier(loss='log', random_state=0, max_iter=1)"
   ]
  },
  {
   "cell_type": "code",
   "execution_count": 238,
   "metadata": {},
   "outputs": [
    {
     "data": {
      "text/plain": [
       "SGDClassifier(loss='log', max_iter=1, random_state=0)"
      ]
     },
     "execution_count": 238,
     "metadata": {},
     "output_type": "execute_result"
    }
   ],
   "source": [
    "sgdc_clf.fit(vect.transform(X_train), y_train)"
   ]
  },
  {
   "cell_type": "code",
   "execution_count": 239,
   "metadata": {},
   "outputs": [
    {
     "data": {
      "text/plain": [
       "0.15272244355909695"
      ]
     },
     "execution_count": 239,
     "metadata": {},
     "output_type": "execute_result"
    }
   ],
   "source": [
    "# Accuracy\n",
    "sgdc_clf.score(vect.transform(X_test), y_test)"
   ]
  },
  {
   "cell_type": "code",
   "execution_count": 240,
   "metadata": {},
   "outputs": [],
   "source": [
    "y_preds = sgdc_clf.predict(vect.transform(X_test))"
   ]
  },
  {
   "cell_type": "code",
   "execution_count": 241,
   "metadata": {},
   "outputs": [],
   "source": [
    "from sklearn.metrics import f1_score"
   ]
  },
  {
   "cell_type": "code",
   "execution_count": 242,
   "metadata": {},
   "outputs": [
    {
     "data": {
      "text/plain": [
       "0.13773174078428924"
      ]
     },
     "execution_count": 242,
     "metadata": {},
     "output_type": "execute_result"
    }
   ],
   "source": [
    "# F1 Score\n",
    "f1_score(y_test, y_preds, average='weighted')"
   ]
  },
  {
   "cell_type": "markdown",
   "metadata": {},
   "source": [
    "##  GloVe"
   ]
  },
  {
   "cell_type": "code",
   "execution_count": 167,
   "metadata": {},
   "outputs": [],
   "source": [
    "from sklearn.preprocessing import scale"
   ]
  },
  {
   "cell_type": "code",
   "execution_count": 168,
   "metadata": {},
   "outputs": [],
   "source": [
    "embeddings_path = os.path.join('src', 'embeddings', 'glove.twitter.27B.25d.txt')"
   ]
  },
  {
   "cell_type": "code",
   "execution_count": 169,
   "metadata": {},
   "outputs": [],
   "source": [
    "def get_w2v_general(tweet, size, vectors, aggregation='mean'):\n",
    "    vec = np.zeros(size).reshape((1, size))\n",
    "    count = 0.\n",
    "    for word in tweet.split():\n",
    "        try:\n",
    "            vec += vectors[word].reshape((1, size))\n",
    "            count += 1.\n",
    "        except KeyError:\n",
    "            continue\n",
    "    if aggregation == 'mean':\n",
    "        if count != 0:\n",
    "            vec /= count\n",
    "        return vec\n",
    "    elif aggregation == 'sum':\n",
    "        return vec"
   ]
  },
  {
   "cell_type": "code",
   "execution_count": 170,
   "metadata": {},
   "outputs": [],
   "source": [
    "import gensim.downloader as api\n",
    "\n",
    "glove_twitter = api.load(\"glove-twitter-200\")"
   ]
  },
  {
   "cell_type": "code",
   "execution_count": 171,
   "metadata": {},
   "outputs": [],
   "source": [
    "X_train_glove_sum = scale(np.concatenate([get_w2v_general(z, 200, glove_twitter, 'sum') for z in X_train]))\n",
    "X_test_glove_sum = scale(np.concatenate([get_w2v_general(z, 200, glove_twitter, 'sum') for z in X_test]))"
   ]
  },
  {
   "cell_type": "code",
   "execution_count": 172,
   "metadata": {},
   "outputs": [],
   "source": [
    "sgdc_clf_glove = SVC(random_state=0)"
   ]
  },
  {
   "cell_type": "code",
   "execution_count": 173,
   "metadata": {},
   "outputs": [
    {
     "data": {
      "text/plain": [
       "SVC(random_state=0)"
      ]
     },
     "execution_count": 173,
     "metadata": {},
     "output_type": "execute_result"
    }
   ],
   "source": [
    "sgdc_clf_glove.fit(X_train_glove_sum, y_train)"
   ]
  },
  {
   "cell_type": "code",
   "execution_count": 174,
   "metadata": {},
   "outputs": [],
   "source": [
    "y_preds = sgdc_clf_glove.predict(X_test_glove_sum)"
   ]
  },
  {
   "cell_type": "code",
   "execution_count": 175,
   "metadata": {},
   "outputs": [
    {
     "data": {
      "text/plain": [
       "0.15017741589855627"
      ]
     },
     "execution_count": 175,
     "metadata": {},
     "output_type": "execute_result"
    }
   ],
   "source": [
    "f1_score(y_test, y_preds, average='weighted')"
   ]
  },
  {
   "cell_type": "code",
   "execution_count": 176,
   "metadata": {},
   "outputs": [
    {
     "data": {
      "text/plain": [
       "0.16301460823373173"
      ]
     },
     "execution_count": 176,
     "metadata": {},
     "output_type": "execute_result"
    }
   ],
   "source": [
    "sgdc_clf_glove.score(X_test_glove_sum, y_test)"
   ]
  },
  {
   "cell_type": "code",
   "execution_count": 189,
   "metadata": {},
   "outputs": [
    {
     "data": {
      "text/plain": [
       "array([830])"
      ]
     },
     "execution_count": 189,
     "metadata": {},
     "output_type": "execute_result"
    }
   ],
   "source": [
    "sgdc_clf_glove.predict(get_w2v_general('No! You are wrong!', 200, glove_twitter, 'mean'))"
   ]
  },
  {
   "cell_type": "code",
   "execution_count": 190,
   "metadata": {},
   "outputs": [
    {
     "data": {
      "text/plain": [
       "'👀'"
      ]
     },
     "execution_count": 190,
     "metadata": {},
     "output_type": "execute_result"
    }
   ],
   "source": [
    "mappings.iloc[830]['ucode']"
   ]
  },
  {
   "cell_type": "markdown",
   "metadata": {},
   "source": [
    "## LSTM-GloVe"
   ]
  },
  {
   "cell_type": "code",
   "execution_count": null,
   "metadata": {},
   "outputs": [],
   "source": [
    "MAX_SEQUENCE_LENGTH = 200"
   ]
  },
  {
   "cell_type": "code",
   "execution_count": null,
   "metadata": {},
   "outputs": [],
   "source": [
    "sequence_input = Input(shape=MAX_SEQUENCE_LENGTH, dtype='int32')\n",
    "embedding_layer = Embedding(len())"
   ]
  },
  {
   "cell_type": "code",
   "execution_count": null,
   "metadata": {},
   "outputs": [],
   "source": []
  }
 ],
 "metadata": {
  "kernelspec": {
   "display_name": "Python 3",
   "language": "python",
   "name": "python3"
  },
  "language_info": {
   "codemirror_mode": {
    "name": "ipython",
    "version": 3
   },
   "file_extension": ".py",
   "mimetype": "text/x-python",
   "name": "python",
   "nbconvert_exporter": "python",
   "pygments_lexer": "ipython3",
   "version": "3.7.6"
  }
 },
 "nbformat": 4,
 "nbformat_minor": 4
}
