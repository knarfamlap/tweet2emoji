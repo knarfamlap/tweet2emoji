{
 "cells": [
  {
   "cell_type": "code",
   "execution_count": 2,
   "metadata": {},
   "outputs": [],
   "source": [
    "import pandas as pd\n",
    "import numpy as np\n",
    "import matplotlib.pyplot as plt\n",
    "import seaborn as sns"
   ]
  },
  {
   "cell_type": "code",
   "execution_count": 24,
   "metadata": {},
   "outputs": [],
   "source": [
    "TWEMOJI_DATASET = './datasets/samples/combined_csv.csv'\n",
    "EMOJI_MAPPINGS = './datasets/emoji_map_1791.csv'"
   ]
  },
  {
   "cell_type": "code",
   "execution_count": 4,
   "metadata": {},
   "outputs": [
    {
     "name": "stderr",
     "output_type": "stream",
     "text": [
      "/Users/frankpalma/Desktop/clasifica-emoji/venv/lib/python3.7/site-packages/IPython/core/interactiveshell.py:3063: DtypeWarning: Columns (2) have mixed types. Specify dtype option on import or set low_memory=False.\n",
      "  interactivity=interactivity, compiler=compiler, result=result)\n"
     ]
    }
   ],
   "source": [
    "twemoji = pd.read_csv(TWEMOJI_DATASET)"
   ]
  },
  {
   "cell_type": "code",
   "execution_count": 25,
   "metadata": {},
   "outputs": [],
   "source": [
    "mappings = pd.read_csv(EMOJI_MAPPINGS)"
   ]
  },
  {
   "cell_type": "code",
   "execution_count": 5,
   "metadata": {},
   "outputs": [],
   "source": [
    "twemoji = twemoji.reindex(np.random.permutation(twemoji.index))"
   ]
  },
  {
   "cell_type": "markdown",
   "metadata": {},
   "source": [
    "# Mappings"
   ]
  },
  {
   "cell_type": "code",
   "execution_count": 28,
   "metadata": {},
   "outputs": [
    {
     "data": {
      "text/html": [
       "<div>\n",
       "<style scoped>\n",
       "    .dataframe tbody tr th:only-of-type {\n",
       "        vertical-align: middle;\n",
       "    }\n",
       "\n",
       "    .dataframe tbody tr th {\n",
       "        vertical-align: top;\n",
       "    }\n",
       "\n",
       "    .dataframe thead th {\n",
       "        text-align: right;\n",
       "    }\n",
       "</style>\n",
       "<table border=\"1\" class=\"dataframe\">\n",
       "  <thead>\n",
       "    <tr style=\"text-align: right;\">\n",
       "      <th></th>\n",
       "      <th>Unnamed: 0</th>\n",
       "      <th>category</th>\n",
       "      <th>title</th>\n",
       "      <th>shorts</th>\n",
       "      <th>unicode_alternates</th>\n",
       "      <th>keywords</th>\n",
       "      <th>ucode_short</th>\n",
       "      <th>ucode</th>\n",
       "      <th>aliases</th>\n",
       "      <th>alt_title</th>\n",
       "      <th>aliases_ascii</th>\n",
       "    </tr>\n",
       "  </thead>\n",
       "  <tbody>\n",
       "    <tr>\n",
       "      <th>0</th>\n",
       "      <td>#️⃣</td>\n",
       "      <td>symbols</td>\n",
       "      <td>keycap number sign</td>\n",
       "      <td>[hash]</td>\n",
       "      <td>0023-fe0f-20e3</td>\n",
       "      <td>[keycap, symbol, pound, hash, number]</td>\n",
       "      <td>0023_fe0f_20e3</td>\n",
       "      <td>#️⃣</td>\n",
       "      <td>NaN</td>\n",
       "      <td>NaN</td>\n",
       "      <td>NaN</td>\n",
       "    </tr>\n",
       "    <tr>\n",
       "      <th>1</th>\n",
       "      <td>*️⃣</td>\n",
       "      <td>symbols</td>\n",
       "      <td>keycap asterisk</td>\n",
       "      <td>[asterisk]</td>\n",
       "      <td>002a-fe0f-20e3</td>\n",
       "      <td>[keycap, symbol, asterisk, star]</td>\n",
       "      <td>002a_fe0f_20e3</td>\n",
       "      <td>*️⃣</td>\n",
       "      <td>[:keycap_asterisk:]</td>\n",
       "      <td>NaN</td>\n",
       "      <td>NaN</td>\n",
       "    </tr>\n",
       "    <tr>\n",
       "      <th>2</th>\n",
       "      <td>0️⃣</td>\n",
       "      <td>symbols</td>\n",
       "      <td>keycap digit zero</td>\n",
       "      <td>[zero]</td>\n",
       "      <td>0030-fe0f-20e3</td>\n",
       "      <td>[, keycap, symbol, number, zero, math]</td>\n",
       "      <td>0030_fe0f_20e3</td>\n",
       "      <td>0️⃣</td>\n",
       "      <td>NaN</td>\n",
       "      <td>NaN</td>\n",
       "      <td>NaN</td>\n",
       "    </tr>\n",
       "    <tr>\n",
       "      <th>3</th>\n",
       "      <td>1️⃣</td>\n",
       "      <td>symbols</td>\n",
       "      <td>keycap digit one</td>\n",
       "      <td>[one]</td>\n",
       "      <td>0031-fe0f-20e3</td>\n",
       "      <td>[, keycap, symbol, number, one, math]</td>\n",
       "      <td>0031_fe0f_20e3</td>\n",
       "      <td>1️⃣</td>\n",
       "      <td>NaN</td>\n",
       "      <td>NaN</td>\n",
       "      <td>NaN</td>\n",
       "    </tr>\n",
       "    <tr>\n",
       "      <th>4</th>\n",
       "      <td>2️⃣</td>\n",
       "      <td>symbols</td>\n",
       "      <td>keycap digit two</td>\n",
       "      <td>[two]</td>\n",
       "      <td>0032-fe0f-20e3</td>\n",
       "      <td>[, keycap, symbol, two, number, math]</td>\n",
       "      <td>0032_fe0f_20e3</td>\n",
       "      <td>2️⃣</td>\n",
       "      <td>NaN</td>\n",
       "      <td>NaN</td>\n",
       "      <td>NaN</td>\n",
       "    </tr>\n",
       "  </tbody>\n",
       "</table>\n",
       "</div>"
      ],
      "text/plain": [
       "  Unnamed: 0 category               title      shorts unicode_alternates  \\\n",
       "0        #️⃣  symbols  keycap number sign      [hash]     0023-fe0f-20e3   \n",
       "1        *️⃣  symbols     keycap asterisk  [asterisk]     002a-fe0f-20e3   \n",
       "2        0️⃣  symbols   keycap digit zero      [zero]     0030-fe0f-20e3   \n",
       "3        1️⃣  symbols    keycap digit one       [one]     0031-fe0f-20e3   \n",
       "4        2️⃣  symbols    keycap digit two       [two]     0032-fe0f-20e3   \n",
       "\n",
       "                                 keywords     ucode_short ucode  \\\n",
       "0   [keycap, symbol, pound, hash, number]  0023_fe0f_20e3   #️⃣   \n",
       "1        [keycap, symbol, asterisk, star]  002a_fe0f_20e3   *️⃣   \n",
       "2  [, keycap, symbol, number, zero, math]  0030_fe0f_20e3   0️⃣   \n",
       "3   [, keycap, symbol, number, one, math]  0031_fe0f_20e3   1️⃣   \n",
       "4   [, keycap, symbol, two, number, math]  0032_fe0f_20e3   2️⃣   \n",
       "\n",
       "               aliases alt_title aliases_ascii  \n",
       "0                  NaN       NaN           NaN  \n",
       "1  [:keycap_asterisk:]       NaN           NaN  \n",
       "2                  NaN       NaN           NaN  \n",
       "3                  NaN       NaN           NaN  \n",
       "4                  NaN       NaN           NaN  "
      ]
     },
     "execution_count": 28,
     "metadata": {},
     "output_type": "execute_result"
    }
   ],
   "source": [
    "# we can see that we now have the dataframe that contain all \n",
    "# the emoji mappings\n",
    "mappings.head(5) "
   ]
  },
  {
   "cell_type": "markdown",
   "metadata": {},
   "source": [
    "# Cleaning and Preparing"
   ]
  },
  {
   "cell_type": "code",
   "execution_count": 6,
   "metadata": {},
   "outputs": [
    {
     "data": {
      "text/plain": [
       "Index(['id', 'annotations', 'id_text'], dtype='object')"
      ]
     },
     "execution_count": 6,
     "metadata": {},
     "output_type": "execute_result"
    }
   ],
   "source": [
    "# lets see how many columns \n",
    "# does the dataset have\n",
    "twemoji.columns"
   ]
  },
  {
   "cell_type": "code",
   "execution_count": 7,
   "metadata": {},
   "outputs": [],
   "source": [
    "# rename annotations to target\n",
    "# rename id_text to tweet\n",
    "twemoji = twemoji.rename(columns={\"annotations\":'target', \"id_text\":\"tweet\"})"
   ]
  },
  {
   "cell_type": "code",
   "execution_count": 8,
   "metadata": {},
   "outputs": [
    {
     "data": {
      "text/html": [
       "<div>\n",
       "<style scoped>\n",
       "    .dataframe tbody tr th:only-of-type {\n",
       "        vertical-align: middle;\n",
       "    }\n",
       "\n",
       "    .dataframe tbody tr th {\n",
       "        vertical-align: top;\n",
       "    }\n",
       "\n",
       "    .dataframe thead th {\n",
       "        text-align: right;\n",
       "    }\n",
       "</style>\n",
       "<table border=\"1\" class=\"dataframe\">\n",
       "  <thead>\n",
       "    <tr style=\"text-align: right;\">\n",
       "      <th></th>\n",
       "      <th>id</th>\n",
       "      <th>target</th>\n",
       "      <th>tweet</th>\n",
       "    </tr>\n",
       "  </thead>\n",
       "  <tbody>\n",
       "    <tr>\n",
       "      <th>2915823</th>\n",
       "      <td>742392886956724224</td>\n",
       "      <td>1381</td>\n",
       "      <td>NaN</td>\n",
       "    </tr>\n",
       "    <tr>\n",
       "      <th>3570599</th>\n",
       "      <td>747898647543689216</td>\n",
       "      <td>549</td>\n",
       "      <td>NaN</td>\n",
       "    </tr>\n",
       "    <tr>\n",
       "      <th>2602288</th>\n",
       "      <td>748132966228865024</td>\n",
       "      <td>1447</td>\n",
       "      <td>NaN</td>\n",
       "    </tr>\n",
       "    <tr>\n",
       "      <th>500174</th>\n",
       "      <td>741880611598565376</td>\n",
       "      <td>1415</td>\n",
       "      <td>NaN</td>\n",
       "    </tr>\n",
       "    <tr>\n",
       "      <th>146220</th>\n",
       "      <td>748359089109884928</td>\n",
       "      <td>170</td>\n",
       "      <td>NaN</td>\n",
       "    </tr>\n",
       "  </tbody>\n",
       "</table>\n",
       "</div>"
      ],
      "text/plain": [
       "                         id  target tweet\n",
       "2915823  742392886956724224    1381   NaN\n",
       "3570599  747898647543689216     549   NaN\n",
       "2602288  748132966228865024    1447   NaN\n",
       "500174   741880611598565376    1415   NaN\n",
       "146220   748359089109884928     170   NaN"
      ]
     },
     "execution_count": 8,
     "metadata": {},
     "output_type": "execute_result"
    }
   ],
   "source": [
    "twemoji.head() "
   ]
  },
  {
   "cell_type": "code",
   "execution_count": 9,
   "metadata": {},
   "outputs": [],
   "source": [
    "# since the id column is no longer needed\n",
    "# we can simply drop it\n",
    "twemoji = twemoji.drop(columns=[\"id\"])"
   ]
  },
  {
   "cell_type": "code",
   "execution_count": 10,
   "metadata": {},
   "outputs": [
    {
     "data": {
      "text/html": [
       "<div>\n",
       "<style scoped>\n",
       "    .dataframe tbody tr th:only-of-type {\n",
       "        vertical-align: middle;\n",
       "    }\n",
       "\n",
       "    .dataframe tbody tr th {\n",
       "        vertical-align: top;\n",
       "    }\n",
       "\n",
       "    .dataframe thead th {\n",
       "        text-align: right;\n",
       "    }\n",
       "</style>\n",
       "<table border=\"1\" class=\"dataframe\">\n",
       "  <thead>\n",
       "    <tr style=\"text-align: right;\">\n",
       "      <th></th>\n",
       "      <th>target</th>\n",
       "      <th>tweet</th>\n",
       "    </tr>\n",
       "  </thead>\n",
       "  <tbody>\n",
       "    <tr>\n",
       "      <th>2915823</th>\n",
       "      <td>1381</td>\n",
       "      <td>NaN</td>\n",
       "    </tr>\n",
       "    <tr>\n",
       "      <th>3570599</th>\n",
       "      <td>549</td>\n",
       "      <td>NaN</td>\n",
       "    </tr>\n",
       "    <tr>\n",
       "      <th>2602288</th>\n",
       "      <td>1447</td>\n",
       "      <td>NaN</td>\n",
       "    </tr>\n",
       "    <tr>\n",
       "      <th>500174</th>\n",
       "      <td>1415</td>\n",
       "      <td>NaN</td>\n",
       "    </tr>\n",
       "    <tr>\n",
       "      <th>146220</th>\n",
       "      <td>170</td>\n",
       "      <td>NaN</td>\n",
       "    </tr>\n",
       "  </tbody>\n",
       "</table>\n",
       "</div>"
      ],
      "text/plain": [
       "         target tweet\n",
       "2915823    1381   NaN\n",
       "3570599     549   NaN\n",
       "2602288    1447   NaN\n",
       "500174     1415   NaN\n",
       "146220      170   NaN"
      ]
     },
     "execution_count": 10,
     "metadata": {},
     "output_type": "execute_result"
    }
   ],
   "source": [
    "twemoji.head()"
   ]
  },
  {
   "cell_type": "code",
   "execution_count": 11,
   "metadata": {},
   "outputs": [
    {
     "data": {
      "text/plain": [
       "3878060"
      ]
     },
     "execution_count": 11,
     "metadata": {},
     "output_type": "execute_result"
    }
   ],
   "source": [
    "# Lets check how many null values exist in \n",
    "# the dataset\n",
    "twemoji['tweet'].isna().sum()"
   ]
  },
  {
   "cell_type": "code",
   "execution_count": 12,
   "metadata": {},
   "outputs": [],
   "source": [
    "# We can't do much with null values\n",
    "# So we drop them\n",
    "twemoji = twemoji.dropna()"
   ]
  },
  {
   "cell_type": "code",
   "execution_count": 13,
   "metadata": {},
   "outputs": [
    {
     "data": {
      "text/html": [
       "<div>\n",
       "<style scoped>\n",
       "    .dataframe tbody tr th:only-of-type {\n",
       "        vertical-align: middle;\n",
       "    }\n",
       "\n",
       "    .dataframe tbody tr th {\n",
       "        vertical-align: top;\n",
       "    }\n",
       "\n",
       "    .dataframe thead th {\n",
       "        text-align: right;\n",
       "    }\n",
       "</style>\n",
       "<table border=\"1\" class=\"dataframe\">\n",
       "  <thead>\n",
       "    <tr style=\"text-align: right;\">\n",
       "      <th></th>\n",
       "      <th>target</th>\n",
       "      <th>tweet</th>\n",
       "    </tr>\n",
       "  </thead>\n",
       "  <tbody>\n",
       "    <tr>\n",
       "      <th>1494850</th>\n",
       "      <td>1381</td>\n",
       "      <td>Ever felt excited for no reason ? like you hea...</td>\n",
       "    </tr>\n",
       "    <tr>\n",
       "      <th>1619765</th>\n",
       "      <td>1475</td>\n",
       "      <td>Lol... Shall we start a POSITIVE bank account</td>\n",
       "    </tr>\n",
       "    <tr>\n",
       "      <th>1743316</th>\n",
       "      <td>1381</td>\n",
       "      <td>The fact that that's about my tuition</td>\n",
       "    </tr>\n",
       "    <tr>\n",
       "      <th>1362371</th>\n",
       "      <td>1392</td>\n",
       "      <td>You can call me Monster</td>\n",
       "    </tr>\n",
       "    <tr>\n",
       "      <th>1789492</th>\n",
       "      <td>1380</td>\n",
       "      <td>I had my favorites tonight at Kenny Roger's. T...</td>\n",
       "    </tr>\n",
       "  </tbody>\n",
       "</table>\n",
       "</div>"
      ],
      "text/plain": [
       "         target                                              tweet\n",
       "1494850    1381  Ever felt excited for no reason ? like you hea...\n",
       "1619765    1475      Lol... Shall we start a POSITIVE bank account\n",
       "1743316    1381              The fact that that's about my tuition\n",
       "1362371    1392                            You can call me Monster\n",
       "1789492    1380  I had my favorites tonight at Kenny Roger's. T..."
      ]
     },
     "execution_count": 13,
     "metadata": {},
     "output_type": "execute_result"
    }
   ],
   "source": [
    "twemoji.head()"
   ]
  },
  {
   "cell_type": "code",
   "execution_count": 14,
   "metadata": {},
   "outputs": [
    {
     "data": {
      "text/plain": [
       "(88567, 2)"
      ]
     },
     "execution_count": 14,
     "metadata": {},
     "output_type": "execute_result"
    }
   ],
   "source": [
    "# Lets check how big is the data set now\n",
    "twemoji.shape"
   ]
  },
  {
   "cell_type": "markdown",
   "metadata": {},
   "source": [
    "# Exploration"
   ]
  },
  {
   "cell_type": "code",
   "execution_count": 15,
   "metadata": {},
   "outputs": [
    {
     "data": {
      "text/plain": [
       "<matplotlib.axes._subplots.AxesSubplot at 0x15c0fbe90>"
      ]
     },
     "execution_count": 15,
     "metadata": {},
     "output_type": "execute_result"
    },
    {
     "data": {
      "image/png": "[encoded data removed]",
      "text/plain": [
       "<Figure size 432x288 with 1 Axes>"
      ]
     },
     "metadata": {
      "needs_background": "light"
     },
     "output_type": "display_data"
    }
   ],
   "source": [
    "# lets see the distribution of our target values\n",
    "sns.distplot(twemoji['target'], color='red', bins=10)"
   ]
  },
  {
   "cell_type": "code",
   "execution_count": 33,
   "metadata": {},
   "outputs": [
    {
     "data": {
      "text/plain": [
       "1381"
      ]
     },
     "execution_count": 33,
     "metadata": {},
     "output_type": "execute_result"
    }
   ],
   "source": [
    "most_frequent = twemoji['target'].value_counts().idxmax() \n",
    "most_frequent"
   ]
  },
  {
   "cell_type": "code",
   "execution_count": 31,
   "metadata": {},
   "outputs": [
    {
     "data": {
      "text/plain": [
       "Unnamed: 0                                                            😂\n",
       "category                                                         people\n",
       "title                                            face with tears of joy\n",
       "shorts                                                            [joy]\n",
       "unicode_alternates                                                  NaN\n",
       "keywords              [emotion, cry, tear, joy, smiley, sarcastic, f...\n",
       "ucode_short                                                       1f602\n",
       "ucode                                                                 😂\n",
       "aliases                                                             NaN\n",
       "alt_title                                                           NaN\n",
       "aliases_ascii                                               [:'), :'-)]\n",
       "Name: 1381, dtype: object"
      ]
     },
     "execution_count": 31,
     "metadata": {},
     "output_type": "execute_result"
    }
   ],
   "source": [
    "# The laughing face emoji is the most popular in this dataset\n",
    "mappings.loc[most_frequent]"
   ]
  },
  {
   "cell_type": "code",
   "execution_count": 36,
   "metadata": {},
   "outputs": [
    {
     "data": {
      "text/plain": [
       "[1381, 1447, 1424, 1392, 1389, 186, 1620, 1420, 1446, 1403]"
      ]
     },
     "execution_count": 36,
     "metadata": {},
     "output_type": "execute_result"
    }
   ],
   "source": [
    "# Lets see the 10 most frequently used emojis\n",
    "top_ten = twemoji['target'].value_counts()[:10].index.tolist() \n",
    "top_ten"
   ]
  },
  {
   "cell_type": "code",
   "execution_count": 37,
   "metadata": {},
   "outputs": [
    {
     "data": {
      "text/html": [
       "<div>\n",
       "<style scoped>\n",
       "    .dataframe tbody tr th:only-of-type {\n",
       "        vertical-align: middle;\n",
       "    }\n",
       "\n",
       "    .dataframe tbody tr th {\n",
       "        vertical-align: top;\n",
       "    }\n",
       "\n",
       "    .dataframe thead th {\n",
       "        text-align: right;\n",
       "    }\n",
       "</style>\n",
       "<table border=\"1\" class=\"dataframe\">\n",
       "  <thead>\n",
       "    <tr style=\"text-align: right;\">\n",
       "      <th></th>\n",
       "      <th>Unnamed: 0</th>\n",
       "      <th>category</th>\n",
       "      <th>title</th>\n",
       "      <th>shorts</th>\n",
       "      <th>unicode_alternates</th>\n",
       "      <th>keywords</th>\n",
       "      <th>ucode_short</th>\n",
       "      <th>ucode</th>\n",
       "      <th>aliases</th>\n",
       "      <th>alt_title</th>\n",
       "      <th>aliases_ascii</th>\n",
       "    </tr>\n",
       "  </thead>\n",
       "  <tbody>\n",
       "    <tr>\n",
       "      <th>1381</th>\n",
       "      <td>😂</td>\n",
       "      <td>people</td>\n",
       "      <td>face with tears of joy</td>\n",
       "      <td>[joy]</td>\n",
       "      <td>NaN</td>\n",
       "      <td>[emotion, cry, tear, joy, smiley, sarcastic, f...</td>\n",
       "      <td>1f602</td>\n",
       "      <td>😂</td>\n",
       "      <td>NaN</td>\n",
       "      <td>NaN</td>\n",
       "      <td>[:'), :'-)]</td>\n",
       "    </tr>\n",
       "    <tr>\n",
       "      <th>1447</th>\n",
       "      <td>🙄</td>\n",
       "      <td>people</td>\n",
       "      <td>face with rolling eyes</td>\n",
       "      <td>[rolling_eyes, face_with_rolling_eyes]</td>\n",
       "      <td>NaN</td>\n",
       "      <td>[emotion, eyes, rolling eyes, smiley, sarcasti...</td>\n",
       "      <td>1f644</td>\n",
       "      <td>🙄</td>\n",
       "      <td>[:face_with_rolling_eyes:]</td>\n",
       "      <td>NaN</td>\n",
       "      <td>NaN</td>\n",
       "    </tr>\n",
       "    <tr>\n",
       "      <th>1424</th>\n",
       "      <td>😭</td>\n",
       "      <td>people</td>\n",
       "      <td>loudly crying face</td>\n",
       "      <td>[sob]</td>\n",
       "      <td>NaN</td>\n",
       "      <td>[emotion, sob, tear, cry, smiley, sad, heartbr...</td>\n",
       "      <td>1f62d</td>\n",
       "      <td>😭</td>\n",
       "      <td>NaN</td>\n",
       "      <td>NaN</td>\n",
       "      <td>NaN</td>\n",
       "    </tr>\n",
       "    <tr>\n",
       "      <th>1392</th>\n",
       "      <td>😍</td>\n",
       "      <td>people</td>\n",
       "      <td>smiling face with heart shaped eyes</td>\n",
       "      <td>[heart_eyes]</td>\n",
       "      <td>NaN</td>\n",
       "      <td>[emotion, heart, eye, love, smiley, face, beau...</td>\n",
       "      <td>1f60d</td>\n",
       "      <td>😍</td>\n",
       "      <td>NaN</td>\n",
       "      <td>smiling face with heart-shaped eyes</td>\n",
       "      <td>NaN</td>\n",
       "    </tr>\n",
       "    <tr>\n",
       "      <th>1389</th>\n",
       "      <td>😊</td>\n",
       "      <td>people</td>\n",
       "      <td>smiling face with smiling eyes</td>\n",
       "      <td>[blush]</td>\n",
       "      <td>NaN</td>\n",
       "      <td>[emotion, beautiful, good, eye, smiley, face, ...</td>\n",
       "      <td>1f60a</td>\n",
       "      <td>😊</td>\n",
       "      <td>NaN</td>\n",
       "      <td>NaN</td>\n",
       "      <td>NaN</td>\n",
       "    </tr>\n",
       "    <tr>\n",
       "      <th>186</th>\n",
       "      <td>❤</td>\n",
       "      <td>symbols</td>\n",
       "      <td>heavy black heart</td>\n",
       "      <td>[heart]</td>\n",
       "      <td>2764-fe0f</td>\n",
       "      <td>[heart, symbol, love, parties]</td>\n",
       "      <td>2764</td>\n",
       "      <td>❤</td>\n",
       "      <td>NaN</td>\n",
       "      <td>NaN</td>\n",
       "      <td>[&lt;3]</td>\n",
       "    </tr>\n",
       "    <tr>\n",
       "      <th>1620</th>\n",
       "      <td>🤔</td>\n",
       "      <td>people</td>\n",
       "      <td>thinking face</td>\n",
       "      <td>[thinking, thinking_face]</td>\n",
       "      <td>NaN</td>\n",
       "      <td>[thinking, boys night, smiley, face]</td>\n",
       "      <td>1f914</td>\n",
       "      <td>🤔</td>\n",
       "      <td>[:thinking_face:]</td>\n",
       "      <td>NaN</td>\n",
       "      <td>NaN</td>\n",
       "    </tr>\n",
       "    <tr>\n",
       "      <th>1420</th>\n",
       "      <td>😩</td>\n",
       "      <td>people</td>\n",
       "      <td>weary face</td>\n",
       "      <td>[weary]</td>\n",
       "      <td>NaN</td>\n",
       "      <td>[emotion, tired, face, smiley, sad, stressed, ...</td>\n",
       "      <td>1f629</td>\n",
       "      <td>😩</td>\n",
       "      <td>NaN</td>\n",
       "      <td>NaN</td>\n",
       "      <td>NaN</td>\n",
       "    </tr>\n",
       "    <tr>\n",
       "      <th>1446</th>\n",
       "      <td>🙃</td>\n",
       "      <td>people</td>\n",
       "      <td>upside down face</td>\n",
       "      <td>[upside_down_face, upside_down]</td>\n",
       "      <td>NaN</td>\n",
       "      <td>[smiley, silly, upside down, sarcastic, face]</td>\n",
       "      <td>1f643</td>\n",
       "      <td>🙃</td>\n",
       "      <td>[:upside_down_face:]</td>\n",
       "      <td>upside-down face</td>\n",
       "      <td>NaN</td>\n",
       "    </tr>\n",
       "    <tr>\n",
       "      <th>1403</th>\n",
       "      <td>😘</td>\n",
       "      <td>people</td>\n",
       "      <td>face throwing a kiss</td>\n",
       "      <td>[kissing_heart]</td>\n",
       "      <td>NaN</td>\n",
       "      <td>[heart, love, smiley, face, kiss, sexy]</td>\n",
       "      <td>1f618</td>\n",
       "      <td>😘</td>\n",
       "      <td>NaN</td>\n",
       "      <td>NaN</td>\n",
       "      <td>[:*, :-*, =*, :^*]</td>\n",
       "    </tr>\n",
       "  </tbody>\n",
       "</table>\n",
       "</div>"
      ],
      "text/plain": [
       "     Unnamed: 0 category                                title  \\\n",
       "1381          😂   people               face with tears of joy   \n",
       "1447          🙄   people               face with rolling eyes   \n",
       "1424          😭   people                   loudly crying face   \n",
       "1392          😍   people  smiling face with heart shaped eyes   \n",
       "1389          😊   people       smiling face with smiling eyes   \n",
       "186           ❤  symbols                    heavy black heart   \n",
       "1620          🤔   people                        thinking face   \n",
       "1420          😩   people                           weary face   \n",
       "1446          🙃   people                     upside down face   \n",
       "1403          😘   people                 face throwing a kiss   \n",
       "\n",
       "                                      shorts unicode_alternates  \\\n",
       "1381                                   [joy]                NaN   \n",
       "1447  [rolling_eyes, face_with_rolling_eyes]                NaN   \n",
       "1424                                   [sob]                NaN   \n",
       "1392                            [heart_eyes]                NaN   \n",
       "1389                                 [blush]                NaN   \n",
       "186                                  [heart]          2764-fe0f   \n",
       "1620               [thinking, thinking_face]                NaN   \n",
       "1420                                 [weary]                NaN   \n",
       "1446         [upside_down_face, upside_down]                NaN   \n",
       "1403                         [kissing_heart]                NaN   \n",
       "\n",
       "                                               keywords ucode_short ucode  \\\n",
       "1381  [emotion, cry, tear, joy, smiley, sarcastic, f...       1f602     😂   \n",
       "1447  [emotion, eyes, rolling eyes, smiley, sarcasti...       1f644     🙄   \n",
       "1424  [emotion, sob, tear, cry, smiley, sad, heartbr...       1f62d     😭   \n",
       "1392  [emotion, heart, eye, love, smiley, face, beau...       1f60d     😍   \n",
       "1389  [emotion, beautiful, good, eye, smiley, face, ...       1f60a     😊   \n",
       "186                      [heart, symbol, love, parties]        2764     ❤   \n",
       "1620               [thinking, boys night, smiley, face]       1f914     🤔   \n",
       "1420  [emotion, tired, face, smiley, sad, stressed, ...       1f629     😩   \n",
       "1446      [smiley, silly, upside down, sarcastic, face]       1f643     🙃   \n",
       "1403            [heart, love, smiley, face, kiss, sexy]       1f618     😘   \n",
       "\n",
       "                         aliases                            alt_title  \\\n",
       "1381                         NaN                                  NaN   \n",
       "1447  [:face_with_rolling_eyes:]                                  NaN   \n",
       "1424                         NaN                                  NaN   \n",
       "1392                         NaN  smiling face with heart-shaped eyes   \n",
       "1389                         NaN                                  NaN   \n",
       "186                          NaN                                  NaN   \n",
       "1620           [:thinking_face:]                                  NaN   \n",
       "1420                         NaN                                  NaN   \n",
       "1446        [:upside_down_face:]                     upside-down face   \n",
       "1403                         NaN                                  NaN   \n",
       "\n",
       "           aliases_ascii  \n",
       "1381         [:'), :'-)]  \n",
       "1447                 NaN  \n",
       "1424                 NaN  \n",
       "1392                 NaN  \n",
       "1389                 NaN  \n",
       "186                 [<3]  \n",
       "1620                 NaN  \n",
       "1420                 NaN  \n",
       "1446                 NaN  \n",
       "1403  [:*, :-*, =*, :^*]  "
      ]
     },
     "execution_count": 37,
     "metadata": {},
     "output_type": "execute_result"
    }
   ],
   "source": [
    "# lets see the mappings\n",
    "mappings.loc[top_ten]"
   ]
  },
  {
   "cell_type": "code",
   "execution_count": 46,
   "metadata": {},
   "outputs": [],
   "source": [
    "# We see that there is a high density around 1000-1500\n",
    "# lets reduce the number of emojis there exists to the\n",
    "# top 10 emojis that exists in the dataset\n",
    "# we could reduce the complexity of our problem. \n",
    "index_names = twemoji[~twemoji['target'].isin(top_ten)].index\n",
    "twemoji = twemoji.drop(index_names)"
   ]
  },
  {
   "cell_type": "code",
   "execution_count": 47,
   "metadata": {},
   "outputs": [
    {
     "data": {
      "text/plain": [
       "<matplotlib.axes._subplots.AxesSubplot at 0x1715a1590>"
      ]
     },
     "execution_count": 47,
     "metadata": {},
     "output_type": "execute_result"
    },
    {
     "data": {
      "image/png": "[encoded data removed]",
      "text/plain": [
       "<Figure size 432x288 with 1 Axes>"
      ]
     },
     "metadata": {
      "needs_background": "light"
     },
     "output_type": "display_data"
    }
   ],
   "source": [
    "# lets see the distribution once again\n",
    "sns.distplot(twemoji['target'], color='red', bins=10)"
   ]
  },
  {
   "cell_type": "code",
   "execution_count": 49,
   "metadata": {},
   "outputs": [
    {
     "data": {
      "text/plain": [
       "[1381, 1447, 1424, 1392, 1389, 186, 1620, 1420, 1446, 1403]"
      ]
     },
     "execution_count": 49,
     "metadata": {},
     "output_type": "execute_result"
    }
   ],
   "source": [
    "# For sanity check lets see if the remaining emojis\n",
    "# are only the top ten emojis\n",
    "twemoji['target'].value_counts().index.tolist() "
   ]
  },
  {
   "cell_type": "markdown",
   "metadata": {},
   "source": [
    "## Bag-Of-Words Model\n",
    "\n",
    "`Bag of words` allows us to represent text as numberical feature vectors. \n",
    "This idea behind the bag of words model can be summarized as follows\n",
    "\n",
    "1. Create a vocabulary of unique tokens, for example words, from the entire set of documents\n",
    "2. Concstruct a feature vector from each document that contains the counts of how often wach word occurs\n",
    "    in the particular document\n",
    "    \n",
    "Unique words in documents represent only a small subset of all words in the `bag of words` vocabulary, therfore the feature vectors will mostly consist of zeros, which is why we call them `sparse`\n"
   ]
  },
  {
   "cell_type": "code",
   "execution_count": null,
   "metadata": {},
   "outputs": [],
   "source": []
  }
 ],
 "metadata": {
  "kernelspec": {
   "display_name": "Python 3",
   "language": "python",
   "name": "python3"
  },
  "language_info": {
   "codemirror_mode": {
    "name": "ipython",
    "version": 3
   },
   "file_extension": ".py",
   "mimetype": "text/x-python",
   "name": "python",
   "nbconvert_exporter": "python",
   "pygments_lexer": "ipython3",
   "version": "3.7.6"
  }
 },
 "nbformat": 4,
 "nbformat_minor": 4
}
