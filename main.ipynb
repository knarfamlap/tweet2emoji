{
 "cells": [
  {
   "cell_type": "code",
   "execution_count": 89,
   "metadata": {},
   "outputs": [],
   "source": [
    "import warnings\n",
    "warnings.filterwarnings(\"ignore\") \n",
    "\n",
    "import pandas as pd\n",
    "import numpy as np\n",
    "import matplotlib.pyplot as plt\n",
    "import seaborn as sns\n",
    "import nltk\n",
    "from tqdm import tqdm\n",
    "\n",
    "import pickle\n",
    "import os\n",
    "import re\n",
    "\n",
    "import bz2\n",
    "import _pickle as cPickle\n",
    "\n",
    "from keras.preprocessing.text import Tokenizer\n",
    "from keras.preprocessing.sequence import pad_sequences\n",
    "from keras.models import Sequential\n",
    "from keras.layers import *\n",
    "from keras.utils.np_utils import to_categorical\n",
    "from keras.initializers import Constant\n",
    "from keras import regularizers\n",
    "\n",
    "from sklearn.model_selection import train_test_split\n",
    "from sklearn.metrics import f1_score\n",
    "from sklearn.svm import SVC\n",
    "from sklearn.feature_extraction.text import HashingVectorizer"
   ]
  },
  {
   "cell_type": "code",
   "execution_count": 10,
   "metadata": {},
   "outputs": [],
   "source": [
    "TWEMOJI_DATASET = './datasets/samples/combined_csv.csv'\n",
    "EMOJI_MAPPINGS = './datasets/emoji_map_1791.csv'\n",
    "pkl_dest = os.path.join('src', 'pkl_objects')"
   ]
  },
  {
   "cell_type": "code",
   "execution_count": 11,
   "metadata": {},
   "outputs": [],
   "source": [
    "twemoji = pd.read_csv(TWEMOJI_DATASET)"
   ]
  },
  {
   "cell_type": "code",
   "execution_count": 12,
   "metadata": {},
   "outputs": [],
   "source": [
    "mappings = pd.read_csv(EMOJI_MAPPINGS)"
   ]
  },
  {
   "cell_type": "code",
   "execution_count": 13,
   "metadata": {},
   "outputs": [],
   "source": [
    "twemoji = twemoji.reindex(np.random.permutation(twemoji.index))"
   ]
  },
  {
   "cell_type": "markdown",
   "metadata": {},
   "source": [
    "# Mappings"
   ]
  },
  {
   "cell_type": "code",
   "execution_count": 14,
   "metadata": {},
   "outputs": [
    {
     "data": {
      "text/html": [
       "<div>\n",
       "<style scoped>\n",
       "    .dataframe tbody tr th:only-of-type {\n",
       "        vertical-align: middle;\n",
       "    }\n",
       "\n",
       "    .dataframe tbody tr th {\n",
       "        vertical-align: top;\n",
       "    }\n",
       "\n",
       "    .dataframe thead th {\n",
       "        text-align: right;\n",
       "    }\n",
       "</style>\n",
       "<table border=\"1\" class=\"dataframe\">\n",
       "  <thead>\n",
       "    <tr style=\"text-align: right;\">\n",
       "      <th></th>\n",
       "      <th>Unnamed: 0</th>\n",
       "      <th>category</th>\n",
       "      <th>title</th>\n",
       "      <th>shorts</th>\n",
       "      <th>unicode_alternates</th>\n",
       "      <th>keywords</th>\n",
       "      <th>ucode_short</th>\n",
       "      <th>ucode</th>\n",
       "      <th>aliases</th>\n",
       "      <th>alt_title</th>\n",
       "      <th>aliases_ascii</th>\n",
       "    </tr>\n",
       "  </thead>\n",
       "  <tbody>\n",
       "    <tr>\n",
       "      <th>0</th>\n",
       "      <td>#️⃣</td>\n",
       "      <td>symbols</td>\n",
       "      <td>keycap number sign</td>\n",
       "      <td>[hash]</td>\n",
       "      <td>0023-fe0f-20e3</td>\n",
       "      <td>[keycap, symbol, pound, hash, number]</td>\n",
       "      <td>0023_fe0f_20e3</td>\n",
       "      <td>#️⃣</td>\n",
       "      <td>NaN</td>\n",
       "      <td>NaN</td>\n",
       "      <td>NaN</td>\n",
       "    </tr>\n",
       "    <tr>\n",
       "      <th>1</th>\n",
       "      <td>*️⃣</td>\n",
       "      <td>symbols</td>\n",
       "      <td>keycap asterisk</td>\n",
       "      <td>[asterisk]</td>\n",
       "      <td>002a-fe0f-20e3</td>\n",
       "      <td>[keycap, symbol, asterisk, star]</td>\n",
       "      <td>002a_fe0f_20e3</td>\n",
       "      <td>*️⃣</td>\n",
       "      <td>[:keycap_asterisk:]</td>\n",
       "      <td>NaN</td>\n",
       "      <td>NaN</td>\n",
       "    </tr>\n",
       "    <tr>\n",
       "      <th>2</th>\n",
       "      <td>0️⃣</td>\n",
       "      <td>symbols</td>\n",
       "      <td>keycap digit zero</td>\n",
       "      <td>[zero]</td>\n",
       "      <td>0030-fe0f-20e3</td>\n",
       "      <td>[, keycap, symbol, number, zero, math]</td>\n",
       "      <td>0030_fe0f_20e3</td>\n",
       "      <td>0️⃣</td>\n",
       "      <td>NaN</td>\n",
       "      <td>NaN</td>\n",
       "      <td>NaN</td>\n",
       "    </tr>\n",
       "    <tr>\n",
       "      <th>3</th>\n",
       "      <td>1️⃣</td>\n",
       "      <td>symbols</td>\n",
       "      <td>keycap digit one</td>\n",
       "      <td>[one]</td>\n",
       "      <td>0031-fe0f-20e3</td>\n",
       "      <td>[, keycap, symbol, number, one, math]</td>\n",
       "      <td>0031_fe0f_20e3</td>\n",
       "      <td>1️⃣</td>\n",
       "      <td>NaN</td>\n",
       "      <td>NaN</td>\n",
       "      <td>NaN</td>\n",
       "    </tr>\n",
       "    <tr>\n",
       "      <th>4</th>\n",
       "      <td>2️⃣</td>\n",
       "      <td>symbols</td>\n",
       "      <td>keycap digit two</td>\n",
       "      <td>[two]</td>\n",
       "      <td>0032-fe0f-20e3</td>\n",
       "      <td>[, keycap, symbol, two, number, math]</td>\n",
       "      <td>0032_fe0f_20e3</td>\n",
       "      <td>2️⃣</td>\n",
       "      <td>NaN</td>\n",
       "      <td>NaN</td>\n",
       "      <td>NaN</td>\n",
       "    </tr>\n",
       "  </tbody>\n",
       "</table>\n",
       "</div>"
      ],
      "text/plain": [
       "  Unnamed: 0 category               title      shorts unicode_alternates  \\\n",
       "0        #️⃣  symbols  keycap number sign      [hash]     0023-fe0f-20e3   \n",
       "1        *️⃣  symbols     keycap asterisk  [asterisk]     002a-fe0f-20e3   \n",
       "2        0️⃣  symbols   keycap digit zero      [zero]     0030-fe0f-20e3   \n",
       "3        1️⃣  symbols    keycap digit one       [one]     0031-fe0f-20e3   \n",
       "4        2️⃣  symbols    keycap digit two       [two]     0032-fe0f-20e3   \n",
       "\n",
       "                                 keywords     ucode_short ucode  \\\n",
       "0   [keycap, symbol, pound, hash, number]  0023_fe0f_20e3   #️⃣   \n",
       "1        [keycap, symbol, asterisk, star]  002a_fe0f_20e3   *️⃣   \n",
       "2  [, keycap, symbol, number, zero, math]  0030_fe0f_20e3   0️⃣   \n",
       "3   [, keycap, symbol, number, one, math]  0031_fe0f_20e3   1️⃣   \n",
       "4   [, keycap, symbol, two, number, math]  0032_fe0f_20e3   2️⃣   \n",
       "\n",
       "               aliases alt_title aliases_ascii  \n",
       "0                  NaN       NaN           NaN  \n",
       "1  [:keycap_asterisk:]       NaN           NaN  \n",
       "2                  NaN       NaN           NaN  \n",
       "3                  NaN       NaN           NaN  \n",
       "4                  NaN       NaN           NaN  "
      ]
     },
     "execution_count": 14,
     "metadata": {},
     "output_type": "execute_result"
    }
   ],
   "source": [
    "# we can see that we now have the dataframe that contain all \n",
    "# the emoji mappings\n",
    "mappings.head(5) "
   ]
  },
  {
   "cell_type": "markdown",
   "metadata": {},
   "source": [
    "# Cleaning and Preparing"
   ]
  },
  {
   "cell_type": "code",
   "execution_count": 15,
   "metadata": {},
   "outputs": [],
   "source": [
    "replace_puncts = {'`': \"'\", '′': \"'\", '“':'\"', '”': '\"', '‘': \"'\"}\n",
    "\n",
    "strip_chars = [',', '.', '\"', ':', ')', '(', '-', '|', ';', \"'\", '[', ']', '>', '=', '+', '\\\\', '•',  '~', '@', \n",
    " '·', '_', '{', '}', '©', '^', '®', '`',  '<', '→', '°', '€', '™', '›',  '♥', '←', '×', '§', '″', '′', 'Â', '█', '½', 'à', '…', \n",
    " '“', '★', '”', '–', '●', 'â', '►', '−', '¢', '²', '¬', '░', '¶', '↑', '±', '¿', '▾', '═', '¦', '║', '―', '¥', '▓', '—', '‹', '─', \n",
    " '▒', '：', '¼', '⊕', '▼', '▪', '†', '■', '’', '▀', '¨', '▄', '♫', '☆', 'é', '¯', '♦', '¤', '▲', 'è', '¸', '¾', 'Ã', '⋅', '‘', '∞', \n",
    " '∙', '）', '↓', '、', '│', '（', '»', '，', '♪', '╩', '╚', '³', '・', '╦', '╣', '╔', '╗', '▬', '❤', 'ï', 'Ø', '¹', '≤', '‡', '√', ]\n",
    "\n",
    "puncts = ['!', '?', '$', '&', '/', '%', '#', '*','£']"
   ]
  },
  {
   "cell_type": "code",
   "execution_count": 16,
   "metadata": {},
   "outputs": [],
   "source": [
    "def clean_str(x):\n",
    "    x = str(x)\n",
    "    \n",
    "    x = x.lower()\n",
    "    \n",
    "    x = re.sub(r\"(https?:\\/\\/(?:www\\.|(?!www))[a-zA-Z0-9][a-zA-Z0-9-]+[a-zA-Z0-9]\\.[^\\s]{2,}|www\\.[a-zA-Z0-9][a-zA-Z0-9-]+[a-zA-Z0-9]\\.[^\\s]{2,}|https?:\\/\\/(?:www\\.|(?!www))[a-zA-Z0-9]\\.[^\\s]{2,}|www\\.[a-zA-Z0-9]\\.[^\\s]{2,})\", \"url\", x)\n",
    "    \n",
    "    for k, v in replace_puncts.items():\n",
    "        x = x.replace(k, f' {v} ')\n",
    "        \n",
    "    for punct in strip_chars:\n",
    "        x = x.replace(punct, ' ')\n",
    "        \n",
    "    for punct in puncts:\n",
    "        x = x.replace(punct, f' {punct} ')\n",
    "        \n",
    "    x = x.replace(\" '\", \" \")\n",
    "    x = x.replace(\"' \", \" \")\n",
    "    \n",
    "    return x"
   ]
  },
  {
   "cell_type": "code",
   "execution_count": 17,
   "metadata": {},
   "outputs": [
    {
     "data": {
      "text/plain": [
       "Index(['id', 'annotations', 'id_text'], dtype='object')"
      ]
     },
     "execution_count": 17,
     "metadata": {},
     "output_type": "execute_result"
    }
   ],
   "source": [
    "# lets see how many columns \n",
    "# does the dataset have\n",
    "twemoji.columns"
   ]
  },
  {
   "cell_type": "code",
   "execution_count": 18,
   "metadata": {},
   "outputs": [],
   "source": [
    "# rename annotations to target\n",
    "# rename id_text to tweet\n",
    "twemoji = twemoji.rename(columns={\"annotations\":'target', \"id_text\":\"text\"})"
   ]
  },
  {
   "cell_type": "code",
   "execution_count": 19,
   "metadata": {},
   "outputs": [
    {
     "data": {
      "text/html": [
       "<div>\n",
       "<style scoped>\n",
       "    .dataframe tbody tr th:only-of-type {\n",
       "        vertical-align: middle;\n",
       "    }\n",
       "\n",
       "    .dataframe tbody tr th {\n",
       "        vertical-align: top;\n",
       "    }\n",
       "\n",
       "    .dataframe thead th {\n",
       "        text-align: right;\n",
       "    }\n",
       "</style>\n",
       "<table border=\"1\" class=\"dataframe\">\n",
       "  <thead>\n",
       "    <tr style=\"text-align: right;\">\n",
       "      <th></th>\n",
       "      <th>id</th>\n",
       "      <th>target</th>\n",
       "      <th>text</th>\n",
       "    </tr>\n",
       "  </thead>\n",
       "  <tbody>\n",
       "    <tr>\n",
       "      <th>711309</th>\n",
       "      <td>741663234713739264</td>\n",
       "      <td>1416</td>\n",
       "      <td>NaN</td>\n",
       "    </tr>\n",
       "    <tr>\n",
       "      <th>620732</th>\n",
       "      <td>747784607182032896</td>\n",
       "      <td>1210</td>\n",
       "      <td>NaN</td>\n",
       "    </tr>\n",
       "    <tr>\n",
       "      <th>519759</th>\n",
       "      <td>741434698107387904_q</td>\n",
       "      <td>1447</td>\n",
       "      <td>NaN</td>\n",
       "    </tr>\n",
       "    <tr>\n",
       "      <th>1935178</th>\n",
       "      <td>744544531543105536</td>\n",
       "      <td>1389</td>\n",
       "      <td>NaN</td>\n",
       "    </tr>\n",
       "    <tr>\n",
       "      <th>3330960</th>\n",
       "      <td>747756871960821761</td>\n",
       "      <td>1381</td>\n",
       "      <td>NaN</td>\n",
       "    </tr>\n",
       "  </tbody>\n",
       "</table>\n",
       "</div>"
      ],
      "text/plain": [
       "                           id  target text\n",
       "711309     741663234713739264    1416  NaN\n",
       "620732     747784607182032896    1210  NaN\n",
       "519759   741434698107387904_q    1447  NaN\n",
       "1935178    744544531543105536    1389  NaN\n",
       "3330960    747756871960821761    1381  NaN"
      ]
     },
     "execution_count": 19,
     "metadata": {},
     "output_type": "execute_result"
    }
   ],
   "source": [
    "twemoji.head() "
   ]
  },
  {
   "cell_type": "code",
   "execution_count": 20,
   "metadata": {},
   "outputs": [],
   "source": [
    "# since the id column is no longer needed\n",
    "# we can simply drop it\n",
    "twemoji = twemoji.drop(columns=[\"id\"])"
   ]
  },
  {
   "cell_type": "code",
   "execution_count": 21,
   "metadata": {},
   "outputs": [
    {
     "data": {
      "text/html": [
       "<div>\n",
       "<style scoped>\n",
       "    .dataframe tbody tr th:only-of-type {\n",
       "        vertical-align: middle;\n",
       "    }\n",
       "\n",
       "    .dataframe tbody tr th {\n",
       "        vertical-align: top;\n",
       "    }\n",
       "\n",
       "    .dataframe thead th {\n",
       "        text-align: right;\n",
       "    }\n",
       "</style>\n",
       "<table border=\"1\" class=\"dataframe\">\n",
       "  <thead>\n",
       "    <tr style=\"text-align: right;\">\n",
       "      <th></th>\n",
       "      <th>target</th>\n",
       "      <th>text</th>\n",
       "    </tr>\n",
       "  </thead>\n",
       "  <tbody>\n",
       "    <tr>\n",
       "      <th>711309</th>\n",
       "      <td>1416</td>\n",
       "      <td>NaN</td>\n",
       "    </tr>\n",
       "    <tr>\n",
       "      <th>620732</th>\n",
       "      <td>1210</td>\n",
       "      <td>NaN</td>\n",
       "    </tr>\n",
       "    <tr>\n",
       "      <th>519759</th>\n",
       "      <td>1447</td>\n",
       "      <td>NaN</td>\n",
       "    </tr>\n",
       "    <tr>\n",
       "      <th>1935178</th>\n",
       "      <td>1389</td>\n",
       "      <td>NaN</td>\n",
       "    </tr>\n",
       "    <tr>\n",
       "      <th>3330960</th>\n",
       "      <td>1381</td>\n",
       "      <td>NaN</td>\n",
       "    </tr>\n",
       "  </tbody>\n",
       "</table>\n",
       "</div>"
      ],
      "text/plain": [
       "         target text\n",
       "711309     1416  NaN\n",
       "620732     1210  NaN\n",
       "519759     1447  NaN\n",
       "1935178    1389  NaN\n",
       "3330960    1381  NaN"
      ]
     },
     "execution_count": 21,
     "metadata": {},
     "output_type": "execute_result"
    }
   ],
   "source": [
    "twemoji.head()"
   ]
  },
  {
   "cell_type": "code",
   "execution_count": 22,
   "metadata": {},
   "outputs": [
    {
     "data": {
      "text/plain": [
       "3878060"
      ]
     },
     "execution_count": 22,
     "metadata": {},
     "output_type": "execute_result"
    }
   ],
   "source": [
    "# Lets check how many null values exist in \n",
    "# the dataset\n",
    "twemoji['text'].isna().sum()"
   ]
  },
  {
   "cell_type": "code",
   "execution_count": 23,
   "metadata": {},
   "outputs": [],
   "source": [
    "# We can't do much with null values\n",
    "# So we drop them\n",
    "twemoji = twemoji.dropna()"
   ]
  },
  {
   "cell_type": "code",
   "execution_count": 24,
   "metadata": {},
   "outputs": [],
   "source": [
    "twemoji['text'] = twemoji['text'].apply(clean_str)"
   ]
  },
  {
   "cell_type": "code",
   "execution_count": 25,
   "metadata": {},
   "outputs": [
    {
     "data": {
      "text/html": [
       "<div>\n",
       "<style scoped>\n",
       "    .dataframe tbody tr th:only-of-type {\n",
       "        vertical-align: middle;\n",
       "    }\n",
       "\n",
       "    .dataframe tbody tr th {\n",
       "        vertical-align: top;\n",
       "    }\n",
       "\n",
       "    .dataframe thead th {\n",
       "        text-align: right;\n",
       "    }\n",
       "</style>\n",
       "<table border=\"1\" class=\"dataframe\">\n",
       "  <thead>\n",
       "    <tr style=\"text-align: right;\">\n",
       "      <th></th>\n",
       "      <th>target</th>\n",
       "      <th>text</th>\n",
       "    </tr>\n",
       "  </thead>\n",
       "  <tbody>\n",
       "    <tr>\n",
       "      <th>1954415</th>\n",
       "      <td>1381</td>\n",
       "      <td>my worst nightmare right there</td>\n",
       "    </tr>\n",
       "    <tr>\n",
       "      <th>1988172</th>\n",
       "      <td>1393</td>\n",
       "      <td>it s get you a school boy</td>\n",
       "    </tr>\n",
       "    <tr>\n",
       "      <th>1510963</th>\n",
       "      <td>1420</td>\n",
       "      <td>half my tweets are about wishing i was</td>\n",
       "    </tr>\n",
       "    <tr>\n",
       "      <th>1748529</th>\n",
       "      <td>1381</td>\n",
       "      <td>this is an unspoken rule khuze lmao</td>\n",
       "    </tr>\n",
       "    <tr>\n",
       "      <th>1910804</th>\n",
       "      <td>186</td>\n",
       "      <td>so blessed to have such amazing friends</td>\n",
       "    </tr>\n",
       "  </tbody>\n",
       "</table>\n",
       "</div>"
      ],
      "text/plain": [
       "         target                                       text\n",
       "1954415    1381             my worst nightmare right there\n",
       "1988172    1393                  it s get you a school boy\n",
       "1510963    1420     half my tweets are about wishing i was\n",
       "1748529    1381        this is an unspoken rule khuze lmao\n",
       "1910804     186  so blessed to have such amazing friends  "
      ]
     },
     "execution_count": 25,
     "metadata": {},
     "output_type": "execute_result"
    }
   ],
   "source": [
    "twemoji.head()"
   ]
  },
  {
   "cell_type": "code",
   "execution_count": 26,
   "metadata": {},
   "outputs": [
    {
     "data": {
      "text/plain": [
       "(88567, 2)"
      ]
     },
     "execution_count": 26,
     "metadata": {},
     "output_type": "execute_result"
    }
   ],
   "source": [
    "# Lets check how big is the data set now\n",
    "twemoji.shape"
   ]
  },
  {
   "cell_type": "markdown",
   "metadata": {},
   "source": [
    "# Exploration"
   ]
  },
  {
   "cell_type": "code",
   "execution_count": 27,
   "metadata": {},
   "outputs": [
    {
     "data": {
      "text/plain": [
       "<AxesSubplot:xlabel='target'>"
      ]
     },
     "execution_count": 27,
     "metadata": {},
     "output_type": "execute_result"
    },
    {
     "data": {
      "image/png": "[encoded data removed]",
      "text/plain": [
       "<Figure size 432x288 with 1 Axes>"
      ]
     },
     "metadata": {
      "needs_background": "light"
     },
     "output_type": "display_data"
    }
   ],
   "source": [
    "# lets see the distribution of our target values\n",
    "sns.distplot(twemoji['target'], color='red', bins=10)"
   ]
  },
  {
   "cell_type": "code",
   "execution_count": 28,
   "metadata": {},
   "outputs": [
    {
     "data": {
      "text/plain": [
       "1381"
      ]
     },
     "execution_count": 28,
     "metadata": {},
     "output_type": "execute_result"
    }
   ],
   "source": [
    "most_frequent = twemoji['target'].value_counts().idxmax() \n",
    "most_frequent"
   ]
  },
  {
   "cell_type": "code",
   "execution_count": 29,
   "metadata": {},
   "outputs": [
    {
     "data": {
      "text/plain": [
       "Unnamed: 0                                                            😂\n",
       "category                                                         people\n",
       "title                                            face with tears of joy\n",
       "shorts                                                            [joy]\n",
       "unicode_alternates                                                  NaN\n",
       "keywords              [emotion, cry, tear, joy, smiley, sarcastic, f...\n",
       "ucode_short                                                       1f602\n",
       "ucode                                                                 😂\n",
       "aliases                                                             NaN\n",
       "alt_title                                                           NaN\n",
       "aliases_ascii                                               [:'), :'-)]\n",
       "Name: 1381, dtype: object"
      ]
     },
     "execution_count": 29,
     "metadata": {},
     "output_type": "execute_result"
    }
   ],
   "source": [
    "# The laughing face emoji is the most popular in this dataset\n",
    "mappings.loc[most_frequent]"
   ]
  },
  {
   "cell_type": "code",
   "execution_count": 30,
   "metadata": {},
   "outputs": [
    {
     "data": {
      "text/plain": [
       "[1381,\n",
       " 1447,\n",
       " 1424,\n",
       " 1392,\n",
       " 1389,\n",
       " 186,\n",
       " 1620,\n",
       " 1420,\n",
       " 1446,\n",
       " 1403,\n",
       " 1138,\n",
       " 1397,\n",
       " 1384,\n",
       " 1107,\n",
       " 830,\n",
       " 1056,\n",
       " 1393,\n",
       " 1380,\n",
       " 1394,\n",
       " 1210]"
      ]
     },
     "execution_count": 30,
     "metadata": {},
     "output_type": "execute_result"
    }
   ],
   "source": [
    "# Lets see the 10 most frequently used emojis\n",
    "top_twenty = twemoji['target'].value_counts()[:20].index.tolist() \n",
    "top_twenty"
   ]
  },
  {
   "cell_type": "code",
   "execution_count": 31,
   "metadata": {},
   "outputs": [
    {
     "data": {
      "text/html": [
       "<div>\n",
       "<style scoped>\n",
       "    .dataframe tbody tr th:only-of-type {\n",
       "        vertical-align: middle;\n",
       "    }\n",
       "\n",
       "    .dataframe tbody tr th {\n",
       "        vertical-align: top;\n",
       "    }\n",
       "\n",
       "    .dataframe thead th {\n",
       "        text-align: right;\n",
       "    }\n",
       "</style>\n",
       "<table border=\"1\" class=\"dataframe\">\n",
       "  <thead>\n",
       "    <tr style=\"text-align: right;\">\n",
       "      <th></th>\n",
       "      <th>Unnamed: 0</th>\n",
       "      <th>category</th>\n",
       "      <th>title</th>\n",
       "      <th>shorts</th>\n",
       "      <th>unicode_alternates</th>\n",
       "      <th>keywords</th>\n",
       "      <th>ucode_short</th>\n",
       "      <th>ucode</th>\n",
       "      <th>aliases</th>\n",
       "      <th>alt_title</th>\n",
       "      <th>aliases_ascii</th>\n",
       "    </tr>\n",
       "  </thead>\n",
       "  <tbody>\n",
       "    <tr>\n",
       "      <th>1381</th>\n",
       "      <td>😂</td>\n",
       "      <td>people</td>\n",
       "      <td>face with tears of joy</td>\n",
       "      <td>[joy]</td>\n",
       "      <td>NaN</td>\n",
       "      <td>[emotion, cry, tear, joy, smiley, sarcastic, f...</td>\n",
       "      <td>1f602</td>\n",
       "      <td>😂</td>\n",
       "      <td>NaN</td>\n",
       "      <td>NaN</td>\n",
       "      <td>[:'), :'-)]</td>\n",
       "    </tr>\n",
       "    <tr>\n",
       "      <th>1447</th>\n",
       "      <td>🙄</td>\n",
       "      <td>people</td>\n",
       "      <td>face with rolling eyes</td>\n",
       "      <td>[rolling_eyes, face_with_rolling_eyes]</td>\n",
       "      <td>NaN</td>\n",
       "      <td>[emotion, eyes, rolling eyes, smiley, sarcasti...</td>\n",
       "      <td>1f644</td>\n",
       "      <td>🙄</td>\n",
       "      <td>[:face_with_rolling_eyes:]</td>\n",
       "      <td>NaN</td>\n",
       "      <td>NaN</td>\n",
       "    </tr>\n",
       "    <tr>\n",
       "      <th>1424</th>\n",
       "      <td>😭</td>\n",
       "      <td>people</td>\n",
       "      <td>loudly crying face</td>\n",
       "      <td>[sob]</td>\n",
       "      <td>NaN</td>\n",
       "      <td>[emotion, sob, tear, cry, smiley, sad, heartbr...</td>\n",
       "      <td>1f62d</td>\n",
       "      <td>😭</td>\n",
       "      <td>NaN</td>\n",
       "      <td>NaN</td>\n",
       "      <td>NaN</td>\n",
       "    </tr>\n",
       "    <tr>\n",
       "      <th>1392</th>\n",
       "      <td>😍</td>\n",
       "      <td>people</td>\n",
       "      <td>smiling face with heart shaped eyes</td>\n",
       "      <td>[heart_eyes]</td>\n",
       "      <td>NaN</td>\n",
       "      <td>[emotion, heart, eye, love, smiley, face, beau...</td>\n",
       "      <td>1f60d</td>\n",
       "      <td>😍</td>\n",
       "      <td>NaN</td>\n",
       "      <td>smiling face with heart-shaped eyes</td>\n",
       "      <td>NaN</td>\n",
       "    </tr>\n",
       "    <tr>\n",
       "      <th>1389</th>\n",
       "      <td>😊</td>\n",
       "      <td>people</td>\n",
       "      <td>smiling face with smiling eyes</td>\n",
       "      <td>[blush]</td>\n",
       "      <td>NaN</td>\n",
       "      <td>[emotion, beautiful, good, eye, smiley, face, ...</td>\n",
       "      <td>1f60a</td>\n",
       "      <td>😊</td>\n",
       "      <td>NaN</td>\n",
       "      <td>NaN</td>\n",
       "      <td>NaN</td>\n",
       "    </tr>\n",
       "  </tbody>\n",
       "</table>\n",
       "</div>"
      ],
      "text/plain": [
       "     Unnamed: 0 category                                title  \\\n",
       "1381          😂   people               face with tears of joy   \n",
       "1447          🙄   people               face with rolling eyes   \n",
       "1424          😭   people                   loudly crying face   \n",
       "1392          😍   people  smiling face with heart shaped eyes   \n",
       "1389          😊   people       smiling face with smiling eyes   \n",
       "\n",
       "                                      shorts unicode_alternates  \\\n",
       "1381                                   [joy]                NaN   \n",
       "1447  [rolling_eyes, face_with_rolling_eyes]                NaN   \n",
       "1424                                   [sob]                NaN   \n",
       "1392                            [heart_eyes]                NaN   \n",
       "1389                                 [blush]                NaN   \n",
       "\n",
       "                                               keywords ucode_short ucode  \\\n",
       "1381  [emotion, cry, tear, joy, smiley, sarcastic, f...       1f602     😂   \n",
       "1447  [emotion, eyes, rolling eyes, smiley, sarcasti...       1f644     🙄   \n",
       "1424  [emotion, sob, tear, cry, smiley, sad, heartbr...       1f62d     😭   \n",
       "1392  [emotion, heart, eye, love, smiley, face, beau...       1f60d     😍   \n",
       "1389  [emotion, beautiful, good, eye, smiley, face, ...       1f60a     😊   \n",
       "\n",
       "                         aliases                            alt_title  \\\n",
       "1381                         NaN                                  NaN   \n",
       "1447  [:face_with_rolling_eyes:]                                  NaN   \n",
       "1424                         NaN                                  NaN   \n",
       "1392                         NaN  smiling face with heart-shaped eyes   \n",
       "1389                         NaN                                  NaN   \n",
       "\n",
       "     aliases_ascii  \n",
       "1381   [:'), :'-)]  \n",
       "1447           NaN  \n",
       "1424           NaN  \n",
       "1392           NaN  \n",
       "1389           NaN  "
      ]
     },
     "execution_count": 31,
     "metadata": {},
     "output_type": "execute_result"
    }
   ],
   "source": [
    "# lets see the mappings\n",
    "mappings.loc[top_twenty].head()"
   ]
  },
  {
   "cell_type": "code",
   "execution_count": 32,
   "metadata": {},
   "outputs": [],
   "source": [
    "# We see that there is a high density around 1000-1500\n",
    "# lets reduce the number of emojis there exists to the\n",
    "# top 10 emojis that exists in the dataset\n",
    "# we could reduce the complexity of our problem. \n",
    "index_names = twemoji[~twemoji['target'].isin(top_twenty)].index\n",
    "twemoji = twemoji.drop(index_names)"
   ]
  },
  {
   "cell_type": "code",
   "execution_count": 33,
   "metadata": {},
   "outputs": [
    {
     "data": {
      "text/plain": [
       "<AxesSubplot:xlabel='target'>"
      ]
     },
     "execution_count": 33,
     "metadata": {},
     "output_type": "execute_result"
    },
    {
     "data": {
      "image/png": "[encoded data removed]",
      "text/plain": [
       "<Figure size 432x288 with 1 Axes>"
      ]
     },
     "metadata": {
      "needs_background": "light"
     },
     "output_type": "display_data"
    }
   ],
   "source": [
    "# lets see the distribution once again\n",
    "sns.distplot(twemoji['target'], color='red', bins=10)"
   ]
  },
  {
   "cell_type": "code",
   "execution_count": 34,
   "metadata": {},
   "outputs": [
    {
     "data": {
      "text/plain": [
       "[1381,\n",
       " 1447,\n",
       " 1424,\n",
       " 1392,\n",
       " 1389,\n",
       " 186,\n",
       " 1620,\n",
       " 1420,\n",
       " 1446,\n",
       " 1403,\n",
       " 1138,\n",
       " 1397,\n",
       " 1384,\n",
       " 1107,\n",
       " 830,\n",
       " 1056,\n",
       " 1393,\n",
       " 1380,\n",
       " 1394,\n",
       " 1210]"
      ]
     },
     "execution_count": 34,
     "metadata": {},
     "output_type": "execute_result"
    }
   ],
   "source": [
    "# For sanity check lets see if the remaining emojis\n",
    "# are only the top ten emojis\n",
    "twemoji['target'].value_counts().index.tolist() "
   ]
  },
  {
   "cell_type": "code",
   "execution_count": 35,
   "metadata": {},
   "outputs": [
    {
     "data": {
      "text/plain": [
       "(44933, 2)"
      ]
     },
     "execution_count": 35,
     "metadata": {},
     "output_type": "execute_result"
    }
   ],
   "source": [
    "twemoji.shape"
   ]
  },
  {
   "cell_type": "code",
   "execution_count": 36,
   "metadata": {},
   "outputs": [
    {
     "data": {
      "text/plain": [
       "<AxesSubplot:xlabel='target', ylabel='count'>"
      ]
     },
     "execution_count": 36,
     "metadata": {},
     "output_type": "execute_result"
    },
    {
     "data": {
      "image/png": "[encoded data removed]",
      "text/plain": [
       "<Figure size 842.4x595.44 with 1 Axes>"
      ]
     },
     "metadata": {
      "needs_background": "light"
     },
     "output_type": "display_data"
    }
   ],
   "source": [
    "fig, ax = plt.subplots(figsize=(11.7, 8.27))\n",
    "sns.countplot(ax=ax, x='target', data=twemoji)"
   ]
  },
  {
   "cell_type": "markdown",
   "metadata": {},
   "source": [
    "## Imbalance Dataset "
   ]
  },
  {
   "cell_type": "code",
   "execution_count": 37,
   "metadata": {},
   "outputs": [],
   "source": [
    "MINIMUM_CLASS_SIZE = min(np.array(twemoji['target'].value_counts()))"
   ]
  },
  {
   "cell_type": "code",
   "execution_count": 38,
   "metadata": {},
   "outputs": [],
   "source": [
    "twemoji = twemoji.groupby('target').apply(lambda x: x.sample(MINIMUM_CLASS_SIZE))"
   ]
  },
  {
   "cell_type": "code",
   "execution_count": 39,
   "metadata": {},
   "outputs": [
    {
     "data": {
      "text/plain": [
       "(20080, 2)"
      ]
     },
     "execution_count": 39,
     "metadata": {},
     "output_type": "execute_result"
    }
   ],
   "source": [
    "twemoji.shape"
   ]
  },
  {
   "cell_type": "code",
   "execution_count": 40,
   "metadata": {},
   "outputs": [
    {
     "data": {
      "text/plain": [
       "<AxesSubplot:xlabel='target', ylabel='count'>"
      ]
     },
     "execution_count": 40,
     "metadata": {},
     "output_type": "execute_result"
    },
    {
     "data": {
      "image/png": "[encoded data removed]",
      "text/plain": [
       "<Figure size 842.4x595.44 with 1 Axes>"
      ]
     },
     "metadata": {
      "needs_background": "light"
     },
     "output_type": "display_data"
    }
   ],
   "source": [
    "fig, ax = plt.subplots(figsize=(11.7, 8.27))\n",
    "sns.countplot(ax=ax, x='target', data=twemoji,)"
   ]
  },
  {
   "cell_type": "code",
   "execution_count": 41,
   "metadata": {},
   "outputs": [],
   "source": [
    "twemoji['l'] = twemoji['text'].apply(lambda x: len(str(x).split(' '))) "
   ]
  },
  {
   "cell_type": "code",
   "execution_count": 42,
   "metadata": {},
   "outputs": [
    {
     "name": "stdout",
     "output_type": "stream",
     "text": [
      "mean length of sentence: 10.15562749003984\n",
      "max length of sentence: 60\n",
      "std dev length of sentence: 7.146579077730126\n"
     ]
    }
   ],
   "source": [
    "print(\"mean length of sentence: \" + str(twemoji.l.mean()))\n",
    "print(\"max length of sentence: \" + str(twemoji.l.max()))\n",
    "print(\"std dev length of sentence: \" + str(twemoji.l.std()))"
   ]
  },
  {
   "cell_type": "code",
   "execution_count": 43,
   "metadata": {},
   "outputs": [],
   "source": [
    "sequence_length = 60"
   ]
  },
  {
   "cell_type": "markdown",
   "metadata": {},
   "source": [
    "## Tokenize"
   ]
  },
  {
   "cell_type": "code",
   "execution_count": 44,
   "metadata": {},
   "outputs": [],
   "source": [
    "max_features = 2000 # numer of words we care about\n",
    "\n",
    "tokenizer = Tokenizer(num_words=max_features, split=' ', oov_token='<unw>', filters=' ')\n",
    "tokenizer.fit_on_texts(twemoji['text'].values)"
   ]
  },
  {
   "cell_type": "code",
   "execution_count": 45,
   "metadata": {},
   "outputs": [],
   "source": [
    "# convert all text to vectors\n",
    "X = tokenizer.texts_to_sequences(twemoji['text'].values) "
   ]
  },
  {
   "cell_type": "code",
   "execution_count": 46,
   "metadata": {},
   "outputs": [],
   "source": [
    "# pad sequences so they are all the same length\n",
    "X = pad_sequences(X, sequence_length)"
   ]
  },
  {
   "cell_type": "code",
   "execution_count": 47,
   "metadata": {},
   "outputs": [],
   "source": [
    "y = pd.get_dummies(twemoji['target']).values"
   ]
  },
  {
   "cell_type": "code",
   "execution_count": 48,
   "metadata": {},
   "outputs": [],
   "source": [
    "X_train, X_test, y_train, y_test = train_test_split(X, y, test_size=0.1)"
   ]
  },
  {
   "cell_type": "code",
   "execution_count": 49,
   "metadata": {},
   "outputs": [
    {
     "name": "stdout",
     "output_type": "stream",
     "text": [
      "Test Set Size 2008\n"
     ]
    }
   ],
   "source": [
    "print('Test Set Size ' + str(len(X_test)))"
   ]
  },
  {
   "cell_type": "markdown",
   "metadata": {},
   "source": [
    "## GloVe"
   ]
  },
  {
   "cell_type": "code",
   "execution_count": 50,
   "metadata": {},
   "outputs": [
    {
     "name": "stdout",
     "output_type": "stream",
     "text": [
      "Found 1193515 word vectors\n"
     ]
    }
   ],
   "source": [
    "embeddings_index = {}\n",
    "f = open(os.path.join('src/embeddings', 'glove.twitter.27B.100d.txt'))\n",
    "for line in f:\n",
    "    values = line.split()\n",
    "    word = values[0]\n",
    "    coefs = np.asarray(values[1:], dtype='float32')\n",
    "    embeddings_index[word] = coefs\n",
    "f.close\n",
    "\n",
    "print('Found %s word vectors' % len(embeddings_index))"
   ]
  },
  {
   "cell_type": "code",
   "execution_count": 51,
   "metadata": {},
   "outputs": [
    {
     "name": "stdout",
     "output_type": "stream",
     "text": [
      "Found 15281 unique tokens\n"
     ]
    }
   ],
   "source": [
    "word_index = tokenizer.word_index\n",
    "print('Found %s unique tokens' % len(word_index))"
   ]
  },
  {
   "cell_type": "code",
   "execution_count": 52,
   "metadata": {},
   "outputs": [
    {
     "name": "stdout",
     "output_type": "stream",
     "text": [
      "2001\n"
     ]
    }
   ],
   "source": [
    "num_words = min(max_features, len(word_index)) + 1\n",
    "print(num_words)"
   ]
  },
  {
   "cell_type": "code",
   "execution_count": 53,
   "metadata": {},
   "outputs": [],
   "source": [
    "embedding_dim = 100\n",
    "embedding_matrix = np.zeros((num_words, embedding_dim))"
   ]
  },
  {
   "cell_type": "code",
   "execution_count": 54,
   "metadata": {},
   "outputs": [],
   "source": [
    "for word, i in word_index.items():\n",
    "    if i > max_features:\n",
    "        continue\n",
    "        \n",
    "    embedding_vector = embeddings_index.get(word)\n",
    "    \n",
    "    if embedding_vector is not None:\n",
    "        embedding_matrix[i] = embedding_vector\n",
    "    else:\n",
    "        embedding_matrix[i] = np.random.randn(embedding_dim)"
   ]
  },
  {
   "cell_type": "markdown",
   "metadata": {},
   "source": [
    "## Baseline - SVM"
   ]
  },
  {
   "cell_type": "code",
   "execution_count": 95,
   "metadata": {},
   "outputs": [],
   "source": [
    "def tokenizer(x):\n",
    "    return x.split()"
   ]
  },
  {
   "cell_type": "code",
   "execution_count": 87,
   "metadata": {},
   "outputs": [],
   "source": [
    "X_train_svc, X_test_svc, y_train_svc, y_test_svc = train_test_split(twemoji['text'], twemoji['target'], test_size=0.1)"
   ]
  },
  {
   "cell_type": "code",
   "execution_count": 96,
   "metadata": {},
   "outputs": [],
   "source": [
    "vect = HashingVectorizer(decode_error='ignore', n_features=max_features, preprocessor=None, tokenizer=tokenizer)"
   ]
  },
  {
   "cell_type": "code",
   "execution_count": 91,
   "metadata": {},
   "outputs": [],
   "source": [
    "svc = SVC(random_state=0, verbose=True,)"
   ]
  },
  {
   "cell_type": "code",
   "execution_count": 97,
   "metadata": {},
   "outputs": [
    {
     "name": "stdout",
     "output_type": "stream",
     "text": [
      "[LibSVM]"
     ]
    },
    {
     "data": {
      "text/plain": [
       "SVC(random_state=0, verbose=True)"
      ]
     },
     "execution_count": 97,
     "metadata": {},
     "output_type": "execute_result"
    }
   ],
   "source": [
    "svc.fit(vect.transform(X_train_svc), y_train_svc)"
   ]
  },
  {
   "cell_type": "code",
   "execution_count": 98,
   "metadata": {},
   "outputs": [],
   "source": [
    "y_hat = bi_lstm.predict(X_test)"
   ]
  },
  {
   "cell_type": "code",
   "execution_count": 99,
   "metadata": {},
   "outputs": [
    {
     "data": {
      "text/plain": [
       "0.10028382213812678"
      ]
     },
     "execution_count": 99,
     "metadata": {},
     "output_type": "execute_result"
    }
   ],
   "source": [
    "f1_score(list(map(lambda x: np.argmax(x), y_test_svc)), list(map(lambda x: np.argmax(x), y_hat)), average='weighted')"
   ]
  },
  {
   "cell_type": "markdown",
   "metadata": {},
   "source": [
    "## Bi-LSTM"
   ]
  },
  {
   "cell_type": "code",
   "execution_count": 62,
   "metadata": {},
   "outputs": [],
   "source": [
    "bi_lstm = Sequential()\n",
    "bi_lstm.add(Embedding(num_words, embedding_dim, \n",
    "                    embeddings_initializer=Constant(embedding_matrix),\n",
    "                    input_length=sequence_length, trainable=True))\n",
    "\n",
    "bi_lstm.add(SpatialDropout1D(0.2))\n",
    "bi_lstm.add(Bidirectional(LSTM(64, return_sequences=True)))\n",
    "bi_lstm.add(Bidirectional(LSTM(32)))\n",
    "bi_lstm.add(Dropout(0.25))\n",
    "bi_lstm.add(Dense(units=20, activation='softmax'))\n",
    "bi_lstm.compile(loss='categorical_crossentropy', optimizer='adam', metrics=['accuracy'])"
   ]
  },
  {
   "cell_type": "code",
   "execution_count": 63,
   "metadata": {},
   "outputs": [
    {
     "name": "stdout",
     "output_type": "stream",
     "text": [
      "Model: \"sequential_5\"\n",
      "_________________________________________________________________\n",
      "Layer (type)                 Output Shape              Param #   \n",
      "=================================================================\n",
      "embedding_1 (Embedding)      (None, 60, 100)           200100    \n",
      "_________________________________________________________________\n",
      "spatial_dropout1d (SpatialDr (None, 60, 100)           0         \n",
      "_________________________________________________________________\n",
      "bidirectional (Bidirectional (None, 60, 128)           84480     \n",
      "_________________________________________________________________\n",
      "bidirectional_1 (Bidirection (None, 64)                41216     \n",
      "_________________________________________________________________\n",
      "dropout_7 (Dropout)          (None, 64)                0         \n",
      "_________________________________________________________________\n",
      "dense_3 (Dense)              (None, 20)                1300      \n",
      "=================================================================\n",
      "Total params: 327,096\n",
      "Trainable params: 327,096\n",
      "Non-trainable params: 0\n",
      "_________________________________________________________________\n"
     ]
    }
   ],
   "source": [
    "bi_lstm.summary()"
   ]
  },
  {
   "cell_type": "code",
   "execution_count": 64,
   "metadata": {},
   "outputs": [
    {
     "name": "stdout",
     "output_type": "stream",
     "text": [
      "Epoch 1/50\n",
      "128/128 [==============================] - 9s 69ms/step - loss: 2.8783 - accuracy: 0.1052 - val_loss: 2.7549 - val_accuracy: 0.1471\n",
      "Epoch 2/50\n",
      "128/128 [==============================] - 8s 64ms/step - loss: 2.7473 - accuracy: 0.1395 - val_loss: 2.6903 - val_accuracy: 0.1715\n",
      "Epoch 3/50\n",
      "128/128 [==============================] - 9s 67ms/step - loss: 2.6854 - accuracy: 0.1642 - val_loss: 2.6503 - val_accuracy: 0.1770\n",
      "Epoch 4/50\n",
      "128/128 [==============================] - 9s 68ms/step - loss: 2.6347 - accuracy: 0.1802 - val_loss: 2.6375 - val_accuracy: 0.1809\n",
      "Epoch 5/50\n",
      "128/128 [==============================] - 9s 67ms/step - loss: 2.5902 - accuracy: 0.1936 - val_loss: 2.6109 - val_accuracy: 0.1869\n",
      "Epoch 6/50\n",
      "128/128 [==============================] - 9s 67ms/step - loss: 2.5597 - accuracy: 0.2001 - val_loss: 2.6136 - val_accuracy: 0.1941\n",
      "Epoch 7/50\n",
      "128/128 [==============================] - 9s 67ms/step - loss: 2.5238 - accuracy: 0.2147 - val_loss: 2.6032 - val_accuracy: 0.1914\n",
      "Epoch 8/50\n",
      "128/128 [==============================] - 9s 67ms/step - loss: 2.4898 - accuracy: 0.2255 - val_loss: 2.6096 - val_accuracy: 0.1886\n",
      "Epoch 9/50\n",
      "128/128 [==============================] - 9s 68ms/step - loss: 2.4560 - accuracy: 0.2359 - val_loss: 2.6052 - val_accuracy: 0.1914\n",
      "Epoch 10/50\n",
      "128/128 [==============================] - 9s 68ms/step - loss: 2.4297 - accuracy: 0.2445 - val_loss: 2.6054 - val_accuracy: 0.1958\n",
      "Epoch 11/50\n",
      "128/128 [==============================] - 9s 68ms/step - loss: 2.3969 - accuracy: 0.2545 - val_loss: 2.6188 - val_accuracy: 0.2069\n",
      "Epoch 12/50\n",
      "128/128 [==============================] - 9s 68ms/step - loss: 2.3667 - accuracy: 0.2660 - val_loss: 2.6463 - val_accuracy: 0.1958\n",
      "Epoch 13/50\n",
      "128/128 [==============================] - 9s 68ms/step - loss: 2.3442 - accuracy: 0.2699 - val_loss: 2.6360 - val_accuracy: 0.1952\n",
      "Epoch 14/50\n",
      "128/128 [==============================] - 8s 64ms/step - loss: 2.3163 - accuracy: 0.2764 - val_loss: 2.6362 - val_accuracy: 0.1975\n",
      "Epoch 15/50\n",
      "128/128 [==============================] - 8s 65ms/step - loss: 2.2859 - accuracy: 0.2880 - val_loss: 2.6675 - val_accuracy: 0.2046\n",
      "Epoch 16/50\n",
      "128/128 [==============================] - 9s 68ms/step - loss: 2.2608 - accuracy: 0.2953 - val_loss: 2.6785 - val_accuracy: 0.1925\n",
      "Epoch 17/50\n",
      "128/128 [==============================] - 9s 68ms/step - loss: 2.2348 - accuracy: 0.3030 - val_loss: 2.6861 - val_accuracy: 0.2030\n",
      "Epoch 18/50\n",
      "128/128 [==============================] - 9s 69ms/step - loss: 2.2059 - accuracy: 0.3082 - val_loss: 2.7089 - val_accuracy: 0.1853\n",
      "Epoch 19/50\n",
      "128/128 [==============================] - 9s 68ms/step - loss: 2.1705 - accuracy: 0.3227 - val_loss: 2.7421 - val_accuracy: 0.1963\n",
      "Epoch 20/50\n",
      "128/128 [==============================] - 9s 67ms/step - loss: 2.1412 - accuracy: 0.3333 - val_loss: 2.7351 - val_accuracy: 0.2030\n",
      "Epoch 21/50\n",
      "128/128 [==============================] - 9s 67ms/step - loss: 2.1138 - accuracy: 0.3334 - val_loss: 2.7750 - val_accuracy: 0.1975\n",
      "Epoch 22/50\n",
      "128/128 [==============================] - 9s 67ms/step - loss: 2.0787 - accuracy: 0.3513 - val_loss: 2.7957 - val_accuracy: 0.1969\n",
      "Epoch 23/50\n",
      "128/128 [==============================] - 9s 67ms/step - loss: 2.0599 - accuracy: 0.3523 - val_loss: 2.7907 - val_accuracy: 0.1947\n",
      "Epoch 24/50\n",
      "128/128 [==============================] - 9s 68ms/step - loss: 2.0322 - accuracy: 0.3606 - val_loss: 2.8073 - val_accuracy: 0.1986\n",
      "Epoch 25/50\n",
      "128/128 [==============================] - 9s 67ms/step - loss: 2.0028 - accuracy: 0.3722 - val_loss: 2.8530 - val_accuracy: 0.1991\n",
      "Epoch 26/50\n",
      "128/128 [==============================] - 9s 67ms/step - loss: 1.9786 - accuracy: 0.3781 - val_loss: 2.8579 - val_accuracy: 0.1864\n",
      "Epoch 27/50\n",
      "128/128 [==============================] - 9s 68ms/step - loss: 1.9499 - accuracy: 0.3871 - val_loss: 2.8546 - val_accuracy: 0.1919\n",
      "Epoch 28/50\n",
      "128/128 [==============================] - 9s 68ms/step - loss: 1.9229 - accuracy: 0.3970 - val_loss: 2.9139 - val_accuracy: 0.1892\n",
      "Epoch 29/50\n",
      "128/128 [==============================] - 9s 67ms/step - loss: 1.8813 - accuracy: 0.4086 - val_loss: 2.9529 - val_accuracy: 0.1858\n",
      "Epoch 30/50\n",
      "128/128 [==============================] - 9s 67ms/step - loss: 1.8706 - accuracy: 0.4120 - val_loss: 2.9597 - val_accuracy: 0.1925\n",
      "Epoch 31/50\n",
      "128/128 [==============================] - 9s 68ms/step - loss: 1.8365 - accuracy: 0.4214 - val_loss: 3.0035 - val_accuracy: 0.1798\n",
      "Epoch 32/50\n",
      "128/128 [==============================] - 9s 68ms/step - loss: 1.8248 - accuracy: 0.4304 - val_loss: 3.0063 - val_accuracy: 0.1875\n",
      "Epoch 33/50\n",
      "128/128 [==============================] - 9s 67ms/step - loss: 1.7886 - accuracy: 0.4388 - val_loss: 3.0378 - val_accuracy: 0.1869\n",
      "Epoch 34/50\n",
      "128/128 [==============================] - 9s 68ms/step - loss: 1.7635 - accuracy: 0.4406 - val_loss: 3.0924 - val_accuracy: 0.1770\n",
      "Epoch 35/50\n",
      "128/128 [==============================] - 9s 68ms/step - loss: 1.7354 - accuracy: 0.4553 - val_loss: 3.1102 - val_accuracy: 0.1820\n",
      "Epoch 36/50\n",
      "128/128 [==============================] - 9s 70ms/step - loss: 1.7113 - accuracy: 0.4605 - val_loss: 3.1273 - val_accuracy: 0.1803\n",
      "Epoch 37/50\n",
      "128/128 [==============================] - 9s 68ms/step - loss: 1.6914 - accuracy: 0.4698 - val_loss: 3.1800 - val_accuracy: 0.1792\n",
      "Epoch 38/50\n",
      "128/128 [==============================] - 9s 67ms/step - loss: 1.6759 - accuracy: 0.4706 - val_loss: 3.1725 - val_accuracy: 0.1798\n",
      "Epoch 39/50\n",
      "128/128 [==============================] - 9s 68ms/step - loss: 1.6473 - accuracy: 0.4774 - val_loss: 3.2006 - val_accuracy: 0.1825\n",
      "Epoch 40/50\n",
      "128/128 [==============================] - 9s 68ms/step - loss: 1.6230 - accuracy: 0.4896 - val_loss: 3.2274 - val_accuracy: 0.1726\n",
      "Epoch 41/50\n",
      "128/128 [==============================] - 9s 68ms/step - loss: 1.6203 - accuracy: 0.4871 - val_loss: 3.2544 - val_accuracy: 0.1720\n",
      "Epoch 42/50\n",
      "128/128 [==============================] - 9s 68ms/step - loss: 1.5775 - accuracy: 0.5019 - val_loss: 3.2997 - val_accuracy: 0.1709\n",
      "Epoch 43/50\n",
      "128/128 [==============================] - 9s 68ms/step - loss: 1.5609 - accuracy: 0.5032 - val_loss: 3.3314 - val_accuracy: 0.1770\n",
      "Epoch 44/50\n",
      "128/128 [==============================] - 9s 68ms/step - loss: 1.5361 - accuracy: 0.5145 - val_loss: 3.3458 - val_accuracy: 0.1787\n",
      "Epoch 45/50\n",
      "128/128 [==============================] - 9s 68ms/step - loss: 1.5127 - accuracy: 0.5229 - val_loss: 3.3697 - val_accuracy: 0.1692\n",
      "Epoch 46/50\n",
      "128/128 [==============================] - 8s 65ms/step - loss: 1.5053 - accuracy: 0.5244 - val_loss: 3.3753 - val_accuracy: 0.1753\n",
      "Epoch 47/50\n",
      "128/128 [==============================] - 8s 66ms/step - loss: 1.4841 - accuracy: 0.5308 - val_loss: 3.3913 - val_accuracy: 0.1809\n",
      "Epoch 48/50\n",
      "128/128 [==============================] - 9s 67ms/step - loss: 1.4522 - accuracy: 0.5406 - val_loss: 3.4621 - val_accuracy: 0.1698\n",
      "Epoch 49/50\n",
      "128/128 [==============================] - 9s 69ms/step - loss: 1.4269 - accuracy: 0.5478 - val_loss: 3.4861 - val_accuracy: 0.1709\n",
      "Epoch 50/50\n",
      "128/128 [==============================] - 9s 68ms/step - loss: 1.4127 - accuracy: 0.5515 - val_loss: 3.5323 - val_accuracy: 0.1770\n"
     ]
    }
   ],
   "source": [
    "batch_size = 128\n",
    "history = bi_lstm.fit(X_train, y_train, epochs=50, batch_size=batch_size, verbose=1, validation_split=0.1)"
   ]
  },
  {
   "cell_type": "code",
   "execution_count": 65,
   "metadata": {},
   "outputs": [
    {
     "data": {
      "image/png": "[encoded data removed]",
      "text/plain": [
       "<Figure size 432x288 with 1 Axes>"
      ]
     },
     "metadata": {
      "needs_background": "light"
     },
     "output_type": "display_data"
    }
   ],
   "source": [
    "plt.plot(history.history['accuracy'])\n",
    "plt.plot(history.history['val_accuracy'])\n",
    "plt.title('Bi-LSTM Accuracy')\n",
    "plt.ylabel('accuracy')\n",
    "plt.xlabel('epoch')\n",
    "plt.legend(['train', 'validation'], loc='upper left')\n",
    "plt.show()"
   ]
  },
  {
   "cell_type": "code",
   "execution_count": 66,
   "metadata": {},
   "outputs": [
    {
     "data": {
      "image/png": "[encoded data removed]",
      "text/plain": [
       "<Figure size 432x288 with 1 Axes>"
      ]
     },
     "metadata": {
      "needs_background": "light"
     },
     "output_type": "display_data"
    }
   ],
   "source": [
    "plt.plot(history.history['loss'])\n",
    "plt.plot(history.history['val_loss'])\n",
    "plt.title('Bi-LSTM Loss')\n",
    "plt.ylabel('loss')\n",
    "plt.xlabel('epoch')\n",
    "plt.legend(['train', 'validation'], loc='upper left')\n",
    "plt.show()"
   ]
  },
  {
   "cell_type": "code",
   "execution_count": 67,
   "metadata": {},
   "outputs": [],
   "source": [
    "y_hat = bi_lstm.predict(X_test)"
   ]
  },
  {
   "cell_type": "code",
   "execution_count": 68,
   "metadata": {},
   "outputs": [
    {
     "data": {
      "text/plain": [
       "0.17425893498671183"
      ]
     },
     "execution_count": 68,
     "metadata": {},
     "output_type": "execute_result"
    }
   ],
   "source": [
    "f1_score(list(map(lambda x: np.argmax(x), y_test)), list(map(lambda x: np.argmax(x), y_hat)), average='weighted')"
   ]
  },
  {
   "cell_type": "markdown",
   "metadata": {},
   "source": [
    "## CNN"
   ]
  },
  {
   "cell_type": "code",
   "execution_count": 69,
   "metadata": {},
   "outputs": [],
   "source": [
    "cnn = Sequential()\n",
    "cnn.add(Embedding(num_words, embedding_dim, \n",
    "                    embeddings_initializer=Constant(embedding_matrix),\n",
    "                    input_length=sequence_length, trainable=True))\n",
    "cnn.add(Dropout(0.4))\n",
    "cnn.add(Conv1D(512, 5, activation='relu', padding='same', kernel_regularizer=regularizers.l1(l1=1e-4)))\n",
    "cnn.add(MaxPool1D(pool_size=5))\n",
    "cnn.add(Flatten())\n",
    "cnn.add(Dropout(0.4))\n",
    "cnn.add(Dense(units=20, activation='softmax'))\n",
    "cnn.compile(loss='categorical_crossentropy', optimizer='adam', metrics=['accuracy'])"
   ]
  },
  {
   "cell_type": "code",
   "execution_count": 70,
   "metadata": {},
   "outputs": [
    {
     "name": "stdout",
     "output_type": "stream",
     "text": [
      "Model: \"sequential_6\"\n",
      "_________________________________________________________________\n",
      "Layer (type)                 Output Shape              Param #   \n",
      "=================================================================\n",
      "embedding_2 (Embedding)      (None, 60, 100)           200100    \n",
      "_________________________________________________________________\n",
      "dropout_8 (Dropout)          (None, 60, 100)           0         \n",
      "_________________________________________________________________\n",
      "conv1d_3 (Conv1D)            (None, 60, 512)           256512    \n",
      "_________________________________________________________________\n",
      "max_pooling1d_3 (MaxPooling1 (None, 12, 512)           0         \n",
      "_________________________________________________________________\n",
      "flatten_3 (Flatten)          (None, 6144)              0         \n",
      "_________________________________________________________________\n",
      "dropout_9 (Dropout)          (None, 6144)              0         \n",
      "_________________________________________________________________\n",
      "dense_4 (Dense)              (None, 20)                122900    \n",
      "=================================================================\n",
      "Total params: 579,512\n",
      "Trainable params: 579,512\n",
      "Non-trainable params: 0\n",
      "_________________________________________________________________\n"
     ]
    }
   ],
   "source": [
    "cnn.summary()"
   ]
  },
  {
   "cell_type": "code",
   "execution_count": 71,
   "metadata": {},
   "outputs": [
    {
     "name": "stdout",
     "output_type": "stream",
     "text": [
      "Epoch 1/50\n",
      "128/128 [==============================] - 6s 46ms/step - loss: 3.3829 - accuracy: 0.1091 - val_loss: 3.1874 - val_accuracy: 0.1416\n",
      "Epoch 2/50\n",
      "128/128 [==============================] - 6s 45ms/step - loss: 3.1011 - accuracy: 0.1526 - val_loss: 3.0248 - val_accuracy: 0.1726\n",
      "Epoch 3/50\n",
      "128/128 [==============================] - 6s 45ms/step - loss: 2.9796 - accuracy: 0.1703 - val_loss: 2.9663 - val_accuracy: 0.1753\n",
      "Epoch 4/50\n",
      "128/128 [==============================] - 6s 45ms/step - loss: 2.9251 - accuracy: 0.1829 - val_loss: 2.9242 - val_accuracy: 0.1842\n",
      "Epoch 5/50\n",
      "128/128 [==============================] - 6s 46ms/step - loss: 2.8760 - accuracy: 0.1932 - val_loss: 2.9117 - val_accuracy: 0.1759\n",
      "Epoch 6/50\n",
      "128/128 [==============================] - 6s 47ms/step - loss: 2.8410 - accuracy: 0.2070 - val_loss: 2.9009 - val_accuracy: 0.1941\n",
      "Epoch 7/50\n",
      "128/128 [==============================] - 6s 47ms/step - loss: 2.8126 - accuracy: 0.2188 - val_loss: 2.9108 - val_accuracy: 0.1903\n",
      "Epoch 8/50\n",
      "128/128 [==============================] - 6s 48ms/step - loss: 2.7946 - accuracy: 0.2226 - val_loss: 2.9140 - val_accuracy: 0.1903\n",
      "Epoch 9/50\n",
      "128/128 [==============================] - 6s 46ms/step - loss: 2.7749 - accuracy: 0.2335 - val_loss: 2.9142 - val_accuracy: 0.1952\n",
      "Epoch 10/50\n",
      "128/128 [==============================] - 6s 48ms/step - loss: 2.7504 - accuracy: 0.2448 - val_loss: 2.9306 - val_accuracy: 0.1969\n",
      "Epoch 11/50\n",
      "128/128 [==============================] - 6s 47ms/step - loss: 2.7200 - accuracy: 0.2545 - val_loss: 2.9343 - val_accuracy: 0.2024\n",
      "Epoch 12/50\n",
      "128/128 [==============================] - 6s 48ms/step - loss: 2.6965 - accuracy: 0.2683 - val_loss: 2.9427 - val_accuracy: 0.2135\n",
      "Epoch 13/50\n",
      "128/128 [==============================] - 6s 47ms/step - loss: 2.6913 - accuracy: 0.2723 - val_loss: 2.9606 - val_accuracy: 0.1963\n",
      "Epoch 14/50\n",
      "128/128 [==============================] - 6s 47ms/step - loss: 2.6645 - accuracy: 0.2815 - val_loss: 2.9746 - val_accuracy: 0.1930\n",
      "Epoch 15/50\n",
      "128/128 [==============================] - 6s 46ms/step - loss: 2.6384 - accuracy: 0.2958 - val_loss: 2.9789 - val_accuracy: 0.1958\n",
      "Epoch 16/50\n",
      "128/128 [==============================] - 6s 46ms/step - loss: 2.6162 - accuracy: 0.3076 - val_loss: 3.0031 - val_accuracy: 0.2008\n",
      "Epoch 17/50\n",
      "128/128 [==============================] - 6s 48ms/step - loss: 2.5969 - accuracy: 0.3164 - val_loss: 3.0206 - val_accuracy: 0.1947\n",
      "Epoch 18/50\n",
      "128/128 [==============================] - 6s 46ms/step - loss: 2.5803 - accuracy: 0.3261 - val_loss: 3.0403 - val_accuracy: 0.1980\n",
      "Epoch 19/50\n",
      "128/128 [==============================] - 6s 46ms/step - loss: 2.5531 - accuracy: 0.3360 - val_loss: 3.0410 - val_accuracy: 0.1903\n",
      "Epoch 20/50\n",
      "128/128 [==============================] - 6s 46ms/step - loss: 2.5435 - accuracy: 0.3412 - val_loss: 3.0699 - val_accuracy: 0.1941\n",
      "Epoch 21/50\n",
      "128/128 [==============================] - 6s 47ms/step - loss: 2.5092 - accuracy: 0.3525 - val_loss: 3.0783 - val_accuracy: 0.1975\n",
      "Epoch 22/50\n",
      "128/128 [==============================] - 6s 46ms/step - loss: 2.4995 - accuracy: 0.3594 - val_loss: 3.0888 - val_accuracy: 0.1997\n",
      "Epoch 23/50\n",
      "128/128 [==============================] - 6s 46ms/step - loss: 2.4836 - accuracy: 0.3636 - val_loss: 3.1137 - val_accuracy: 0.2013\n",
      "Epoch 24/50\n",
      "128/128 [==============================] - 6s 46ms/step - loss: 2.4638 - accuracy: 0.3736 - val_loss: 3.1295 - val_accuracy: 0.1925\n",
      "Epoch 25/50\n",
      "128/128 [==============================] - 6s 47ms/step - loss: 2.4387 - accuracy: 0.3847 - val_loss: 3.1626 - val_accuracy: 0.2002\n",
      "Epoch 26/50\n",
      "128/128 [==============================] - 6s 46ms/step - loss: 2.4339 - accuracy: 0.3821 - val_loss: 3.1659 - val_accuracy: 0.1936\n",
      "Epoch 27/50\n",
      "128/128 [==============================] - 6s 47ms/step - loss: 2.4049 - accuracy: 0.3988 - val_loss: 3.1742 - val_accuracy: 0.1980\n",
      "Epoch 28/50\n",
      "128/128 [==============================] - 6s 46ms/step - loss: 2.4091 - accuracy: 0.3982 - val_loss: 3.1917 - val_accuracy: 0.1908\n",
      "Epoch 29/50\n",
      "128/128 [==============================] - 6s 47ms/step - loss: 2.3832 - accuracy: 0.4076 - val_loss: 3.2178 - val_accuracy: 0.1864\n",
      "Epoch 30/50\n",
      "128/128 [==============================] - 6s 47ms/step - loss: 2.3660 - accuracy: 0.4155 - val_loss: 3.2329 - val_accuracy: 0.1864\n",
      "Epoch 31/50\n",
      "128/128 [==============================] - 6s 46ms/step - loss: 2.3470 - accuracy: 0.4203 - val_loss: 3.2467 - val_accuracy: 0.1919\n",
      "Epoch 32/50\n",
      "128/128 [==============================] - 6s 47ms/step - loss: 2.3441 - accuracy: 0.4274 - val_loss: 3.2515 - val_accuracy: 0.1897\n",
      "Epoch 33/50\n",
      "128/128 [==============================] - 6s 47ms/step - loss: 2.3520 - accuracy: 0.4230 - val_loss: 3.2669 - val_accuracy: 0.1903\n",
      "Epoch 34/50\n",
      "128/128 [==============================] - 6s 48ms/step - loss: 2.3337 - accuracy: 0.4308 - val_loss: 3.2996 - val_accuracy: 0.1869\n",
      "Epoch 35/50\n",
      "128/128 [==============================] - 6s 47ms/step - loss: 2.2924 - accuracy: 0.4446 - val_loss: 3.3054 - val_accuracy: 0.1897\n",
      "Epoch 36/50\n",
      "128/128 [==============================] - 6s 50ms/step - loss: 2.2904 - accuracy: 0.4523 - val_loss: 3.3173 - val_accuracy: 0.1952\n",
      "Epoch 37/50\n",
      "128/128 [==============================] - 7s 56ms/step - loss: 2.2621 - accuracy: 0.4561 - val_loss: 3.3403 - val_accuracy: 0.1908\n",
      "Epoch 38/50\n",
      "128/128 [==============================] - 7s 53ms/step - loss: 2.2603 - accuracy: 0.4577 - val_loss: 3.3458 - val_accuracy: 0.1864\n",
      "Epoch 39/50\n",
      "128/128 [==============================] - 6s 48ms/step - loss: 2.2479 - accuracy: 0.4638 - val_loss: 3.3576 - val_accuracy: 0.1886\n",
      "Epoch 40/50\n",
      "128/128 [==============================] - 6s 47ms/step - loss: 2.2268 - accuracy: 0.4697 - val_loss: 3.3668 - val_accuracy: 0.1875\n",
      "Epoch 41/50\n",
      "128/128 [==============================] - 6s 48ms/step - loss: 2.2204 - accuracy: 0.4749 - val_loss: 3.3703 - val_accuracy: 0.1809\n",
      "Epoch 42/50\n",
      "128/128 [==============================] - 6s 48ms/step - loss: 2.2069 - accuracy: 0.4819 - val_loss: 3.3946 - val_accuracy: 0.1831\n",
      "Epoch 43/50\n",
      "128/128 [==============================] - 7s 51ms/step - loss: 2.2010 - accuracy: 0.4835 - val_loss: 3.3985 - val_accuracy: 0.1809\n",
      "Epoch 44/50\n",
      "128/128 [==============================] - 6s 48ms/step - loss: 2.1936 - accuracy: 0.4814 - val_loss: 3.4386 - val_accuracy: 0.1781\n",
      "Epoch 45/50\n",
      "128/128 [==============================] - 7s 52ms/step - loss: 2.1698 - accuracy: 0.4908 - val_loss: 3.4443 - val_accuracy: 0.1759\n",
      "Epoch 46/50\n",
      "128/128 [==============================] - 6s 49ms/step - loss: 2.1691 - accuracy: 0.4957 - val_loss: 3.4472 - val_accuracy: 0.1787\n",
      "Epoch 47/50\n",
      "128/128 [==============================] - 6s 48ms/step - loss: 2.1536 - accuracy: 0.4983 - val_loss: 3.4603 - val_accuracy: 0.1704\n",
      "Epoch 48/50\n",
      "128/128 [==============================] - 6s 47ms/step - loss: 2.1510 - accuracy: 0.5009 - val_loss: 3.4893 - val_accuracy: 0.1759\n",
      "Epoch 49/50\n",
      "128/128 [==============================] - 6s 46ms/step - loss: 2.1414 - accuracy: 0.5068 - val_loss: 3.4919 - val_accuracy: 0.1814\n",
      "Epoch 50/50\n",
      "128/128 [==============================] - 6s 47ms/step - loss: 2.1235 - accuracy: 0.5103 - val_loss: 3.4902 - val_accuracy: 0.1787\n"
     ]
    }
   ],
   "source": [
    "batch_size = 128\n",
    "history = cnn.fit(X_train, y_train, epochs=50, batch_size=batch_size, verbose=1, validation_split=0.1)"
   ]
  },
  {
   "cell_type": "code",
   "execution_count": 72,
   "metadata": {},
   "outputs": [
    {
     "data": {
      "image/png": "[encoded data removed]",
      "text/plain": [
       "<Figure size 432x288 with 1 Axes>"
      ]
     },
     "metadata": {
      "needs_background": "light"
     },
     "output_type": "display_data"
    }
   ],
   "source": [
    "plt.plot(history.history['accuracy'])\n",
    "plt.plot(history.history['val_accuracy'])\n",
    "plt.title('CNN Accuracy')\n",
    "plt.ylabel('accuracy')\n",
    "plt.xlabel('epoch')\n",
    "plt.legend(['train', 'validation'], loc='upper left')\n",
    "plt.show()"
   ]
  },
  {
   "cell_type": "code",
   "execution_count": 73,
   "metadata": {},
   "outputs": [
    {
     "data": {
      "image/png": "[encoded data removed]",
      "text/plain": [
       "<Figure size 432x288 with 1 Axes>"
      ]
     },
     "metadata": {
      "needs_background": "light"
     },
     "output_type": "display_data"
    }
   ],
   "source": [
    "plt.plot(history.history['loss'])\n",
    "plt.plot(history.history['val_loss'])\n",
    "plt.title('CNN Loss')\n",
    "plt.ylabel('loss')\n",
    "plt.xlabel('epoch')\n",
    "plt.legend(['train', 'validation'], loc='upper left')\n",
    "plt.show()"
   ]
  },
  {
   "cell_type": "code",
   "execution_count": 74,
   "metadata": {},
   "outputs": [],
   "source": [
    "y_hat = cnn.predict(X_test)"
   ]
  },
  {
   "cell_type": "code",
   "execution_count": 75,
   "metadata": {},
   "outputs": [
    {
     "data": {
      "text/plain": [
       "0.16378549958365868"
      ]
     },
     "execution_count": 75,
     "metadata": {},
     "output_type": "execute_result"
    }
   ],
   "source": [
    "f1_score(list(map(lambda x: np.argmax(x), y_test)), list(map(lambda x: np.argmax(x), y_hat)), average='weighted')"
   ]
  }
 ],
 "metadata": {
  "kernelspec": {
   "display_name": "Python 3",
   "language": "python",
   "name": "python3"
  },
  "language_info": {
   "codemirror_mode": {
    "name": "ipython",
    "version": 3
   },
   "file_extension": ".py",
   "mimetype": "text/x-python",
   "name": "python",
   "nbconvert_exporter": "python",
   "pygments_lexer": "ipython3",
   "version": "3.7.6"
  }
 },
 "nbformat": 4,
 "nbformat_minor": 4
}
